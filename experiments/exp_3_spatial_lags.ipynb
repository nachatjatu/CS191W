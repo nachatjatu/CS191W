{
 "cells": [
  {
   "cell_type": "markdown",
   "id": "1969d8ac",
   "metadata": {},
   "source": [
    "# Experiment 3: Spatial Features\n",
    "Nachat Jatusripitak\n",
    "\n",
    "In this notebook, we experiment with adding spatial features such as spatial neighborhood max, mean, etc."
   ]
  },
  {
   "cell_type": "code",
   "execution_count": null,
   "id": "4f8a286d",
   "metadata": {},
   "outputs": [],
   "source": [
    "# Import required packages\n",
    "import xgboost as xgb\n",
    "import pandas as pd\n",
    "import src.train_utils as T\n",
    "import xarray as xr\n",
    "import matplotlib.pyplot as plt\n",
    "\n",
    "plt.style.use('ggplot')  \n",
    "\n",
    "pd.set_option('display.max_columns', None)\n",
    "pd.set_option('display.expand_frame_repr', False)\n",
    "pd.set_option('display.width', None)"
   ]
  },
  {
   "cell_type": "code",
   "execution_count": null,
   "id": "aeffb410",
   "metadata": {},
   "outputs": [],
   "source": [
    "# Load dataset\n",
    "ds = xr.open_dataset('../datasets/exp_2_ds.nc')\n",
    "\n",
    "# Hold out 2022\n",
    "mask = ds.time.dt.year < 2022\n",
    "ds_excl_2022 = ds.sel(time=mask)\n",
    "\n",
    "# Add window average Delta PM2.5 (3-9 width)\n",
    "for size in range(3, 9+1, 2):\n",
    "  ds_excl_2022[f'delta_avg_{size}x{size}'] = (\n",
    "      ds_excl_2022['delta_pm25_t']\n",
    "        .rolling(i=size, j=size, center=True, min_periods=1)\n",
    "        .mean()\n",
    "  )\n",
    "\n",
    "# Add window max Delta PM2.5 (3-9 width)\n",
    "for size in range(3, 9+1, 2):\n",
    "  ds_excl_2022[f'delta_max_{size}x{size}'] = (\n",
    "      ds_excl_2022['delta_pm25_t']\n",
    "        .rolling(i=size, j=size, center=True, min_periods=1)\n",
    "        .max()\n",
    "  )\n",
    "\n",
    "# Add window average PM2.5 (3-9 width)\n",
    "for size in range(3, 9+1, 2):\n",
    "  ds_excl_2022[f'pm25_avg_{size}x{size}'] = (\n",
    "      ds_excl_2022['pm25_t']\n",
    "        .rolling(i=size, j=size, center=True, min_periods=1)\n",
    "        .mean()\n",
    "  )\n",
    "\n",
    "# Add window max Delta PM2.5 (3-9 width)\n",
    "for size in range(3, 9+1, 2):\n",
    "  ds_excl_2022[f'pm25_max_{size}x{size}'] = (\n",
    "      ds_excl_2022['pm25_t']\n",
    "        .rolling(i=size, j=size, center=True, min_periods=1)\n",
    "        .max()\n",
    "  )\n",
    "\n",
    "train_df = ds_excl_2022.to_dataframe().reset_index()"
   ]
  },
  {
   "cell_type": "markdown",
   "id": "95b5e67f",
   "metadata": {},
   "source": [
    "## Run 1: Cumulatively adding window mean $\\Delta \\text{PM}_{2.5}$"
   ]
  },
  {
   "cell_type": "code",
   "execution_count": 3,
   "id": "e8ce5ce6",
   "metadata": {},
   "outputs": [
    {
     "data": {
      "application/vnd.jupyter.widget-view+json": {
       "model_id": "ae2d0c30ffbb4f21a0a0009e6792aa95",
       "version_major": 2,
       "version_minor": 0
      },
      "text/plain": [
       "  0%|          | 0/5 [00:00<?, ?it/s]"
      ]
     },
     "metadata": {},
     "output_type": "display_data"
    },
    {
     "name": "stdout",
     "output_type": "stream",
     "text": [
      "Running experiment: base\n"
     ]
    },
    {
     "data": {
      "application/vnd.jupyter.widget-view+json": {
       "model_id": "d7d4dfbafd3f4da8aa9646a453ced8a1",
       "version_major": 2,
       "version_minor": 0
      },
      "text/plain": [
       "  0%|          | 0/10 [00:00<?, ?it/s]"
      ]
     },
     "metadata": {},
     "output_type": "display_data"
    },
    {
     "name": "stdout",
     "output_type": "stream",
     "text": [
      "Running experiment: avg_3x3\n"
     ]
    },
    {
     "data": {
      "application/vnd.jupyter.widget-view+json": {
       "model_id": "0084dddd706448db82b76e896d09c681",
       "version_major": 2,
       "version_minor": 0
      },
      "text/plain": [
       "  0%|          | 0/10 [00:00<?, ?it/s]"
      ]
     },
     "metadata": {},
     "output_type": "display_data"
    },
    {
     "name": "stdout",
     "output_type": "stream",
     "text": [
      "Running experiment: avg_3x3 + avg_5x5\n"
     ]
    },
    {
     "data": {
      "application/vnd.jupyter.widget-view+json": {
       "model_id": "090271d8001c49f5b1ecef3696aed3a8",
       "version_major": 2,
       "version_minor": 0
      },
      "text/plain": [
       "  0%|          | 0/10 [00:00<?, ?it/s]"
      ]
     },
     "metadata": {},
     "output_type": "display_data"
    },
    {
     "name": "stdout",
     "output_type": "stream",
     "text": [
      "Running experiment: avg_3x3 + avg_5x5 + avg_7x7\n"
     ]
    },
    {
     "data": {
      "application/vnd.jupyter.widget-view+json": {
       "model_id": "1c40f7f685d446fc8d966396ff7208bc",
       "version_major": 2,
       "version_minor": 0
      },
      "text/plain": [
       "  0%|          | 0/10 [00:00<?, ?it/s]"
      ]
     },
     "metadata": {},
     "output_type": "display_data"
    },
    {
     "name": "stdout",
     "output_type": "stream",
     "text": [
      "Running experiment: avg_3x3 + avg_5x5 + avg_7x7 + avg_9x9\n"
     ]
    },
    {
     "data": {
      "application/vnd.jupyter.widget-view+json": {
       "model_id": "bb96ae329a6c436a80757623c56c7d3e",
       "version_major": 2,
       "version_minor": 0
      },
      "text/plain": [
       "  0%|          | 0/10 [00:00<?, ?it/s]"
      ]
     },
     "metadata": {},
     "output_type": "display_data"
    },
    {
     "name": "stdout",
     "output_type": "stream",
     "text": [
      "                              experiment  n_features  mean_rmse  mean_mae  rmse_fold_1  rmse_fold_2  rmse_fold_3  rmse_fold_4  rmse_fold_5  rmse_fold_6  rmse_fold_7  rmse_fold_8  rmse_fold_9  rmse_fold_10\n",
      "4  avg_3x3 + avg_5x5 + avg_7x7 + avg_9x9          18   4.315336  2.920081     1.630988     4.959289     5.070510     8.559132    13.242182     2.014808     0.906327     0.986028     1.816242      3.967858\n",
      "2                      avg_3x3 + avg_5x5          16   4.325714  2.931542     1.658965     4.922441     5.080154     8.535922    13.277117     2.029681     0.911004     0.990706     1.838732      4.012414\n",
      "3            avg_3x3 + avg_5x5 + avg_7x7          17   4.331561  2.930326     1.642861     4.932056     5.090826     8.548819    13.367299     2.023514     0.909284     0.989053     1.825234      3.986660\n",
      "0                                   base          14   4.349951  2.954707     1.664721     4.967060     5.097207     8.597681    13.325319     2.052519     0.914111     0.991727     1.853162      4.036003\n",
      "1                                avg_3x3          15   4.357623  2.951776     1.658486     5.006152     5.112051     8.551771    13.401858     2.048788     0.913887     0.989992     1.851330      4.041913\n"
     ]
    }
   ],
   "source": [
    "base = ['delta_pm25_t', 'delta_pm25_t-1', 'delta_pm25_t-2', 'delta_pm25_t-3', 'pm25_t', 'u_wind_t', 'v_wind_t',\n",
    "       'dew_temp_t', 'temp_t', 'surf_pressure_t', 'precip_t',\n",
    "       'frp_t', 'elevation_t', 'r_humidity_t']\n",
    "\n",
    "\n",
    "params = {\n",
    "    'max_depth': 4,            \n",
    "    'learning_rate': 0.1,     \n",
    "    'n_estimators': 150,     \n",
    "    'subsample': 0.8,          \n",
    "    'colsample_bytree': 0.8,   \n",
    "    'objective': 'reg:pseudohubererror'   \n",
    "}\n",
    "\n",
    "feature_experiments = [('base', base)] + [\n",
    "    (\n",
    "        \" + \".join(f\"avg_{j}x{j}\" for j in range(3, t+1, 2)),\n",
    "        base + [f\"delta_avg_{size}x{size}\" for size in range(3, t+1, 2)]\n",
    "    )\n",
    "    for t in range(3, 9+1, 2)\n",
    "]\n",
    "\n",
    "model=xgb.XGBRegressor(**params, random_state=191)\n",
    "\n",
    "results = T.run_experiments(\n",
    "    df=train_df, \n",
    "    model=model, \n",
    "    feature_experiments=feature_experiments, \n",
    "    train_days=365*2,\n",
    "    gap_days=21,\n",
    "    val_days=49\n",
    ")\n",
    "\n",
    "print(results.sort_values('mean_rmse'))"
   ]
  },
  {
   "cell_type": "code",
   "execution_count": null,
   "id": "81202bb4",
   "metadata": {},
   "outputs": [
    {
     "name": "stdout",
     "output_type": "stream",
     "text": [
      "                           experiment  mean_rmse\n",
      "                              avg_3x3      4.358\n",
      "                                 base      4.350\n",
      "          avg_3x3 + avg_5x5 + avg_7x7      4.332\n",
      "                    avg_3x3 + avg_5x5      4.326\n",
      "avg_3x3 + avg_5x5 + avg_7x7 + avg_9x9      4.315\n"
     ]
    },
    {
     "data": {
      "image/png": "[encoded data removed]",
      "text/plain": [
       "<Figure size 1000x600 with 1 Axes>"
      ]
     },
     "metadata": {},
     "output_type": "display_data"
    }
   ],
   "source": [
    "df = results\n",
    "\n",
    "# Sort by mean_rmse ascending\n",
    "df_sorted = df.sort_values(\"mean_rmse\", ascending=False)\n",
    "\n",
    "# Display the sorted DataFrame (experiment and mean_rmse)\n",
    "display_df = df_sorted[[\"experiment\", \"mean_rmse\"]].copy()\n",
    "display_df[\"mean_rmse\"] = display_df[\"mean_rmse\"].round(3)\n",
    "\n",
    "print(display_df.to_string(index=False))\n",
    "\n",
    "plt.figure(figsize=(10, 6))\n",
    "bars = plt.bar(display_df[\"experiment\"], display_df[\"mean_rmse\"], color='#27aeef')\n",
    "plt.ylim(display_df[\"mean_rmse\"].min() - 0.01, display_df[\"mean_rmse\"].max() + 0.01)\n",
    "plt.xticks(rotation=10, ha=\"right\")\n",
    "plt.xlabel(\"Experiment\", fontsize=12)\n",
    "plt.ylabel(\"Mean RMSE\", fontsize=12)\n",
    "\n",
    "for bar, mean in zip(bars, display_df[\"mean_rmse\"]):\n",
    "    y = bar.get_height()\n",
    "    plt.text(bar.get_x() + bar.get_width() / 2, y + 0.002, f\"{mean:.3f}\", \n",
    "             ha='center', va='bottom', fontsize=10)\n",
    "\n",
    "plt.title(\"Mean RMSE vs. Spatial Mean-Pooling (Delta PM2.5)\", fontsize=14)\n",
    "\n",
    "plt.tight_layout()\n",
    "plt.show()\n"
   ]
  },
  {
   "cell_type": "markdown",
   "id": "28048e6f",
   "metadata": {},
   "source": [
    "## Run 2: Cumulatively adding window mean $\\text{PM}_{2.5}$"
   ]
  },
  {
   "cell_type": "code",
   "execution_count": 5,
   "id": "d502f1a8",
   "metadata": {},
   "outputs": [
    {
     "data": {
      "application/vnd.jupyter.widget-view+json": {
       "model_id": "73bb85286cb341898542fa39bd2133d8",
       "version_major": 2,
       "version_minor": 0
      },
      "text/plain": [
       "  0%|          | 0/5 [00:00<?, ?it/s]"
      ]
     },
     "metadata": {},
     "output_type": "display_data"
    },
    {
     "name": "stdout",
     "output_type": "stream",
     "text": [
      "Running experiment: base\n"
     ]
    },
    {
     "data": {
      "application/vnd.jupyter.widget-view+json": {
       "model_id": "33cccb91e61f45d88a1a1856f4f81922",
       "version_major": 2,
       "version_minor": 0
      },
      "text/plain": [
       "  0%|          | 0/10 [00:00<?, ?it/s]"
      ]
     },
     "metadata": {},
     "output_type": "display_data"
    },
    {
     "name": "stdout",
     "output_type": "stream",
     "text": [
      "Running experiment: avg_3x3\n"
     ]
    },
    {
     "data": {
      "application/vnd.jupyter.widget-view+json": {
       "model_id": "b735c8530832490d9c2d173cd23cf5b1",
       "version_major": 2,
       "version_minor": 0
      },
      "text/plain": [
       "  0%|          | 0/10 [00:00<?, ?it/s]"
      ]
     },
     "metadata": {},
     "output_type": "display_data"
    },
    {
     "name": "stdout",
     "output_type": "stream",
     "text": [
      "Running experiment: avg_3x3 + avg_5x5\n"
     ]
    },
    {
     "data": {
      "application/vnd.jupyter.widget-view+json": {
       "model_id": "a21dd29f4a1c466ba5d75b62bb734c12",
       "version_major": 2,
       "version_minor": 0
      },
      "text/plain": [
       "  0%|          | 0/10 [00:00<?, ?it/s]"
      ]
     },
     "metadata": {},
     "output_type": "display_data"
    },
    {
     "name": "stdout",
     "output_type": "stream",
     "text": [
      "Running experiment: avg_3x3 + avg_5x5 + avg_7x7\n"
     ]
    },
    {
     "data": {
      "application/vnd.jupyter.widget-view+json": {
       "model_id": "7f6c23e42a9a47f8b78336ff6ecf6227",
       "version_major": 2,
       "version_minor": 0
      },
      "text/plain": [
       "  0%|          | 0/10 [00:00<?, ?it/s]"
      ]
     },
     "metadata": {},
     "output_type": "display_data"
    },
    {
     "name": "stdout",
     "output_type": "stream",
     "text": [
      "Running experiment: avg_3x3 + avg_5x5 + avg_7x7 + avg_9x9\n"
     ]
    },
    {
     "data": {
      "application/vnd.jupyter.widget-view+json": {
       "model_id": "4373345c61c14c809559b7aa025825d0",
       "version_major": 2,
       "version_minor": 0
      },
      "text/plain": [
       "  0%|          | 0/10 [00:00<?, ?it/s]"
      ]
     },
     "metadata": {},
     "output_type": "display_data"
    },
    {
     "name": "stdout",
     "output_type": "stream",
     "text": [
      "                              experiment  n_features  mean_rmse  mean_mae  rmse_fold_1  rmse_fold_2  rmse_fold_3  rmse_fold_4  rmse_fold_5  rmse_fold_6  rmse_fold_7  rmse_fold_8  rmse_fold_9  rmse_fold_10\n",
      "4  avg_3x3 + avg_5x5 + avg_7x7 + avg_9x9          18   4.317625  2.929121     1.643137     4.882556     5.080274     8.476181    13.264721     2.030047     0.913943     0.995780     1.853109      4.036507\n",
      "2                      avg_3x3 + avg_5x5          16   4.340360  2.945249     1.658180     4.918976     5.129748     8.548816    13.282225     2.043581     0.914023     0.993527     1.855440      4.059088\n",
      "3            avg_3x3 + avg_5x5 + avg_7x7          17   4.343682  2.943208     1.653956     4.983131     5.097806     8.559794    13.296620     2.039999     0.916828     0.992835     1.852081      4.043769\n",
      "0                                   base          14   4.349951  2.954707     1.664721     4.967060     5.097207     8.597681    13.325319     2.052519     0.914111     0.991727     1.853162      4.036003\n",
      "1                                avg_3x3          15   4.367390  2.954444     1.663380     5.003514     5.102549     8.568512    13.493450     2.040279     0.913003     0.994841     1.852647      4.041728\n"
     ]
    }
   ],
   "source": [
    "base = ['delta_pm25_t', 'delta_pm25_t-1', 'delta_pm25_t-2', 'delta_pm25_t-3', 'pm25_t', 'u_wind_t', 'v_wind_t',\n",
    "       'dew_temp_t', 'temp_t', 'surf_pressure_t', 'precip_t',\n",
    "       'frp_t', 'elevation_t', 'r_humidity_t']\n",
    "\n",
    "\n",
    "params = {\n",
    "    'max_depth': 4,            \n",
    "    'learning_rate': 0.1,     \n",
    "    'n_estimators': 150,     \n",
    "    'subsample': 0.8,          \n",
    "    'colsample_bytree': 0.8,   \n",
    "    'objective': 'reg:pseudohubererror'   \n",
    "}\n",
    "\n",
    "feature_experiments = [('base', base)] + [\n",
    "    (\n",
    "        \" + \".join(f\"avg_{j}x{j}\" for j in range(3, t+1, 2)),\n",
    "        base + [f\"pm25_avg_{size}x{size}\" for size in range(3, t+1, 2)]\n",
    "    )\n",
    "    for t in range(3, 9+1, 2)\n",
    "]\n",
    "\n",
    "model=xgb.XGBRegressor(**params, random_state=191)\n",
    "\n",
    "results = T.run_experiments(\n",
    "    df=train_df, \n",
    "    model=model, \n",
    "    feature_experiments=feature_experiments, \n",
    "    train_days=365*2,\n",
    "    gap_days=21,\n",
    "    val_days=49\n",
    ")\n",
    "\n",
    "print(results.sort_values('mean_rmse'))"
   ]
  },
  {
   "cell_type": "markdown",
   "id": "c2a1ebbc",
   "metadata": {},
   "source": [
    "## Run 3: Cumulatively adding window max $\\text{PM}_{2.5}$"
   ]
  },
  {
   "cell_type": "code",
   "execution_count": 6,
   "id": "06b3ba78",
   "metadata": {},
   "outputs": [
    {
     "data": {
      "application/vnd.jupyter.widget-view+json": {
       "model_id": "5acf2b7ed01b4129a94c38b477910e9e",
       "version_major": 2,
       "version_minor": 0
      },
      "text/plain": [
       "  0%|          | 0/5 [00:00<?, ?it/s]"
      ]
     },
     "metadata": {},
     "output_type": "display_data"
    },
    {
     "name": "stdout",
     "output_type": "stream",
     "text": [
      "Running experiment: base\n"
     ]
    },
    {
     "data": {
      "application/vnd.jupyter.widget-view+json": {
       "model_id": "633ecbb67e7d499382a8ef1e5a27a086",
       "version_major": 2,
       "version_minor": 0
      },
      "text/plain": [
       "  0%|          | 0/10 [00:00<?, ?it/s]"
      ]
     },
     "metadata": {},
     "output_type": "display_data"
    },
    {
     "name": "stdout",
     "output_type": "stream",
     "text": [
      "Running experiment: max_3x3\n"
     ]
    },
    {
     "data": {
      "application/vnd.jupyter.widget-view+json": {
       "model_id": "0b9ae0b1ddda4d97b79470b23762d5c2",
       "version_major": 2,
       "version_minor": 0
      },
      "text/plain": [
       "  0%|          | 0/10 [00:00<?, ?it/s]"
      ]
     },
     "metadata": {},
     "output_type": "display_data"
    },
    {
     "name": "stdout",
     "output_type": "stream",
     "text": [
      "Running experiment: max_3x3 + max_5x5\n"
     ]
    },
    {
     "data": {
      "application/vnd.jupyter.widget-view+json": {
       "model_id": "d71ce2bc60674c7eb214391a8f0ad3e4",
       "version_major": 2,
       "version_minor": 0
      },
      "text/plain": [
       "  0%|          | 0/10 [00:00<?, ?it/s]"
      ]
     },
     "metadata": {},
     "output_type": "display_data"
    },
    {
     "name": "stdout",
     "output_type": "stream",
     "text": [
      "Running experiment: max_3x3 + max_5x5 + max_7x7\n"
     ]
    },
    {
     "data": {
      "application/vnd.jupyter.widget-view+json": {
       "model_id": "bf0e6518849b47be847c4e96346b0b2c",
       "version_major": 2,
       "version_minor": 0
      },
      "text/plain": [
       "  0%|          | 0/10 [00:00<?, ?it/s]"
      ]
     },
     "metadata": {},
     "output_type": "display_data"
    },
    {
     "name": "stdout",
     "output_type": "stream",
     "text": [
      "Running experiment: max_3x3 + max_5x5 + max_7x7 + max_9x9\n"
     ]
    },
    {
     "data": {
      "application/vnd.jupyter.widget-view+json": {
       "model_id": "749bc3ca9b7342b5b9fc55ec79d090d9",
       "version_major": 2,
       "version_minor": 0
      },
      "text/plain": [
       "  0%|          | 0/10 [00:00<?, ?it/s]"
      ]
     },
     "metadata": {},
     "output_type": "display_data"
    },
    {
     "name": "stdout",
     "output_type": "stream",
     "text": [
      "                              experiment  n_features  mean_rmse  mean_mae  rmse_fold_1  rmse_fold_2  rmse_fold_3  rmse_fold_4  rmse_fold_5  rmse_fold_6  rmse_fold_7  rmse_fold_8  rmse_fold_9  rmse_fold_10\n",
      "2                      max_3x3 + max_5x5          16   4.343244  2.954100     1.674654     4.917892     5.125646     8.535884    13.329102     2.045194     0.914963     0.993568     1.855721      4.039815\n",
      "4  max_3x3 + max_5x5 + max_7x7 + max_9x9          18   4.348549  2.952707     1.674786     5.028594     5.098520     8.495287    13.360435     2.047834     0.915824     0.992830     1.854081      4.017302\n",
      "0                                   base          14   4.349951  2.954707     1.664721     4.967060     5.097207     8.597681    13.325319     2.052519     0.914111     0.991727     1.853162      4.036003\n",
      "3            max_3x3 + max_5x5 + max_7x7          17   4.351039  2.951092     1.672505     4.918397     5.098274     8.522681    13.457824     2.037835     0.915900     0.996003     1.855032      4.035938\n",
      "1                                max_3x3          15   4.379458  2.961263     1.662449     4.982007     5.088633     8.567617    13.620523     2.044438     0.914496     0.992767     1.858076      4.063579\n"
     ]
    }
   ],
   "source": [
    "base = ['delta_pm25_t', 'delta_pm25_t-1', 'delta_pm25_t-2', 'delta_pm25_t-3', 'pm25_t', 'u_wind_t', 'v_wind_t',\n",
    "       'dew_temp_t', 'temp_t', 'surf_pressure_t', 'precip_t',\n",
    "       'frp_t', 'elevation_t', 'r_humidity_t']\n",
    "\n",
    "\n",
    "params = {\n",
    "    'max_depth': 4,            \n",
    "    'learning_rate': 0.1,     \n",
    "    'n_estimators': 150,     \n",
    "    'subsample': 0.8,          \n",
    "    'colsample_bytree': 0.8,   \n",
    "    'objective': 'reg:pseudohubererror'   \n",
    "}\n",
    "\n",
    "feature_experiments = [('base', base)] + [\n",
    "    (\n",
    "        \" + \".join(f\"max_{j}x{j}\" for j in range(3, t+1, 2)),\n",
    "        base + [f\"pm25_max_{size}x{size}\" for size in range(3, t+1, 2)]\n",
    "    )\n",
    "    for t in range(3, 9+1, 2)\n",
    "]\n",
    "\n",
    "model=xgb.XGBRegressor(**params, random_state=191)\n",
    "\n",
    "results = T.run_experiments(\n",
    "    df=train_df, \n",
    "    model=model, \n",
    "    feature_experiments=feature_experiments, \n",
    "    train_days=365*2,\n",
    "    gap_days=21,\n",
    "    val_days=49\n",
    ")\n",
    "\n",
    "print(results.sort_values('mean_rmse'))"
   ]
  },
  {
   "cell_type": "markdown",
   "id": "9aea80a2",
   "metadata": {},
   "source": [
    "## Run 4: Cumulatively adding both window mean $\\text{PM}_{2.5}, \\Delta \\text{PM}_{2.5}$"
   ]
  },
  {
   "cell_type": "code",
   "execution_count": 42,
   "id": "73fc68c0",
   "metadata": {},
   "outputs": [
    {
     "data": {
      "application/vnd.jupyter.widget-view+json": {
       "model_id": "238c6fa1414e447fb9dea4315f1a3bf7",
       "version_major": 2,
       "version_minor": 0
      },
      "text/plain": [
       "  0%|          | 0/5 [00:00<?, ?it/s]"
      ]
     },
     "metadata": {},
     "output_type": "display_data"
    },
    {
     "name": "stdout",
     "output_type": "stream",
     "text": [
      "Running experiment: base\n"
     ]
    },
    {
     "data": {
      "application/vnd.jupyter.widget-view+json": {
       "model_id": "ea7ac7d10e364e189db3e9d74663e71d",
       "version_major": 2,
       "version_minor": 0
      },
      "text/plain": [
       "  0%|          | 0/10 [00:00<?, ?it/s]"
      ]
     },
     "metadata": {},
     "output_type": "display_data"
    },
    {
     "name": "stdout",
     "output_type": "stream",
     "text": [
      "Running experiment: base + 3x3\n"
     ]
    },
    {
     "data": {
      "application/vnd.jupyter.widget-view+json": {
       "model_id": "44501d6b84fd4172949dbdced5b91872",
       "version_major": 2,
       "version_minor": 0
      },
      "text/plain": [
       "  0%|          | 0/10 [00:00<?, ?it/s]"
      ]
     },
     "metadata": {},
     "output_type": "display_data"
    },
    {
     "name": "stdout",
     "output_type": "stream",
     "text": [
      "Running experiment: base + 3x3 + 5x5\n"
     ]
    },
    {
     "data": {
      "application/vnd.jupyter.widget-view+json": {
       "model_id": "94f8561bf939424faf5264ad1d7f1174",
       "version_major": 2,
       "version_minor": 0
      },
      "text/plain": [
       "  0%|          | 0/10 [00:00<?, ?it/s]"
      ]
     },
     "metadata": {},
     "output_type": "display_data"
    },
    {
     "name": "stdout",
     "output_type": "stream",
     "text": [
      "Running experiment: base + 3x3 + 5x5 + 7x7\n"
     ]
    },
    {
     "data": {
      "application/vnd.jupyter.widget-view+json": {
       "model_id": "ff5373b895b446afbbab127dd40a7c06",
       "version_major": 2,
       "version_minor": 0
      },
      "text/plain": [
       "  0%|          | 0/10 [00:00<?, ?it/s]"
      ]
     },
     "metadata": {},
     "output_type": "display_data"
    },
    {
     "name": "stdout",
     "output_type": "stream",
     "text": [
      "Running experiment: base + 3x3 + 5x5 + 7x7 + 9x9\n"
     ]
    },
    {
     "data": {
      "application/vnd.jupyter.widget-view+json": {
       "model_id": "bd025baf62fb428d8e4f502ebac69f93",
       "version_major": 2,
       "version_minor": 0
      },
      "text/plain": [
       "  0%|          | 0/10 [00:00<?, ?it/s]"
      ]
     },
     "metadata": {},
     "output_type": "display_data"
    },
    {
     "name": "stdout",
     "output_type": "stream",
     "text": [
      "                     experiment  n_features  mean_rmse  rmse_fold_1  rmse_fold_2  rmse_fold_3  rmse_fold_4  rmse_fold_5  rmse_fold_6  rmse_fold_7  rmse_fold_8  rmse_fold_9  rmse_fold_10\n",
      "4  base + 3x3 + 5x5 + 7x7 + 9x9          22   4.305515     1.628045     4.921942     5.070904     8.533576    13.221898     2.010702     0.907677     0.987360     1.818998      3.954049\n",
      "3        base + 3x3 + 5x5 + 7x7          20   4.306909     1.642962     4.836926     5.089482     8.517203    13.221134     2.025471     0.910537     0.990027     1.829154      4.006194\n",
      "2              base + 3x3 + 5x5          18   4.342617     1.654456     4.857598     5.097371     8.566828    13.453216     2.034858     0.911894     0.991204     1.839023      4.019717\n",
      "1                    base + 3x3          16   4.347186     1.665710     4.971091     5.131628     8.600533    13.263844     2.046591     0.913420     0.991148     1.851475      4.036423\n",
      "0                          base          14   4.349951     1.664721     4.967060     5.097207     8.597681    13.325319     2.052519     0.914111     0.991727     1.853162      4.036003\n"
     ]
    }
   ],
   "source": [
    "base = ['delta_pm25_t', 'delta_pm25_t-1', 'delta_pm25_t-2', 'delta_pm25_t-3', 'pm25_t', 'u_wind_t', 'v_wind_t',\n",
    "       'dew_temp_t', 'temp_t', 'surf_pressure_t', 'precip_t',\n",
    "       'frp_t', 'elevation_t', 'r_humidity_t']\n",
    "\n",
    "\n",
    "params = {\n",
    "    'max_depth': 4,            \n",
    "    'learning_rate': 0.1,     \n",
    "    'n_estimators': 150,     \n",
    "    'subsample': 0.8,          \n",
    "    'colsample_bytree': 0.8,   \n",
    "    'objective': 'reg:pseudohubererror'   \n",
    "}\n",
    "\n",
    "feature_experiments = [('base', base)] + [\n",
    "    ('base + 3x3', base + [\"delta_avg_3x3\", \"pm25_avg_3x3\"]),\n",
    "    ('base + 3x3 + 5x5', base + [\"delta_avg_3x3\", \"pm25_avg_3x3\", \"delta_avg_5x5\", \"pm25_avg_5x5\"]),\n",
    "    ('base + 3x3 + 5x5 + 7x7', base + [\"delta_avg_3x3\", \"pm25_avg_3x3\", \"delta_avg_5x5\", \"pm25_avg_5x5\", \"delta_avg_7x7\", \"pm25_avg_7x7\"]),\n",
    "    ('base + 3x3 + 5x5 + 7x7 + 9x9', base + [\"delta_avg_3x3\", \"pm25_avg_3x3\", \"delta_avg_5x5\", \"pm25_avg_5x5\", \"delta_avg_7x7\", \"pm25_avg_7x7\", \"delta_avg_9x9\", \"pm25_avg_9x9\"]),\n",
    "]\n",
    "\n",
    "model=xgb.XGBRegressor(**params, random_state=191)\n",
    "\n",
    "results = T.run_experiments(\n",
    "    df=train_df, \n",
    "    model=model, \n",
    "    feature_experiments=feature_experiments, \n",
    "    train_days=365*2,\n",
    "    gap_days=21,\n",
    "    val_days=49\n",
    ")\n",
    "\n",
    "print(results.sort_values('mean_rmse'))"
   ]
  },
  {
   "cell_type": "code",
   "execution_count": null,
   "id": "b73af1ab",
   "metadata": {},
   "outputs": [],
   "source": [
    "# Export dataset with best features\n",
    "\n",
    "for size in range(3, 9+1, 2):\n",
    "  ds[f'delta_pm25_avg_{size}x{size}'] = (\n",
    "      ds['delta_pm25_t']\n",
    "        .rolling(i=size, j=size, center=True, min_periods=1)\n",
    "        .mean()\n",
    "  )\n",
    "\n",
    "for size in range(3, 9+1, 2):\n",
    "  ds[f'pm25_avg_{size}x{size}'] = (\n",
    "      ds['pm25_t']\n",
    "        .rolling(i=size, j=size, center=True, min_periods=1)\n",
    "        .mean()\n",
    "  )\n",
    "\n",
    "ds = ds.dropna(dim=\"time\", how=\"any\")\n",
    "\n",
    "ds.to_netcdf(\n",
    "    \"exp_3_ds.nc\",\n",
    "    format=\"NETCDF4\",       # HDF5-backed NetCDF\n",
    "    engine=\"netcdf4\",      # or \"netcdf4\" if you have that\n",
    "    encoding={\n",
    "        var: {\n",
    "            \"zlib\": True,\n",
    "            \"complevel\": 4,\n",
    "        }\n",
    "        for var in ds.data_vars\n",
    "    }\n",
    ")"
   ]
  }
 ],
 "metadata": {
  "kernelspec": {
   "display_name": "CS191W",
   "language": "python",
   "name": "python3"
  },
  "language_info": {
   "codemirror_mode": {
    "name": "ipython",
    "version": 3
   },
   "file_extension": ".py",
   "mimetype": "text/x-python",
   "name": "python",
   "nbconvert_exporter": "python",
   "pygments_lexer": "ipython3",
   "version": "3.11.9"
  }
 },
 "nbformat": 4,
 "nbformat_minor": 5
}
