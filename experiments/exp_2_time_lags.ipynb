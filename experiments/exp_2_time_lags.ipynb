{
 "cells": [
  {
   "cell_type": "code",
   "execution_count": 20,
   "id": "002a9c39",
   "metadata": {},
   "outputs": [],
   "source": [
    "import xgboost as xgb\n",
    "import pandas as pd\n",
    "import src.train_utils as T\n",
    "import xarray as xr\n",
    "import matplotlib.pyplot as plt\n",
    "import seaborn as sns\n",
    "\n",
    "plt.style.use('ggplot')  # Try 'ggplot' as an alternative\n",
    "\n",
    "# 1) show every column\n",
    "pd.set_option('display.max_columns', None)\n",
    "\n",
    "# 2) disable automatic expansion/wrapping\n",
    "pd.set_option('display.expand_frame_repr', False)\n",
    "\n",
    "# 3) bump the console width way up (or to None for ‘no limit’)\n",
    "pd.set_option('display.width', None)"
   ]
  },
  {
   "cell_type": "code",
   "execution_count": 2,
   "id": "5a1383cf",
   "metadata": {},
   "outputs": [
    {
     "name": "stderr",
     "output_type": "stream",
     "text": [
      "OMP: Info #276: omp_set_nested routine deprecated, please use omp_set_max_active_levels instead.\n"
     ]
    }
   ],
   "source": [
    "ds = xr.open_dataset('../datasets/exp_1_ds.nc')\n",
    "mask = ds.time.dt.year < 2022\n",
    "ds_excl_2022 = ds.sel(time=mask)\n",
    "for t in range(1, 7+1):\n",
    "    ds_excl_2022[f'delta_pm25_t-{t}'] = ds_excl_2022['delta_pm25_t'].shift(time=t)\n",
    "\n",
    "for t in range(2, 11+1):\n",
    "    ds_excl_2022[f'delta_pm25_ma{t}'] = ds_excl_2022['delta_pm25_t'].rolling(time=t, center=False, min_periods=1).mean()\n",
    "    \n",
    "ds_excl_2022 = ds_excl_2022.dropna(dim=\"time\", how=\"any\")\n",
    "train_df = ds_excl_2022.to_dataframe().reset_index()"
   ]
  },
  {
   "cell_type": "code",
   "execution_count": 3,
   "id": "1205e531",
   "metadata": {},
   "outputs": [
    {
     "data": {
      "application/vnd.jupyter.widget-view+json": {
       "model_id": "29c4a816930d4282837d2ca9de42c317",
       "version_major": 2,
       "version_minor": 0
      },
      "text/plain": [
       "  0%|          | 0/6 [00:00<?, ?it/s]"
      ]
     },
     "metadata": {},
     "output_type": "display_data"
    },
    {
     "name": "stdout",
     "output_type": "stream",
     "text": [
      "Running experiment: base\n"
     ]
    },
    {
     "data": {
      "application/vnd.jupyter.widget-view+json": {
       "model_id": "0d808bc47d464d74a82dde84fd7d597a",
       "version_major": 2,
       "version_minor": 0
      },
      "text/plain": [
       "  0%|          | 0/10 [00:00<?, ?it/s]"
      ]
     },
     "metadata": {},
     "output_type": "display_data"
    },
    {
     "name": "stdout",
     "output_type": "stream",
     "text": [
      "Running experiment: ma3\n"
     ]
    },
    {
     "data": {
      "application/vnd.jupyter.widget-view+json": {
       "model_id": "76b7da58150c43c7b1645f2e2255fa4a",
       "version_major": 2,
       "version_minor": 0
      },
      "text/plain": [
       "  0%|          | 0/10 [00:00<?, ?it/s]"
      ]
     },
     "metadata": {},
     "output_type": "display_data"
    },
    {
     "name": "stdout",
     "output_type": "stream",
     "text": [
      "Running experiment: ma3 + ma5\n"
     ]
    },
    {
     "data": {
      "application/vnd.jupyter.widget-view+json": {
       "model_id": "c1800bff290548828c2c0b3e46ccc738",
       "version_major": 2,
       "version_minor": 0
      },
      "text/plain": [
       "  0%|          | 0/10 [00:00<?, ?it/s]"
      ]
     },
     "metadata": {},
     "output_type": "display_data"
    },
    {
     "name": "stdout",
     "output_type": "stream",
     "text": [
      "Running experiment: ma3 + ma5 + ma7\n"
     ]
    },
    {
     "data": {
      "application/vnd.jupyter.widget-view+json": {
       "model_id": "8000e6ccd3e9433bb09e78ef15be2323",
       "version_major": 2,
       "version_minor": 0
      },
      "text/plain": [
       "  0%|          | 0/10 [00:00<?, ?it/s]"
      ]
     },
     "metadata": {},
     "output_type": "display_data"
    },
    {
     "name": "stdout",
     "output_type": "stream",
     "text": [
      "Running experiment: ma3 + ma5 + ma7 + ma9\n"
     ]
    },
    {
     "data": {
      "application/vnd.jupyter.widget-view+json": {
       "model_id": "02c729a2203d4e4c9d5751b6be988817",
       "version_major": 2,
       "version_minor": 0
      },
      "text/plain": [
       "  0%|          | 0/10 [00:00<?, ?it/s]"
      ]
     },
     "metadata": {},
     "output_type": "display_data"
    },
    {
     "name": "stdout",
     "output_type": "stream",
     "text": [
      "Running experiment: ma3 + ma5 + ma7 + ma9 + ma11\n"
     ]
    },
    {
     "data": {
      "application/vnd.jupyter.widget-view+json": {
       "model_id": "dbdf630ea1c54002b74315499ea82425",
       "version_major": 2,
       "version_minor": 0
      },
      "text/plain": [
       "  0%|          | 0/10 [00:00<?, ?it/s]"
      ]
     },
     "metadata": {},
     "output_type": "display_data"
    },
    {
     "name": "stdout",
     "output_type": "stream",
     "text": [
      "                     experiment  n_features  mean_rmse  mean_mae  rmse_fold_1  rmse_fold_2  rmse_fold_3  rmse_fold_4  rmse_fold_5  rmse_fold_6  rmse_fold_7  rmse_fold_8  rmse_fold_9  rmse_fold_10\n",
      "0                          base          11   4.361622  2.964671     1.675788     4.937968     5.101307     8.723355    13.218467     2.039777     0.916728     1.001423     1.863846      4.137558\n",
      "3               ma3 + ma5 + ma7          14   4.371268  2.977423     1.662767     5.008796     5.023354     8.617089    13.529491     2.064190     0.910839     0.977295     1.854592      4.064268\n",
      "1                           ma3          12   4.373499  2.964785     1.637634     5.130383     5.107080     8.651720    13.390641     2.043499     0.908833     0.996614     1.840881      4.027705\n",
      "4         ma3 + ma5 + ma7 + ma9          15   4.376895  2.987277     1.654541     4.957548     5.020148     8.617474    13.710630     2.063943     0.913637     0.973591     1.859605      3.997827\n",
      "2                     ma3 + ma5          13   4.381582  2.980672     1.646467     4.925737     5.102442     8.650800    13.646203     2.055826     0.911536     0.979661     1.853883      4.043269\n",
      "5  ma3 + ma5 + ma7 + ma9 + ma11          16   4.399756  2.994249     1.658025     4.973835     5.058505     8.654375    13.879328     2.073540     0.914473     0.972152     1.861111      3.952221\n"
     ]
    }
   ],
   "source": [
    "base = ['delta_pm25_t', 'pm25_t', 'u_wind_t', 'v_wind_t',\n",
    "       'dew_temp_t', 'temp_t', 'surf_pressure_t', 'precip_t',\n",
    "       'frp_t', 'elevation_t', 'r_humidity_t']\n",
    "\n",
    "\n",
    "params = {\n",
    "    'max_depth': 4,            \n",
    "    'learning_rate': 0.1,     \n",
    "    'n_estimators': 150,     \n",
    "    'subsample': 0.8,          \n",
    "    'colsample_bytree': 0.8,   \n",
    "    'objective': 'reg:pseudohubererror'   \n",
    "}\n",
    "\n",
    "feature_experiments = [('base', base)] + [\n",
    "    (\n",
    "        \" + \".join(f\"ma{j}\" for j in range(3, t+1, 2)),\n",
    "        base + [f\"delta_pm25_ma{j}\" for j in range(3, t+1, 2)]\n",
    "    )\n",
    "    for t in range(3, 11+1, 2)\n",
    "]\n",
    "\n",
    "model=xgb.XGBRegressor(**params, random_state=191)\n",
    "\n",
    "results = T.run_experiments(\n",
    "    df=train_df, \n",
    "    model=model, \n",
    "    feature_experiments=feature_experiments, \n",
    "    train_days=365*2,\n",
    "    gap_days=21,\n",
    "    val_days=49\n",
    ")\n",
    "\n",
    "print(results.sort_values('mean_rmse'))"
   ]
  },
  {
   "cell_type": "code",
   "execution_count": 12,
   "id": "1aaf0f7e",
   "metadata": {},
   "outputs": [
    {
     "data": {
      "image/png": "[encoded data removed]",
      "text/plain": [
       "<Figure size 800x450 with 1 Axes>"
      ]
     },
     "metadata": {},
     "output_type": "display_data"
    }
   ],
   "source": [
    "results = results.sort_values(\"mean_rmse\")\n",
    "\n",
    "plt.figure(figsize=(8, 4.5))\n",
    "bars = plt.barh(results[\"experiment\"], results[\"mean_rmse\"], color=\"steelblue\")\n",
    "plt.xlabel(\"Mean RMSE\")\n",
    "plt.title(\"Mean RMSE by Feature Combination\")\n",
    "plt.xlim(results[\"mean_rmse\"].min() - 0.01, results[\"mean_rmse\"].max() + 0.01)\n",
    "\n",
    "# Annotate bars\n",
    "for bar in bars:\n",
    "    plt.text(bar.get_width() + 0.01, bar.get_y() + bar.get_height()/2,\n",
    "             f\"{bar.get_width():.3f}\", va='center', fontsize=8)\n",
    "\n",
    "plt.tight_layout()\n",
    "plt.grid(axis=\"x\", linestyle=\"--\", alpha=0.6)\n",
    "plt.show()"
   ]
  },
  {
   "cell_type": "code",
   "execution_count": 13,
   "id": "4cd46ea5",
   "metadata": {},
   "outputs": [
    {
     "data": {
      "application/vnd.jupyter.widget-view+json": {
       "model_id": "3c8ec18edb9d4d73bf508e5067c37b28",
       "version_major": 2,
       "version_minor": 0
      },
      "text/plain": [
       "  0%|          | 0/8 [00:00<?, ?it/s]"
      ]
     },
     "metadata": {},
     "output_type": "display_data"
    },
    {
     "name": "stdout",
     "output_type": "stream",
     "text": [
      "Running experiment: base\n"
     ]
    },
    {
     "data": {
      "application/vnd.jupyter.widget-view+json": {
       "model_id": "699c4cbb927b46d8a39c2d6b9d18962b",
       "version_major": 2,
       "version_minor": 0
      },
      "text/plain": [
       "  0%|          | 0/10 [00:00<?, ?it/s]"
      ]
     },
     "metadata": {},
     "output_type": "display_data"
    },
    {
     "name": "stdout",
     "output_type": "stream",
     "text": [
      "Running experiment: lag1\n"
     ]
    },
    {
     "data": {
      "application/vnd.jupyter.widget-view+json": {
       "model_id": "d51ecb2491724f7ab0d0fcca5d5b806c",
       "version_major": 2,
       "version_minor": 0
      },
      "text/plain": [
       "  0%|          | 0/10 [00:00<?, ?it/s]"
      ]
     },
     "metadata": {},
     "output_type": "display_data"
    },
    {
     "name": "stdout",
     "output_type": "stream",
     "text": [
      "Running experiment: lag1 + lag2\n"
     ]
    },
    {
     "data": {
      "application/vnd.jupyter.widget-view+json": {
       "model_id": "ed4917546f21483ba2bd2f0b9e1c8315",
       "version_major": 2,
       "version_minor": 0
      },
      "text/plain": [
       "  0%|          | 0/10 [00:00<?, ?it/s]"
      ]
     },
     "metadata": {},
     "output_type": "display_data"
    },
    {
     "name": "stdout",
     "output_type": "stream",
     "text": [
      "Running experiment: lag1 + lag2 + lag3\n"
     ]
    },
    {
     "data": {
      "application/vnd.jupyter.widget-view+json": {
       "model_id": "44c542ee10f84ee59d6840422ff77ceb",
       "version_major": 2,
       "version_minor": 0
      },
      "text/plain": [
       "  0%|          | 0/10 [00:00<?, ?it/s]"
      ]
     },
     "metadata": {},
     "output_type": "display_data"
    },
    {
     "name": "stdout",
     "output_type": "stream",
     "text": [
      "Running experiment: lag1 + lag2 + lag3 + lag4\n"
     ]
    },
    {
     "data": {
      "application/vnd.jupyter.widget-view+json": {
       "model_id": "56752c4acad2491a9273055e4777f9bc",
       "version_major": 2,
       "version_minor": 0
      },
      "text/plain": [
       "  0%|          | 0/10 [00:00<?, ?it/s]"
      ]
     },
     "metadata": {},
     "output_type": "display_data"
    },
    {
     "name": "stdout",
     "output_type": "stream",
     "text": [
      "Running experiment: lag1 + lag2 + lag3 + lag4 + lag5\n"
     ]
    },
    {
     "data": {
      "application/vnd.jupyter.widget-view+json": {
       "model_id": "9e71052d7ccf462aa2a6ad6c44b2ef8f",
       "version_major": 2,
       "version_minor": 0
      },
      "text/plain": [
       "  0%|          | 0/10 [00:00<?, ?it/s]"
      ]
     },
     "metadata": {},
     "output_type": "display_data"
    },
    {
     "name": "stdout",
     "output_type": "stream",
     "text": [
      "Running experiment: lag1 + lag2 + lag3 + lag4 + lag5 + lag6\n"
     ]
    },
    {
     "data": {
      "application/vnd.jupyter.widget-view+json": {
       "model_id": "2cffbe79524d47fa99a58f02063c2406",
       "version_major": 2,
       "version_minor": 0
      },
      "text/plain": [
       "  0%|          | 0/10 [00:00<?, ?it/s]"
      ]
     },
     "metadata": {},
     "output_type": "display_data"
    },
    {
     "name": "stdout",
     "output_type": "stream",
     "text": [
      "Running experiment: lag1 + lag2 + lag3 + lag4 + lag5 + lag6 + lag7\n"
     ]
    },
    {
     "data": {
      "application/vnd.jupyter.widget-view+json": {
       "model_id": "d8d6aacbc7184a5f94c513d35c63693e",
       "version_major": 2,
       "version_minor": 0
      },
      "text/plain": [
       "  0%|          | 0/10 [00:00<?, ?it/s]"
      ]
     },
     "metadata": {},
     "output_type": "display_data"
    },
    {
     "name": "stdout",
     "output_type": "stream",
     "text": [
      "                                       experiment  n_features  mean_rmse  mean_mae  rmse_fold_1  rmse_fold_2  rmse_fold_3  rmse_fold_4  rmse_fold_5  rmse_fold_6  rmse_fold_7  rmse_fold_8  rmse_fold_9  rmse_fold_10\n",
      "3                              lag1 + lag2 + lag3          14   4.335222  2.944554     1.669317     4.896278     5.106175     8.558902    13.263525     2.044481     0.912428     0.991419     1.855379      4.054319\n",
      "7  lag1 + lag2 + lag3 + lag4 + lag5 + lag6 + lag7          18   4.344238  2.946910     1.660808     4.880879     5.072371     8.562890    13.433849     2.034336     0.915170     0.992495     1.851829      4.037750\n",
      "5                lag1 + lag2 + lag3 + lag4 + lag5          16   4.350822  2.953381     1.663040     4.963037     5.090408     8.587520    13.360240     2.040799     0.914904     0.991675     1.851194      4.045402\n",
      "6         lag1 + lag2 + lag3 + lag4 + lag5 + lag6          17   4.355659  2.956720     1.664781     4.952011     5.098478     8.585516    13.395011     2.043418     0.913969     0.990818     1.846647      4.065939\n",
      "2                                     lag1 + lag2          13   4.358456  2.958128     1.674241     4.923635     5.114404     8.590541    13.422035     2.039424     0.913941     0.995085     1.854972      4.056283\n",
      "1                                            lag1          12   4.359108  2.962054     1.667890     4.877223     5.129097     8.636112    13.388082     2.035991     0.919385     1.000071     1.855981      4.081251\n",
      "0                                            base          11   4.361622  2.964671     1.675788     4.937968     5.101307     8.723355    13.218467     2.039777     0.916728     1.001423     1.863846      4.137558\n",
      "4                       lag1 + lag2 + lag3 + lag4          15   4.366669  2.957759     1.653848     4.970369     5.090693     8.570968    13.527437     2.041590     0.915392     0.993114     1.847817      4.055464\n"
     ]
    }
   ],
   "source": [
    "base = ['delta_pm25_t', 'pm25_t', 'u_wind_t', 'v_wind_t',\n",
    "       'dew_temp_t', 'temp_t', 'surf_pressure_t', 'precip_t',\n",
    "       'frp_t', 'elevation_t', 'r_humidity_t']\n",
    "\n",
    "\n",
    "params = {\n",
    "    'max_depth': 4,            \n",
    "    'learning_rate': 0.1,     \n",
    "    'n_estimators': 150,     \n",
    "    'subsample': 0.8,          \n",
    "    'colsample_bytree': 0.8,   \n",
    "    'objective': 'reg:pseudohubererror'   \n",
    "}\n",
    "\n",
    "feature_experiments = [('base', base)] + [\n",
    "    (\n",
    "        \" + \".join(f\"lag{j}\" for j in range(1, t+1)),\n",
    "        base + [f\"delta_pm25_t-{j}\" for j in range(1, t+1)]\n",
    "    )\n",
    "    for t in range(1, 7+1)\n",
    "]\n",
    "\n",
    "model=xgb.XGBRegressor(**params, random_state=191)\n",
    "\n",
    "results = T.run_experiments(\n",
    "    df=train_df, \n",
    "    model=model, \n",
    "    feature_experiments=feature_experiments, \n",
    "    train_days=365*2,\n",
    "    gap_days=21,\n",
    "    val_days=49\n",
    ")\n",
    "\n",
    "print(results.sort_values('mean_rmse'))"
   ]
  },
  {
   "cell_type": "code",
   "execution_count": 33,
   "id": "caa67a65",
   "metadata": {},
   "outputs": [
    {
     "name": "stdout",
     "output_type": "stream",
     "text": [
      "                                       experiment  mean_rmse  mean_mae\n",
      "3                              lag1 + lag2 + lag3   4.335222  2.944554\n",
      "7  lag1 + lag2 + lag3 + lag4 + lag5 + lag6 + lag7   4.344238  2.946910\n",
      "5                lag1 + lag2 + lag3 + lag4 + lag5   4.350822  2.953381\n",
      "6         lag1 + lag2 + lag3 + lag4 + lag5 + lag6   4.355659  2.956720\n",
      "2                                     lag1 + lag2   4.358456  2.958128\n",
      "1                                            lag1   4.359108  2.962054\n",
      "0                                            base   4.361622  2.964671\n",
      "4                       lag1 + lag2 + lag3 + lag4   4.366669  2.957759\n"
     ]
    }
   ],
   "source": [
    "table = results[[\"experiment\", \"mean_rmse\", \"mean_mae\"]]\n",
    "print(table)"
   ]
  },
  {
   "cell_type": "code",
   "execution_count": 28,
   "id": "31b821ed",
   "metadata": {},
   "outputs": [
    {
     "data": {
      "image/png": "[encoded data removed]",
      "text/plain": [
       "<Figure size 600x400 with 1 Axes>"
      ]
     },
     "metadata": {},
     "output_type": "display_data"
    }
   ],
   "source": [
    "results = results.sort_values(\"mean_rmse\")\n",
    "\n",
    "names = []\n",
    "for experiment in results[\"experiment\"]:\n",
    "    if experiment != \"base\":\n",
    "        last = experiment[-1]\n",
    "        names.append(f\"Lag 1-{last}\")\n",
    "    else:\n",
    "        names.append(f\"Base\")\n",
    "\n",
    "plt.figure(figsize=(6, 4))\n",
    "bars = plt.barh(names, results[\"mean_rmse\"], color=\"steelblue\")\n",
    "plt.xlabel(\"Mean RMSE (μg/m3)\")\n",
    "plt.xlim(results[\"mean_rmse\"].min() - 0.01, results[\"mean_rmse\"].max() + 0.01)\n",
    "\n",
    "# Annotate bars\n",
    "for bar in bars:\n",
    "    plt.text(bar.get_width(), bar.get_y() + bar.get_height()/2,\n",
    "             f\"{bar.get_width():.3f}\", va='center', fontsize=10)\n",
    "\n",
    "plt.tight_layout()\n",
    "plt.grid(axis=\"x\", linestyle=\"--\", alpha=0.6)\n",
    "plt.show()"
   ]
  },
  {
   "cell_type": "code",
   "execution_count": null,
   "id": "6df3c1e9",
   "metadata": {},
   "outputs": [],
   "source": []
  },
  {
   "cell_type": "code",
   "execution_count": 5,
   "id": "b61e742d",
   "metadata": {},
   "outputs": [],
   "source": [
    "\n",
    "ds[f'delta_pm25_t-1'] = ds['delta_pm25_t'].shift(time=1)\n",
    "ds[f'delta_pm25_t-2'] = ds['delta_pm25_t'].shift(time=2)\n",
    "ds[f'delta_pm25_t-3'] = ds['delta_pm25_t'].shift(time=3)\n",
    "\n",
    "ds = ds.dropna(dim=\"time\", how=\"any\")\n",
    "\n",
    "ds.to_netcdf(\n",
    "    \"exp_2_ds.nc\",\n",
    "    format=\"NETCDF4\",       # HDF5-backed NetCDF\n",
    "    engine=\"netcdf4\",      # or \"netcdf4\" if you have that\n",
    "    encoding={\n",
    "        var: {\n",
    "            \"zlib\": True,\n",
    "            \"complevel\": 4,\n",
    "        }\n",
    "        for var in ds.data_vars\n",
    "    }\n",
    ")"
   ]
  },
  {
   "cell_type": "code",
   "execution_count": null,
   "id": "ecb4ab9c",
   "metadata": {},
   "outputs": [],
   "source": []
  }
 ],
 "metadata": {
  "kernelspec": {
   "display_name": "CS191W",
   "language": "python",
   "name": "python3"
  },
  "language_info": {
   "codemirror_mode": {
    "name": "ipython",
    "version": 3
   },
   "file_extension": ".py",
   "mimetype": "text/x-python",
   "name": "python",
   "nbconvert_exporter": "python",
   "pygments_lexer": "ipython3",
   "version": "3.11.9"
  }
 },
 "nbformat": 4,
 "nbformat_minor": 5
}
