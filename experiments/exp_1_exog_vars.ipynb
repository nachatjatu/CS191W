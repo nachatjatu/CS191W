{
 "cells": [
  {
   "cell_type": "markdown",
   "id": "f99c3b9b",
   "metadata": {},
   "source": [
    "# Experiment 1: Exogenous Variables\n",
    "Nachat Jatusripitak\n",
    "\n",
    "In this notebook, we experiment with adding/removing exogenous variables from the predictor. Exogenous features are defined as features that are not $\\Delta \\text{PM}_{2.5}$. "
   ]
  },
  {
   "cell_type": "code",
   "execution_count": null,
   "id": "8de7b9a4",
   "metadata": {},
   "outputs": [],
   "source": [
    "# Import required packages\n",
    "import xgboost as xgb\n",
    "import pandas as pd\n",
    "from sklearn.dummy import DummyRegressor\n",
    "import src.train_utils as T\n",
    "import xarray as xr\n",
    "import numpy as np\n",
    "\n",
    "pd.set_option('display.max_columns', None)\n",
    "pd.set_option('display.expand_frame_repr', False)\n",
    "pd.set_option('display.width', None)"
   ]
  },
  {
   "cell_type": "code",
   "execution_count": null,
   "id": "d715b97e",
   "metadata": {},
   "outputs": [],
   "source": [
    "ds = xr.open_dataset('../datasets/base.nc')\n",
    "\n",
    "# hold out 2022\n",
    "mask = ds.time.dt.year < 2022\n",
    "ds_excl_2022 = ds.sel(time=mask)\n",
    "\n",
    "# create relative humidity feature (better than dew temp alone)\n",
    "temp_da = ds_excl_2022['temp_t']\n",
    "dew_t_da = ds_excl_2022['dew_temp_t']\n",
    "\n",
    "# compute saturation vapor pressure at T and at dew-point\n",
    "e_s_temp = 6.112 * np.exp((17.67 * temp_da) / (temp_da + 243.5))\n",
    "e_s_dew  = 6.112 * np.exp((17.67 * dew_t_da) / (dew_t_da + 243.5))\n",
    "\n",
    "# compute RH (%)\n",
    "rh = (e_s_dew / e_s_temp * 100).rename(\"r_humidity_t\")\n",
    "\n",
    "# clip to 0-100\n",
    "rh = rh.clip(min=0, max=100)\n",
    "\n",
    "ds_excl_2022[\"r_humidity_t\"] = rh\n",
    "\n",
    "train_df = ds_excl_2022.to_dataframe().reset_index()\n",
    "print(train_df)"
   ]
  },
  {
   "cell_type": "code",
   "execution_count": 7,
   "id": "e8711378",
   "metadata": {},
   "outputs": [
    {
     "name": "stdout",
     "output_type": "stream",
     "text": [
      "<xarray.Dataset> Size: 44B\n",
      "Dimensions:          ()\n",
      "Data variables:\n",
      "    pm25_t           float32 4B 19.56\n",
      "    u_wind_t         float32 4B 0.09071\n",
      "    v_wind_t         float32 4B 0.3834\n",
      "    dew_temp_t       float32 4B 291.7\n",
      "    temp_t           float32 4B 296.9\n",
      "    surf_pressure_t  float32 4B 9.382e+04\n",
      "    precip_t         float32 4B 0.004529\n",
      "    frp_t            float32 4B 1.671\n",
      "    elevation_t      float32 4B 646.9\n",
      "    delta_pm25_t+1   float32 4B 0.04252\n",
      "    delta_pm25_t     float32 4B 0.04365\n"
     ]
    },
    {
     "name": "stderr",
     "output_type": "stream",
     "text": [
      "OMP: Info #276: omp_set_nested routine deprecated, please use omp_set_max_active_levels instead.\n"
     ]
    },
    {
     "name": "stdout",
     "output_type": "stream",
     "text": [
      "<xarray.Dataset> Size: 88B\n",
      "Dimensions:          ()\n",
      "Data variables:\n",
      "    pm25_t           float64 8B 12.0\n",
      "    u_wind_t         float64 8B 0.05863\n",
      "    v_wind_t         float64 8B 0.3674\n",
      "    dew_temp_t       float64 8B 293.0\n",
      "    temp_t           float64 8B 297.0\n",
      "    surf_pressure_t  float64 8B 9.385e+04\n",
      "    precip_t         float64 8B 0.0008532\n",
      "    frp_t            float64 8B 0.0\n",
      "    elevation_t      float64 8B 638.0\n",
      "    delta_pm25_t+1   float64 8B 0.01073\n",
      "    delta_pm25_t     float64 8B 0.01169\n",
      "<xarray.Dataset> Size: 44B\n",
      "Dimensions:          ()\n",
      "Data variables:\n",
      "    pm25_t           float32 4B 4.268\n",
      "    u_wind_t         float32 4B -4.001\n",
      "    v_wind_t         float32 4B -3.18\n",
      "    dew_temp_t       float32 4B 270.4\n",
      "    temp_t           float32 4B 279.2\n",
      "    surf_pressure_t  float32 4B 8.374e+04\n",
      "    precip_t         float32 4B 0.0\n",
      "    frp_t            float32 4B 0.0\n",
      "    elevation_t      float32 4B 9.0\n",
      "    delta_pm25_t+1   float32 4B -213.1\n",
      "    delta_pm25_t     float32 4B -213.1\n",
      "<xarray.Dataset> Size: 44B\n",
      "Dimensions:          ()\n",
      "Data variables:\n",
      "    pm25_t           float32 4B 266.0\n",
      "    u_wind_t         float32 4B 4.284\n",
      "    v_wind_t         float32 4B 3.882\n",
      "    dew_temp_t       float32 4B 299.4\n",
      "    temp_t           float32 4B 309.3\n",
      "    surf_pressure_t  float32 4B 1.027e+05\n",
      "    precip_t         float32 4B 0.2034\n",
      "    frp_t            float32 4B 1.293e+04\n",
      "    elevation_t      float32 4B 1.743e+03\n",
      "    delta_pm25_t+1   float32 4B 219.1\n",
      "    delta_pm25_t     float32 4B 219.1\n"
     ]
    }
   ],
   "source": [
    "# Summary stats for each variable\n",
    "print(ds.mean())\n",
    "print(ds.median())\n",
    "print(ds.min())\n",
    "print(ds.max())"
   ]
  },
  {
   "cell_type": "markdown",
   "id": "0ad8c906",
   "metadata": {},
   "source": [
    "## Persistence baseline\n",
    "Just to see what kind of performance we should expect"
   ]
  },
  {
   "cell_type": "code",
   "execution_count": 3,
   "id": "fc5b1060",
   "metadata": {},
   "outputs": [
    {
     "data": {
      "application/vnd.jupyter.widget-view+json": {
       "model_id": "e0d67aef0ccd407289fa3c20522d860a",
       "version_major": 2,
       "version_minor": 0
      },
      "text/plain": [
       "  0%|          | 0/1 [00:00<?, ?it/s]"
      ]
     },
     "metadata": {},
     "output_type": "display_data"
    },
    {
     "name": "stdout",
     "output_type": "stream",
     "text": [
      "Running experiment: persistence\n"
     ]
    },
    {
     "data": {
      "application/vnd.jupyter.widget-view+json": {
       "model_id": "b44e865cc123491a99cba97bca5081ef",
       "version_major": 2,
       "version_minor": 0
      },
      "text/plain": [
       "  0%|          | 0/10 [00:00<?, ?it/s]"
      ]
     },
     "metadata": {},
     "output_type": "display_data"
    },
    {
     "name": "stdout",
     "output_type": "stream",
     "text": [
      "    experiment  n_features  mean_rmse  mean_mae  rmse_fold_1  rmse_fold_2  rmse_fold_3  rmse_fold_4  rmse_fold_5  rmse_fold_6  rmse_fold_7  rmse_fold_8  rmse_fold_9  rmse_fold_10\n",
      "0  persistence           0   4.770767   3.12517     1.783652     6.286166     5.223866     9.354229    14.504134     2.214257     1.003456     1.061782     1.985275      4.290848\n"
     ]
    }
   ],
   "source": [
    "feature_experiments = [\n",
    "    ('persistence', []),\n",
    "]\n",
    "\n",
    "model=DummyRegressor(strategy='constant', constant=0)\n",
    "\n",
    "results = T.run_experiments(\n",
    "    df=train_df, \n",
    "    model=model, \n",
    "    feature_experiments=feature_experiments, \n",
    "    train_days=365*2,\n",
    "    gap_days=7*3,\n",
    "    val_days=7*7\n",
    ")\n",
    "\n",
    "print(results)"
   ]
  },
  {
   "cell_type": "markdown",
   "id": "9587dbe1",
   "metadata": {},
   "source": [
    "### Run 1: add exogenous variables one at a time"
   ]
  },
  {
   "cell_type": "code",
   "execution_count": null,
   "id": "436a9732",
   "metadata": {},
   "outputs": [
    {
     "data": {
      "application/vnd.jupyter.widget-view+json": {
       "model_id": "17887a3e5938441b8ce45b0b93479fd8",
       "version_major": 2,
       "version_minor": 0
      },
      "text/plain": [
       "  0%|          | 0/10 [00:00<?, ?it/s]"
      ]
     },
     "metadata": {},
     "output_type": "display_data"
    },
    {
     "name": "stdout",
     "output_type": "stream",
     "text": [
      "Running experiment: base\n"
     ]
    },
    {
     "data": {
      "application/vnd.jupyter.widget-view+json": {
       "model_id": "0d90a3aaeb2f45cea438c8c01bbc267f",
       "version_major": 2,
       "version_minor": 0
      },
      "text/plain": [
       "  0%|          | 0/10 [00:00<?, ?it/s]"
      ]
     },
     "metadata": {},
     "output_type": "display_data"
    },
    {
     "ename": "KeyboardInterrupt",
     "evalue": "",
     "output_type": "error",
     "traceback": [
      "\u001b[31m---------------------------------------------------------------------------\u001b[39m",
      "\u001b[31mKeyboardInterrupt\u001b[39m                         Traceback (most recent call last)",
      "\u001b[36mCell\u001b[39m\u001b[36m \u001b[39m\u001b[32mIn[4]\u001b[39m\u001b[32m, line 27\u001b[39m\n\u001b[32m     12\u001b[39m feature_experiments = [\n\u001b[32m     13\u001b[39m     (\u001b[33m'\u001b[39m\u001b[33mbase\u001b[39m\u001b[33m'\u001b[39m, base),\n\u001b[32m     14\u001b[39m     (\u001b[33m'\u001b[39m\u001b[33mbase + pm25_t\u001b[39m\u001b[33m'\u001b[39m, base + [\u001b[33m'\u001b[39m\u001b[33mpm25_t\u001b[39m\u001b[33m'\u001b[39m]),\n\u001b[32m   (...)\u001b[39m\u001b[32m     22\u001b[39m     (\u001b[33m'\u001b[39m\u001b[33mbase + r_humidity_t\u001b[39m\u001b[33m'\u001b[39m, base + [\u001b[33m'\u001b[39m\u001b[33mr_humidity_t\u001b[39m\u001b[33m'\u001b[39m])\n\u001b[32m     23\u001b[39m ]\n\u001b[32m     25\u001b[39m model=xgb.XGBRegressor(**params, random_state=\u001b[32m191\u001b[39m)\n\u001b[32m---> \u001b[39m\u001b[32m27\u001b[39m results = T.run_experiments(\n\u001b[32m     28\u001b[39m     df=train_df, \n\u001b[32m     29\u001b[39m     model=model, \n\u001b[32m     30\u001b[39m     feature_experiments=feature_experiments, \n\u001b[32m     31\u001b[39m     train_days=\u001b[32m365\u001b[39m*\u001b[32m2\u001b[39m,\n\u001b[32m     32\u001b[39m     gap_days=\u001b[32m7\u001b[39m*\u001b[32m3\u001b[39m,\n\u001b[32m     33\u001b[39m     val_days=\u001b[32m7\u001b[39m*\u001b[32m7\u001b[39m\n\u001b[32m     34\u001b[39m )\n\u001b[32m     36\u001b[39m \u001b[38;5;28mprint\u001b[39m(results.sort_values(\u001b[33m'\u001b[39m\u001b[33mmean_rmse\u001b[39m\u001b[33m'\u001b[39m))\n",
      "\u001b[36mFile \u001b[39m\u001b[32m~/Desktop/CS191W/experiments/src/train_utils.py:43\u001b[39m, in \u001b[36mrun_experiments\u001b[39m\u001b[34m(df, model, feature_experiments, train_days, gap_days, val_days)\u001b[39m\n\u001b[32m     40\u001b[39m \u001b[38;5;28;01mfor\u001b[39;00m experiment_name, features \u001b[38;5;129;01min\u001b[39;00m tqdm(feature_experiments, total=\u001b[38;5;28mlen\u001b[39m(feature_experiments), leave=\u001b[38;5;28;01mFalse\u001b[39;00m):\n\u001b[32m     41\u001b[39m     \u001b[38;5;28mprint\u001b[39m(\u001b[33mf\u001b[39m\u001b[33m\"\u001b[39m\u001b[33mRunning experiment: \u001b[39m\u001b[38;5;132;01m{\u001b[39;00mexperiment_name\u001b[38;5;132;01m}\u001b[39;00m\u001b[33m\"\u001b[39m)\n\u001b[32m---> \u001b[39m\u001b[32m43\u001b[39m     rmse_scores, mae_scores = rolling_window_cv(\n\u001b[32m     44\u001b[39m         tscv,\n\u001b[32m     45\u001b[39m         unique_dates,\n\u001b[32m     46\u001b[39m         df=df,\n\u001b[32m     47\u001b[39m         features=features,\n\u001b[32m     48\u001b[39m         model=model,\n\u001b[32m     49\u001b[39m         target_col=\u001b[33m'\u001b[39m\u001b[33mdelta_pm25_t+1\u001b[39m\u001b[33m'\u001b[39m\n\u001b[32m     50\u001b[39m     )\n\u001b[32m     52\u001b[39m     mean_rmse = np.mean(rmse_scores)\n\u001b[32m     53\u001b[39m     mean_mae = np.mean(mae_scores)\n",
      "\u001b[36mFile \u001b[39m\u001b[32m~/Desktop/CS191W/experiments/src/train_utils.py:22\u001b[39m, in \u001b[36mrolling_window_cv\u001b[39m\u001b[34m(tscv, unique_dates, df, features, model, target_col)\u001b[39m\n\u001b[32m     19\u001b[39m X_val, y_val = val_df[features], val_df[target_col]\n\u001b[32m     21\u001b[39m model_clone = clone(model)\n\u001b[32m---> \u001b[39m\u001b[32m22\u001b[39m model_clone.fit(X_train, y_train)\n\u001b[32m     24\u001b[39m y_preds = model_clone.predict(X_val)\n\u001b[32m     25\u001b[39m rmse = root_mean_squared_error(y_val, y_preds)\n",
      "\u001b[36mFile \u001b[39m\u001b[32m/opt/anaconda3/envs/CS191W/lib/python3.11/site-packages/xgboost/core.py:726\u001b[39m, in \u001b[36mrequire_keyword_args.<locals>.throw_if.<locals>.inner_f\u001b[39m\u001b[34m(*args, **kwargs)\u001b[39m\n\u001b[32m    724\u001b[39m \u001b[38;5;28;01mfor\u001b[39;00m k, arg \u001b[38;5;129;01min\u001b[39;00m \u001b[38;5;28mzip\u001b[39m(sig.parameters, args):\n\u001b[32m    725\u001b[39m     kwargs[k] = arg\n\u001b[32m--> \u001b[39m\u001b[32m726\u001b[39m \u001b[38;5;28;01mreturn\u001b[39;00m func(**kwargs)\n",
      "\u001b[36mFile \u001b[39m\u001b[32m/opt/anaconda3/envs/CS191W/lib/python3.11/site-packages/xgboost/sklearn.py:1108\u001b[39m, in \u001b[36mXGBModel.fit\u001b[39m\u001b[34m(self, X, y, sample_weight, base_margin, eval_set, verbose, xgb_model, sample_weight_eval_set, base_margin_eval_set, feature_weights)\u001b[39m\n\u001b[32m   1105\u001b[39m     obj = \u001b[38;5;28;01mNone\u001b[39;00m\n\u001b[32m   1107\u001b[39m model, metric, params = \u001b[38;5;28mself\u001b[39m._configure_fit(xgb_model, params)\n\u001b[32m-> \u001b[39m\u001b[32m1108\u001b[39m \u001b[38;5;28mself\u001b[39m._Booster = train(\n\u001b[32m   1109\u001b[39m     params,\n\u001b[32m   1110\u001b[39m     train_dmatrix,\n\u001b[32m   1111\u001b[39m     \u001b[38;5;28mself\u001b[39m.get_num_boosting_rounds(),\n\u001b[32m   1112\u001b[39m     evals=evals,\n\u001b[32m   1113\u001b[39m     early_stopping_rounds=\u001b[38;5;28mself\u001b[39m.early_stopping_rounds,\n\u001b[32m   1114\u001b[39m     evals_result=evals_result,\n\u001b[32m   1115\u001b[39m     obj=obj,\n\u001b[32m   1116\u001b[39m     custom_metric=metric,\n\u001b[32m   1117\u001b[39m     verbose_eval=verbose,\n\u001b[32m   1118\u001b[39m     xgb_model=model,\n\u001b[32m   1119\u001b[39m     callbacks=\u001b[38;5;28mself\u001b[39m.callbacks,\n\u001b[32m   1120\u001b[39m )\n\u001b[32m   1122\u001b[39m \u001b[38;5;28mself\u001b[39m._set_evaluation_result(evals_result)\n\u001b[32m   1123\u001b[39m \u001b[38;5;28;01mreturn\u001b[39;00m \u001b[38;5;28mself\u001b[39m\n",
      "\u001b[36mFile \u001b[39m\u001b[32m/opt/anaconda3/envs/CS191W/lib/python3.11/site-packages/xgboost/core.py:726\u001b[39m, in \u001b[36mrequire_keyword_args.<locals>.throw_if.<locals>.inner_f\u001b[39m\u001b[34m(*args, **kwargs)\u001b[39m\n\u001b[32m    724\u001b[39m \u001b[38;5;28;01mfor\u001b[39;00m k, arg \u001b[38;5;129;01min\u001b[39;00m \u001b[38;5;28mzip\u001b[39m(sig.parameters, args):\n\u001b[32m    725\u001b[39m     kwargs[k] = arg\n\u001b[32m--> \u001b[39m\u001b[32m726\u001b[39m \u001b[38;5;28;01mreturn\u001b[39;00m func(**kwargs)\n",
      "\u001b[36mFile \u001b[39m\u001b[32m/opt/anaconda3/envs/CS191W/lib/python3.11/site-packages/xgboost/training.py:181\u001b[39m, in \u001b[36mtrain\u001b[39m\u001b[34m(params, dtrain, num_boost_round, evals, obj, feval, maximize, early_stopping_rounds, evals_result, verbose_eval, xgb_model, callbacks, custom_metric)\u001b[39m\n\u001b[32m    179\u001b[39m \u001b[38;5;28;01mif\u001b[39;00m cb_container.before_iteration(bst, i, dtrain, evals):\n\u001b[32m    180\u001b[39m     \u001b[38;5;28;01mbreak\u001b[39;00m\n\u001b[32m--> \u001b[39m\u001b[32m181\u001b[39m bst.update(dtrain, iteration=i, fobj=obj)\n\u001b[32m    182\u001b[39m \u001b[38;5;28;01mif\u001b[39;00m cb_container.after_iteration(bst, i, dtrain, evals):\n\u001b[32m    183\u001b[39m     \u001b[38;5;28;01mbreak\u001b[39;00m\n",
      "\u001b[36mFile \u001b[39m\u001b[32m/opt/anaconda3/envs/CS191W/lib/python3.11/site-packages/xgboost/core.py:2101\u001b[39m, in \u001b[36mBooster.update\u001b[39m\u001b[34m(self, dtrain, iteration, fobj)\u001b[39m\n\u001b[32m   2097\u001b[39m \u001b[38;5;28mself\u001b[39m._assign_dmatrix_features(dtrain)\n\u001b[32m   2099\u001b[39m \u001b[38;5;28;01mif\u001b[39;00m fobj \u001b[38;5;129;01mis\u001b[39;00m \u001b[38;5;28;01mNone\u001b[39;00m:\n\u001b[32m   2100\u001b[39m     _check_call(\n\u001b[32m-> \u001b[39m\u001b[32m2101\u001b[39m         _LIB.XGBoosterUpdateOneIter(\n\u001b[32m   2102\u001b[39m             \u001b[38;5;28mself\u001b[39m.handle, ctypes.c_int(iteration), dtrain.handle\n\u001b[32m   2103\u001b[39m         )\n\u001b[32m   2104\u001b[39m     )\n\u001b[32m   2105\u001b[39m \u001b[38;5;28;01melse\u001b[39;00m:\n\u001b[32m   2106\u001b[39m     pred = \u001b[38;5;28mself\u001b[39m.predict(dtrain, output_margin=\u001b[38;5;28;01mTrue\u001b[39;00m, training=\u001b[38;5;28;01mTrue\u001b[39;00m)\n",
      "\u001b[31mKeyboardInterrupt\u001b[39m: "
     ]
    }
   ],
   "source": [
    "base = ['delta_pm25_t']\n",
    "\n",
    "# hyperparameters found via trial-and-error\n",
    "params = {\n",
    "    'max_depth': 3,            \n",
    "    'learning_rate': 0.1,     \n",
    "    'n_estimators': 150,     \n",
    "    'subsample': 0.8,          \n",
    "    'colsample_bytree': 0.8,   \n",
    "    'objective': 'reg:pseudohubererror' \n",
    "}\n",
    "\n",
    "feature_experiments = [\n",
    "    ('base', base),\n",
    "    ('base + pm25_t', base + ['pm25_t']),\n",
    "    ('base + u-v_wind', base + ['u_wind_t', 'v_wind_t']),\n",
    "    ('base + dew_temp_t', base + ['dew_temp_t']),\n",
    "    ('base + temp_t', base + ['temp_t']),\n",
    "    ('base + surf_pressure_t', base + ['surf_pressure_t']),\n",
    "    ('base + precip_t', base + ['precip_t']),\n",
    "    ('base + frp_t', base + ['frp_t']),\n",
    "    ('base + elevation_t', base + ['elevation_t']),\n",
    "    ('base + r_humidity_t', base + ['r_humidity_t'])\n",
    "]\n",
    "\n",
    "model=xgb.XGBRegressor(**params, random_state=191)\n",
    "\n",
    "results = T.run_experiments(\n",
    "    df=train_df, \n",
    "    model=model, \n",
    "    feature_experiments=feature_experiments, \n",
    "    train_days=365*2,\n",
    "    gap_days=7*3,\n",
    "    val_days=7*7\n",
    ")\n",
    "\n",
    "print(results.sort_values('mean_rmse'))"
   ]
  },
  {
   "cell_type": "markdown",
   "id": "595ad539",
   "metadata": {},
   "source": [
    "### Run 2: do row/col indices improve performance or not?"
   ]
  },
  {
   "cell_type": "code",
   "execution_count": null,
   "id": "95f4080a",
   "metadata": {},
   "outputs": [
    {
     "data": {
      "application/vnd.jupyter.widget-view+json": {
       "model_id": "bd689a7e84734c70b4a49b8a14675b5c",
       "version_major": 2,
       "version_minor": 0
      },
      "text/plain": [
       "  0%|          | 0/2 [00:00<?, ?it/s]"
      ]
     },
     "metadata": {},
     "output_type": "display_data"
    },
    {
     "name": "stdout",
     "output_type": "stream",
     "text": [
      "Running experiment: without i/j\n"
     ]
    },
    {
     "data": {
      "application/vnd.jupyter.widget-view+json": {
       "model_id": "10cb983a600a4204a87abb2911a21a94",
       "version_major": 2,
       "version_minor": 0
      },
      "text/plain": [
       "  0%|          | 0/10 [00:00<?, ?it/s]"
      ]
     },
     "metadata": {},
     "output_type": "display_data"
    },
    {
     "name": "stdout",
     "output_type": "stream",
     "text": [
      "Running experiment: with i/j\n"
     ]
    },
    {
     "data": {
      "application/vnd.jupyter.widget-view+json": {
       "model_id": "16f7c0b08aee4a6a9e3a2967555ca388",
       "version_major": 2,
       "version_minor": 0
      },
      "text/plain": [
       "  0%|          | 0/10 [00:00<?, ?it/s]"
      ]
     },
     "metadata": {},
     "output_type": "display_data"
    },
    {
     "name": "stdout",
     "output_type": "stream",
     "text": [
      "    experiment  n_features  mean_rmse  mean_mae  rmse_fold_1  rmse_fold_2  rmse_fold_3  rmse_fold_4  rmse_fold_5  rmse_fold_6  rmse_fold_7  rmse_fold_8  rmse_fold_9  rmse_fold_10\n",
      "0  without i/j          11   4.361622  2.964671     1.675788     4.937968     5.101307     8.723355    13.218467     2.039777     0.916728     1.001423     1.863846      4.137558\n",
      "1     with i/j          13   4.377839  2.971601     1.666631     4.869468     5.087079     8.681473    13.541274     2.041027     0.913193     0.998304     1.860031      4.119911\n"
     ]
    }
   ],
   "source": [
    "base = ['delta_pm25_t', 'pm25_t', 'u_wind_t', 'v_wind_t',\n",
    "       'dew_temp_t', 'temp_t', 'surf_pressure_t', 'precip_t',\n",
    "       'frp_t', 'elevation_t', 'r_humidity_t']\n",
    "\n",
    "params = {\n",
    "    'max_depth': 4,            \n",
    "    'learning_rate': 0.1,     \n",
    "    'n_estimators': 150,     \n",
    "    'subsample': 0.8,          \n",
    "    'colsample_bytree': 0.8,\n",
    "    'objective': 'reg:pseudohubererror'    \n",
    "}\n",
    "\n",
    "feature_experiments = [\n",
    "    ('without i/j', base),\n",
    "    ('with i/j', base + ['i', 'j']),\n",
    "]\n",
    "\n",
    "model=xgb.XGBRegressor(**params, random_state=191)\n",
    "\n",
    "results = T.run_experiments(\n",
    "    df=train_df, \n",
    "    model=model, \n",
    "    feature_experiments=feature_experiments, \n",
    "    train_days=365*2,\n",
    "    gap_days=7*3,\n",
    "    val_days=7*7\n",
    ")\n",
    "\n",
    "print(results.sort_values('mean_rmse'))"
   ]
  },
  {
   "cell_type": "code",
   "execution_count": null,
   "id": "06f33ee6",
   "metadata": {},
   "outputs": [],
   "source": [
    "# Export dataset with new features\n",
    "\n",
    "temp_da = ds['temp_t']\n",
    "dew_t_da = ds['dew_temp_t']\n",
    "\n",
    "e_s_temp = 6.112 * np.exp((17.67 * temp_da) / (temp_da + 243.5))\n",
    "e_s_dew  = 6.112 * np.exp((17.67 * dew_t_da) / (dew_t_da + 243.5))\n",
    "\n",
    "rh = (e_s_dew / e_s_temp * 100).rename(\"r_humidity_t\")\n",
    "\n",
    "rh = rh.clip(min=0, max=100)\n",
    "\n",
    "ds[\"r_humidity_t\"] = rh\n",
    "\n",
    "ds.to_netcdf(\n",
    "    \"exp_1_ds.nc\",\n",
    "    format=\"NETCDF4\",       \n",
    "    engine=\"netcdf4\",      \n",
    "    encoding={\n",
    "        var: {\n",
    "            \"zlib\": True,\n",
    "            \"complevel\": 4,\n",
    "        }\n",
    "        for var in ds.data_vars\n",
    "    }\n",
    ")"
   ]
  }
 ],
 "metadata": {
  "kernelspec": {
   "display_name": "CS191W",
   "language": "python",
   "name": "python3"
  },
  "language_info": {
   "codemirror_mode": {
    "name": "ipython",
    "version": 3
   },
   "file_extension": ".py",
   "mimetype": "text/x-python",
   "name": "python",
   "nbconvert_exporter": "python",
   "pygments_lexer": "ipython3",
   "version": "3.11.9"
  }
 },
 "nbformat": 4,
 "nbformat_minor": 5
}
