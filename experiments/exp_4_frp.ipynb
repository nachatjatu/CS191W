{
 "cells": [
  {
   "cell_type": "code",
   "execution_count": 1,
   "id": "5f6c4ae7",
   "metadata": {},
   "outputs": [],
   "source": [
    "import xgboost as xgb\n",
    "import pandas as pd\n",
    "import src.train_utils as T\n",
    "import xarray as xr\n",
    "import matplotlib.pyplot as plt\n",
    "import seaborn as sns\n",
    "\n",
    "plt.style.use('ggplot')  # Try 'ggplot' as an alternative\n",
    "# 1) show every column\n",
    "pd.set_option('display.max_columns', None)\n",
    "\n",
    "# 2) disable automatic expansion/wrapping\n",
    "pd.set_option('display.expand_frame_repr', False)\n",
    "\n",
    "# 3) bump the console width way up (or to None for ‘no limit’)\n",
    "pd.set_option('display.width', None)\n",
    "\n"
   ]
  },
  {
   "cell_type": "code",
   "execution_count": 2,
   "id": "8e9e01ae",
   "metadata": {},
   "outputs": [],
   "source": [
    "ds = xr.open_dataset('../datasets/exp_3_ds.nc')\n",
    "mask = ds.time.dt.year < 2022\n",
    "ds_excl_2022 = ds.sel(time=mask)\n",
    "\n",
    "for size in range(3, 9+1, 2):\n",
    "  ds_excl_2022[f'frp_avg_{size}x{size}'] = (\n",
    "      ds_excl_2022['frp_t']\n",
    "        .rolling(i=size, j=size, center=True, min_periods=1)\n",
    "        .mean()\n",
    "  )\n",
    "\n",
    "for size in range(3, 9+1, 2):\n",
    "  ds_excl_2022[f'frp_max_{size}x{size}'] = (\n",
    "      ds_excl_2022['frp_t']\n",
    "        .rolling(i=size, j=size, center=True, min_periods=1)\n",
    "        .max()\n",
    "  )\n",
    "\n",
    "# 1) Compute rolling‐sum over each square window\n",
    "cumulative_sums = {}  # will hold the rolling sum for each odd size\n",
    "for size in range(3, 10, 2):  # 3, 5, 7, 9\n",
    "    rolling_name = f'frp_sum_{size}x{size}'\n",
    "    # rolling().sum() gives the sum over a size×size square (centered)\n",
    "    ds_excl_2022[rolling_name] = (\n",
    "        ds_excl_2022['frp_t']\n",
    "          .rolling(i=size, j=size, center=True, min_periods=1)\n",
    "          .sum()\n",
    "    )\n",
    "    cumulative_sums[size] = ds_excl_2022[rolling_name]\n",
    "\n",
    "# 2) Subtract to get the “ring” (concentric buffer) between each size and the next‐smaller size\n",
    "previous_size = None\n",
    "for size in sorted(cumulative_sums.keys()):  # will iterate 3, 5, 7, 9 in order\n",
    "    ring_name = f'frp_buffer_sum_{size}x{size}'\n",
    "    if previous_size is None:\n",
    "        # For size=3, there is no smaller ring to subtract, so the ring=full 3×3 sum\n",
    "        ds_excl_2022[ring_name] = cumulative_sums[size]\n",
    "    else:\n",
    "        smaller_sum = cumulative_sums[previous_size]\n",
    "        larger_sum  = cumulative_sums[size]\n",
    "        # ring = sum over size×size minus sum over previous_size×previous_size\n",
    "        ds_excl_2022[ring_name] = larger_sum - smaller_sum\n",
    "\n",
    "    previous_size = size\n",
    "\n",
    "\n",
    "# 4. Convert to DataFrame\n",
    "train_df = ds_excl_2022.to_dataframe().reset_index()"
   ]
  },
  {
   "cell_type": "code",
   "execution_count": 66,
   "id": "d6d20e99",
   "metadata": {},
   "outputs": [
    {
     "data": {
      "text/html": [
       "<div>\n",
       "<style scoped>\n",
       "    .dataframe tbody tr th:only-of-type {\n",
       "        vertical-align: middle;\n",
       "    }\n",
       "\n",
       "    .dataframe tbody tr th {\n",
       "        vertical-align: top;\n",
       "    }\n",
       "\n",
       "    .dataframe thead th {\n",
       "        text-align: right;\n",
       "    }\n",
       "</style>\n",
       "<table border=\"1\" class=\"dataframe\">\n",
       "  <thead>\n",
       "    <tr style=\"text-align: right;\">\n",
       "      <th></th>\n",
       "      <th>time</th>\n",
       "      <th>i</th>\n",
       "      <th>j</th>\n",
       "      <th>pm25_t</th>\n",
       "      <th>u_wind_t</th>\n",
       "      <th>v_wind_t</th>\n",
       "      <th>dew_temp_t</th>\n",
       "      <th>temp_t</th>\n",
       "      <th>surf_pressure_t</th>\n",
       "      <th>precip_t</th>\n",
       "      <th>frp_t</th>\n",
       "      <th>elevation_t</th>\n",
       "      <th>delta_pm25_t+1</th>\n",
       "      <th>delta_pm25_t</th>\n",
       "      <th>r_humidity_t</th>\n",
       "      <th>delta_pm25_t-1</th>\n",
       "      <th>delta_pm25_t-2</th>\n",
       "      <th>delta_pm25_t-3</th>\n",
       "      <th>delta_pm25_avg_3x3</th>\n",
       "      <th>delta_pm25_avg_5x5</th>\n",
       "      <th>delta_pm25_avg_7x7</th>\n",
       "      <th>delta_pm25_avg_9x9</th>\n",
       "      <th>frp_avg_3x3</th>\n",
       "      <th>frp_avg_5x5</th>\n",
       "      <th>frp_avg_7x7</th>\n",
       "      <th>frp_avg_9x9</th>\n",
       "      <th>frp_max_3x3</th>\n",
       "      <th>frp_max_5x5</th>\n",
       "      <th>frp_max_7x7</th>\n",
       "      <th>frp_max_9x9</th>\n",
       "      <th>frp_sum_3x3</th>\n",
       "      <th>frp_sum_5x5</th>\n",
       "      <th>frp_sum_7x7</th>\n",
       "      <th>frp_sum_9x9</th>\n",
       "      <th>frp_buffer_sum_3x3</th>\n",
       "      <th>frp_buffer_sum_5x5</th>\n",
       "      <th>frp_buffer_sum_7x7</th>\n",
       "      <th>frp_buffer_sum_9x9</th>\n",
       "    </tr>\n",
       "  </thead>\n",
       "  <tbody>\n",
       "    <tr>\n",
       "      <th>0</th>\n",
       "      <td>2018-07-08</td>\n",
       "      <td>0</td>\n",
       "      <td>0</td>\n",
       "      <td>9.513633</td>\n",
       "      <td>1.040234</td>\n",
       "      <td>0.047216</td>\n",
       "      <td>291.942383</td>\n",
       "      <td>293.100189</td>\n",
       "      <td>85344.046875</td>\n",
       "      <td>1.115932e-02</td>\n",
       "      <td>0.0</td>\n",
       "      <td>1360.0</td>\n",
       "      <td>-0.491020</td>\n",
       "      <td>0.556278</td>\n",
       "      <td>98.281067</td>\n",
       "      <td>0.038002</td>\n",
       "      <td>0.601407</td>\n",
       "      <td>0.302968</td>\n",
       "      <td>0.789314</td>\n",
       "      <td>0.734057</td>\n",
       "      <td>0.640796</td>\n",
       "      <td>0.702518</td>\n",
       "      <td>0.0</td>\n",
       "      <td>0.0</td>\n",
       "      <td>0.0</td>\n",
       "      <td>0.0</td>\n",
       "      <td>0.0</td>\n",
       "      <td>0.0</td>\n",
       "      <td>0.0</td>\n",
       "      <td>0.0</td>\n",
       "      <td>0.0</td>\n",
       "      <td>0.0</td>\n",
       "      <td>0.0</td>\n",
       "      <td>0.0</td>\n",
       "      <td>0.0</td>\n",
       "      <td>0.0</td>\n",
       "      <td>0.0</td>\n",
       "      <td>0.0</td>\n",
       "    </tr>\n",
       "    <tr>\n",
       "      <th>1</th>\n",
       "      <td>2018-07-08</td>\n",
       "      <td>0</td>\n",
       "      <td>1</td>\n",
       "      <td>8.694135</td>\n",
       "      <td>0.926424</td>\n",
       "      <td>0.103043</td>\n",
       "      <td>292.972748</td>\n",
       "      <td>294.421875</td>\n",
       "      <td>87667.421875</td>\n",
       "      <td>1.054819e-02</td>\n",
       "      <td>0.0</td>\n",
       "      <td>1189.0</td>\n",
       "      <td>0.339427</td>\n",
       "      <td>0.060918</td>\n",
       "      <td>97.862534</td>\n",
       "      <td>1.064866</td>\n",
       "      <td>-1.001619</td>\n",
       "      <td>0.522349</td>\n",
       "      <td>0.631020</td>\n",
       "      <td>0.626528</td>\n",
       "      <td>0.657130</td>\n",
       "      <td>0.674091</td>\n",
       "      <td>0.0</td>\n",
       "      <td>0.0</td>\n",
       "      <td>0.0</td>\n",
       "      <td>0.0</td>\n",
       "      <td>0.0</td>\n",
       "      <td>0.0</td>\n",
       "      <td>0.0</td>\n",
       "      <td>0.0</td>\n",
       "      <td>0.0</td>\n",
       "      <td>0.0</td>\n",
       "      <td>0.0</td>\n",
       "      <td>0.0</td>\n",
       "      <td>0.0</td>\n",
       "      <td>0.0</td>\n",
       "      <td>0.0</td>\n",
       "      <td>0.0</td>\n",
       "    </tr>\n",
       "    <tr>\n",
       "      <th>2</th>\n",
       "      <td>2018-07-08</td>\n",
       "      <td>0</td>\n",
       "      <td>2</td>\n",
       "      <td>8.702046</td>\n",
       "      <td>0.784416</td>\n",
       "      <td>0.177018</td>\n",
       "      <td>293.667633</td>\n",
       "      <td>295.682129</td>\n",
       "      <td>89480.257812</td>\n",
       "      <td>9.948850e-03</td>\n",
       "      <td>0.0</td>\n",
       "      <td>975.0</td>\n",
       "      <td>0.625493</td>\n",
       "      <td>0.058055</td>\n",
       "      <td>97.051796</td>\n",
       "      <td>0.587489</td>\n",
       "      <td>-1.125940</td>\n",
       "      <td>0.973524</td>\n",
       "      <td>0.349193</td>\n",
       "      <td>0.602640</td>\n",
       "      <td>0.585718</td>\n",
       "      <td>0.532589</td>\n",
       "      <td>0.0</td>\n",
       "      <td>0.0</td>\n",
       "      <td>0.0</td>\n",
       "      <td>0.0</td>\n",
       "      <td>0.0</td>\n",
       "      <td>0.0</td>\n",
       "      <td>0.0</td>\n",
       "      <td>0.0</td>\n",
       "      <td>0.0</td>\n",
       "      <td>0.0</td>\n",
       "      <td>0.0</td>\n",
       "      <td>0.0</td>\n",
       "      <td>0.0</td>\n",
       "      <td>0.0</td>\n",
       "      <td>0.0</td>\n",
       "      <td>0.0</td>\n",
       "    </tr>\n",
       "    <tr>\n",
       "      <th>3</th>\n",
       "      <td>2018-07-08</td>\n",
       "      <td>0</td>\n",
       "      <td>3</td>\n",
       "      <td>8.956724</td>\n",
       "      <td>0.609245</td>\n",
       "      <td>0.260147</td>\n",
       "      <td>293.460449</td>\n",
       "      <td>295.622559</td>\n",
       "      <td>89063.468750</td>\n",
       "      <td>9.994119e-03</td>\n",
       "      <td>0.0</td>\n",
       "      <td>1005.0</td>\n",
       "      <td>0.176971</td>\n",
       "      <td>0.167542</td>\n",
       "      <td>96.837585</td>\n",
       "      <td>0.669046</td>\n",
       "      <td>-0.095932</td>\n",
       "      <td>-0.419762</td>\n",
       "      <td>0.292146</td>\n",
       "      <td>0.400938</td>\n",
       "      <td>0.429089</td>\n",
       "      <td>0.381801</td>\n",
       "      <td>0.0</td>\n",
       "      <td>0.0</td>\n",
       "      <td>0.0</td>\n",
       "      <td>0.0</td>\n",
       "      <td>0.0</td>\n",
       "      <td>0.0</td>\n",
       "      <td>0.0</td>\n",
       "      <td>0.0</td>\n",
       "      <td>0.0</td>\n",
       "      <td>0.0</td>\n",
       "      <td>0.0</td>\n",
       "      <td>0.0</td>\n",
       "      <td>0.0</td>\n",
       "      <td>0.0</td>\n",
       "      <td>0.0</td>\n",
       "      <td>0.0</td>\n",
       "    </tr>\n",
       "    <tr>\n",
       "      <th>4</th>\n",
       "      <td>2018-07-08</td>\n",
       "      <td>0</td>\n",
       "      <td>4</td>\n",
       "      <td>8.738454</td>\n",
       "      <td>0.311515</td>\n",
       "      <td>0.377131</td>\n",
       "      <td>293.645172</td>\n",
       "      <td>295.106354</td>\n",
       "      <td>88635.007812</td>\n",
       "      <td>1.240605e-02</td>\n",
       "      <td>0.0</td>\n",
       "      <td>1059.0</td>\n",
       "      <td>0.251034</td>\n",
       "      <td>0.208978</td>\n",
       "      <td>97.850403</td>\n",
       "      <td>0.311488</td>\n",
       "      <td>-0.186723</td>\n",
       "      <td>0.275500</td>\n",
       "      <td>0.179783</td>\n",
       "      <td>0.147805</td>\n",
       "      <td>0.167027</td>\n",
       "      <td>0.236561</td>\n",
       "      <td>0.0</td>\n",
       "      <td>0.0</td>\n",
       "      <td>0.0</td>\n",
       "      <td>0.0</td>\n",
       "      <td>0.0</td>\n",
       "      <td>0.0</td>\n",
       "      <td>0.0</td>\n",
       "      <td>0.0</td>\n",
       "      <td>0.0</td>\n",
       "      <td>0.0</td>\n",
       "      <td>0.0</td>\n",
       "      <td>0.0</td>\n",
       "      <td>0.0</td>\n",
       "      <td>0.0</td>\n",
       "      <td>0.0</td>\n",
       "      <td>0.0</td>\n",
       "    </tr>\n",
       "    <tr>\n",
       "      <th>...</th>\n",
       "      <td>...</td>\n",
       "      <td>...</td>\n",
       "      <td>...</td>\n",
       "      <td>...</td>\n",
       "      <td>...</td>\n",
       "      <td>...</td>\n",
       "      <td>...</td>\n",
       "      <td>...</td>\n",
       "      <td>...</td>\n",
       "      <td>...</td>\n",
       "      <td>...</td>\n",
       "      <td>...</td>\n",
       "      <td>...</td>\n",
       "      <td>...</td>\n",
       "      <td>...</td>\n",
       "      <td>...</td>\n",
       "      <td>...</td>\n",
       "      <td>...</td>\n",
       "      <td>...</td>\n",
       "      <td>...</td>\n",
       "      <td>...</td>\n",
       "      <td>...</td>\n",
       "      <td>...</td>\n",
       "      <td>...</td>\n",
       "      <td>...</td>\n",
       "      <td>...</td>\n",
       "      <td>...</td>\n",
       "      <td>...</td>\n",
       "      <td>...</td>\n",
       "      <td>...</td>\n",
       "      <td>...</td>\n",
       "      <td>...</td>\n",
       "      <td>...</td>\n",
       "      <td>...</td>\n",
       "      <td>...</td>\n",
       "      <td>...</td>\n",
       "      <td>...</td>\n",
       "      <td>...</td>\n",
       "    </tr>\n",
       "    <tr>\n",
       "      <th>2410315</th>\n",
       "      <td>2021-12-31</td>\n",
       "      <td>43</td>\n",
       "      <td>39</td>\n",
       "      <td>19.179289</td>\n",
       "      <td>-2.037924</td>\n",
       "      <td>-0.773922</td>\n",
       "      <td>285.754028</td>\n",
       "      <td>292.923798</td>\n",
       "      <td>93622.000000</td>\n",
       "      <td>8.523463e-07</td>\n",
       "      <td>0.0</td>\n",
       "      <td>870.0</td>\n",
       "      <td>3.251724</td>\n",
       "      <td>-0.818115</td>\n",
       "      <td>89.703644</td>\n",
       "      <td>-0.246047</td>\n",
       "      <td>1.876458</td>\n",
       "      <td>-3.444041</td>\n",
       "      <td>-0.360418</td>\n",
       "      <td>-0.118820</td>\n",
       "      <td>0.219062</td>\n",
       "      <td>0.310993</td>\n",
       "      <td>0.0</td>\n",
       "      <td>0.0</td>\n",
       "      <td>0.0</td>\n",
       "      <td>0.0</td>\n",
       "      <td>0.0</td>\n",
       "      <td>0.0</td>\n",
       "      <td>0.0</td>\n",
       "      <td>0.0</td>\n",
       "      <td>0.0</td>\n",
       "      <td>0.0</td>\n",
       "      <td>0.0</td>\n",
       "      <td>0.0</td>\n",
       "      <td>0.0</td>\n",
       "      <td>0.0</td>\n",
       "      <td>0.0</td>\n",
       "      <td>0.0</td>\n",
       "    </tr>\n",
       "    <tr>\n",
       "      <th>2410316</th>\n",
       "      <td>2021-12-31</td>\n",
       "      <td>43</td>\n",
       "      <td>40</td>\n",
       "      <td>19.785183</td>\n",
       "      <td>-1.737936</td>\n",
       "      <td>-0.684505</td>\n",
       "      <td>286.360718</td>\n",
       "      <td>292.731842</td>\n",
       "      <td>95092.710938</td>\n",
       "      <td>8.523463e-07</td>\n",
       "      <td>0.0</td>\n",
       "      <td>673.0</td>\n",
       "      <td>3.448175</td>\n",
       "      <td>0.615328</td>\n",
       "      <td>90.802773</td>\n",
       "      <td>-0.844317</td>\n",
       "      <td>2.134015</td>\n",
       "      <td>-4.559459</td>\n",
       "      <td>0.255882</td>\n",
       "      <td>0.625071</td>\n",
       "      <td>0.679208</td>\n",
       "      <td>0.541765</td>\n",
       "      <td>0.0</td>\n",
       "      <td>0.0</td>\n",
       "      <td>0.0</td>\n",
       "      <td>0.0</td>\n",
       "      <td>0.0</td>\n",
       "      <td>0.0</td>\n",
       "      <td>0.0</td>\n",
       "      <td>0.0</td>\n",
       "      <td>0.0</td>\n",
       "      <td>0.0</td>\n",
       "      <td>0.0</td>\n",
       "      <td>0.0</td>\n",
       "      <td>0.0</td>\n",
       "      <td>0.0</td>\n",
       "      <td>0.0</td>\n",
       "      <td>0.0</td>\n",
       "    </tr>\n",
       "    <tr>\n",
       "      <th>2410317</th>\n",
       "      <td>2021-12-31</td>\n",
       "      <td>43</td>\n",
       "      <td>41</td>\n",
       "      <td>19.760014</td>\n",
       "      <td>-1.432130</td>\n",
       "      <td>-0.599300</td>\n",
       "      <td>286.689514</td>\n",
       "      <td>292.943512</td>\n",
       "      <td>95813.546875</td>\n",
       "      <td>8.523463e-07</td>\n",
       "      <td>0.0</td>\n",
       "      <td>819.0</td>\n",
       "      <td>2.571398</td>\n",
       "      <td>0.732499</td>\n",
       "      <td>90.972664</td>\n",
       "      <td>-1.900846</td>\n",
       "      <td>3.102393</td>\n",
       "      <td>-5.963127</td>\n",
       "      <td>1.370712</td>\n",
       "      <td>1.260495</td>\n",
       "      <td>0.994243</td>\n",
       "      <td>0.738863</td>\n",
       "      <td>0.0</td>\n",
       "      <td>0.0</td>\n",
       "      <td>0.0</td>\n",
       "      <td>0.0</td>\n",
       "      <td>0.0</td>\n",
       "      <td>0.0</td>\n",
       "      <td>0.0</td>\n",
       "      <td>0.0</td>\n",
       "      <td>0.0</td>\n",
       "      <td>0.0</td>\n",
       "      <td>0.0</td>\n",
       "      <td>0.0</td>\n",
       "      <td>0.0</td>\n",
       "      <td>0.0</td>\n",
       "      <td>0.0</td>\n",
       "      <td>0.0</td>\n",
       "    </tr>\n",
       "    <tr>\n",
       "      <th>2410318</th>\n",
       "      <td>2021-12-31</td>\n",
       "      <td>43</td>\n",
       "      <td>42</td>\n",
       "      <td>21.715679</td>\n",
       "      <td>-1.049460</td>\n",
       "      <td>-0.781592</td>\n",
       "      <td>287.109741</td>\n",
       "      <td>293.839081</td>\n",
       "      <td>97267.125000</td>\n",
       "      <td>8.523463e-07</td>\n",
       "      <td>0.0</td>\n",
       "      <td>332.0</td>\n",
       "      <td>-0.948131</td>\n",
       "      <td>2.498683</td>\n",
       "      <td>90.343513</td>\n",
       "      <td>-2.307787</td>\n",
       "      <td>3.217414</td>\n",
       "      <td>-4.070193</td>\n",
       "      <td>1.816282</td>\n",
       "      <td>1.642737</td>\n",
       "      <td>1.325162</td>\n",
       "      <td>1.049587</td>\n",
       "      <td>0.0</td>\n",
       "      <td>0.0</td>\n",
       "      <td>0.0</td>\n",
       "      <td>0.0</td>\n",
       "      <td>0.0</td>\n",
       "      <td>0.0</td>\n",
       "      <td>0.0</td>\n",
       "      <td>0.0</td>\n",
       "      <td>0.0</td>\n",
       "      <td>0.0</td>\n",
       "      <td>0.0</td>\n",
       "      <td>0.0</td>\n",
       "      <td>0.0</td>\n",
       "      <td>0.0</td>\n",
       "      <td>0.0</td>\n",
       "      <td>0.0</td>\n",
       "    </tr>\n",
       "    <tr>\n",
       "      <th>2410319</th>\n",
       "      <td>2021-12-31</td>\n",
       "      <td>43</td>\n",
       "      <td>43</td>\n",
       "      <td>22.111300</td>\n",
       "      <td>-0.649435</td>\n",
       "      <td>-1.023596</td>\n",
       "      <td>287.382050</td>\n",
       "      <td>294.447327</td>\n",
       "      <td>98309.585938</td>\n",
       "      <td>8.523463e-07</td>\n",
       "      <td>0.0</td>\n",
       "      <td>339.0</td>\n",
       "      <td>-1.341961</td>\n",
       "      <td>2.025450</td>\n",
       "      <td>89.902336</td>\n",
       "      <td>-2.694935</td>\n",
       "      <td>3.275910</td>\n",
       "      <td>-1.075627</td>\n",
       "      <td>2.323188</td>\n",
       "      <td>1.938191</td>\n",
       "      <td>1.649596</td>\n",
       "      <td>1.397763</td>\n",
       "      <td>0.0</td>\n",
       "      <td>0.0</td>\n",
       "      <td>0.0</td>\n",
       "      <td>0.0</td>\n",
       "      <td>0.0</td>\n",
       "      <td>0.0</td>\n",
       "      <td>0.0</td>\n",
       "      <td>0.0</td>\n",
       "      <td>0.0</td>\n",
       "      <td>0.0</td>\n",
       "      <td>0.0</td>\n",
       "      <td>0.0</td>\n",
       "      <td>0.0</td>\n",
       "      <td>0.0</td>\n",
       "      <td>0.0</td>\n",
       "      <td>0.0</td>\n",
       "    </tr>\n",
       "  </tbody>\n",
       "</table>\n",
       "<p>2410320 rows × 38 columns</p>\n",
       "</div>"
      ],
      "text/plain": [
       "              time   i   j     pm25_t  u_wind_t  v_wind_t  dew_temp_t      temp_t  surf_pressure_t      precip_t  frp_t  elevation_t  delta_pm25_t+1  delta_pm25_t  r_humidity_t  delta_pm25_t-1  delta_pm25_t-2  delta_pm25_t-3  delta_pm25_avg_3x3  delta_pm25_avg_5x5  delta_pm25_avg_7x7  delta_pm25_avg_9x9  frp_avg_3x3  frp_avg_5x5  frp_avg_7x7  frp_avg_9x9  frp_max_3x3  frp_max_5x5  frp_max_7x7  frp_max_9x9  frp_sum_3x3  frp_sum_5x5  frp_sum_7x7  frp_sum_9x9  frp_buffer_sum_3x3  frp_buffer_sum_5x5  frp_buffer_sum_7x7  frp_buffer_sum_9x9\n",
       "0       2018-07-08   0   0   9.513633  1.040234  0.047216  291.942383  293.100189     85344.046875  1.115932e-02    0.0       1360.0       -0.491020      0.556278     98.281067        0.038002        0.601407        0.302968            0.789314            0.734057            0.640796            0.702518          0.0          0.0          0.0          0.0          0.0          0.0          0.0          0.0          0.0          0.0          0.0          0.0                 0.0                 0.0                 0.0                 0.0\n",
       "1       2018-07-08   0   1   8.694135  0.926424  0.103043  292.972748  294.421875     87667.421875  1.054819e-02    0.0       1189.0        0.339427      0.060918     97.862534        1.064866       -1.001619        0.522349            0.631020            0.626528            0.657130            0.674091          0.0          0.0          0.0          0.0          0.0          0.0          0.0          0.0          0.0          0.0          0.0          0.0                 0.0                 0.0                 0.0                 0.0\n",
       "2       2018-07-08   0   2   8.702046  0.784416  0.177018  293.667633  295.682129     89480.257812  9.948850e-03    0.0        975.0        0.625493      0.058055     97.051796        0.587489       -1.125940        0.973524            0.349193            0.602640            0.585718            0.532589          0.0          0.0          0.0          0.0          0.0          0.0          0.0          0.0          0.0          0.0          0.0          0.0                 0.0                 0.0                 0.0                 0.0\n",
       "3       2018-07-08   0   3   8.956724  0.609245  0.260147  293.460449  295.622559     89063.468750  9.994119e-03    0.0       1005.0        0.176971      0.167542     96.837585        0.669046       -0.095932       -0.419762            0.292146            0.400938            0.429089            0.381801          0.0          0.0          0.0          0.0          0.0          0.0          0.0          0.0          0.0          0.0          0.0          0.0                 0.0                 0.0                 0.0                 0.0\n",
       "4       2018-07-08   0   4   8.738454  0.311515  0.377131  293.645172  295.106354     88635.007812  1.240605e-02    0.0       1059.0        0.251034      0.208978     97.850403        0.311488       -0.186723        0.275500            0.179783            0.147805            0.167027            0.236561          0.0          0.0          0.0          0.0          0.0          0.0          0.0          0.0          0.0          0.0          0.0          0.0                 0.0                 0.0                 0.0                 0.0\n",
       "...            ...  ..  ..        ...       ...       ...         ...         ...              ...           ...    ...          ...             ...           ...           ...             ...             ...             ...                 ...                 ...                 ...                 ...          ...          ...          ...          ...          ...          ...          ...          ...          ...          ...          ...          ...                 ...                 ...                 ...                 ...\n",
       "2410315 2021-12-31  43  39  19.179289 -2.037924 -0.773922  285.754028  292.923798     93622.000000  8.523463e-07    0.0        870.0        3.251724     -0.818115     89.703644       -0.246047        1.876458       -3.444041           -0.360418           -0.118820            0.219062            0.310993          0.0          0.0          0.0          0.0          0.0          0.0          0.0          0.0          0.0          0.0          0.0          0.0                 0.0                 0.0                 0.0                 0.0\n",
       "2410316 2021-12-31  43  40  19.785183 -1.737936 -0.684505  286.360718  292.731842     95092.710938  8.523463e-07    0.0        673.0        3.448175      0.615328     90.802773       -0.844317        2.134015       -4.559459            0.255882            0.625071            0.679208            0.541765          0.0          0.0          0.0          0.0          0.0          0.0          0.0          0.0          0.0          0.0          0.0          0.0                 0.0                 0.0                 0.0                 0.0\n",
       "2410317 2021-12-31  43  41  19.760014 -1.432130 -0.599300  286.689514  292.943512     95813.546875  8.523463e-07    0.0        819.0        2.571398      0.732499     90.972664       -1.900846        3.102393       -5.963127            1.370712            1.260495            0.994243            0.738863          0.0          0.0          0.0          0.0          0.0          0.0          0.0          0.0          0.0          0.0          0.0          0.0                 0.0                 0.0                 0.0                 0.0\n",
       "2410318 2021-12-31  43  42  21.715679 -1.049460 -0.781592  287.109741  293.839081     97267.125000  8.523463e-07    0.0        332.0       -0.948131      2.498683     90.343513       -2.307787        3.217414       -4.070193            1.816282            1.642737            1.325162            1.049587          0.0          0.0          0.0          0.0          0.0          0.0          0.0          0.0          0.0          0.0          0.0          0.0                 0.0                 0.0                 0.0                 0.0\n",
       "2410319 2021-12-31  43  43  22.111300 -0.649435 -1.023596  287.382050  294.447327     98309.585938  8.523463e-07    0.0        339.0       -1.341961      2.025450     89.902336       -2.694935        3.275910       -1.075627            2.323188            1.938191            1.649596            1.397763          0.0          0.0          0.0          0.0          0.0          0.0          0.0          0.0          0.0          0.0          0.0          0.0                 0.0                 0.0                 0.0                 0.0\n",
       "\n",
       "[2410320 rows x 38 columns]"
      ]
     },
     "execution_count": 66,
     "metadata": {},
     "output_type": "execute_result"
    }
   ],
   "source": [
    "train_df"
   ]
  },
  {
   "cell_type": "code",
   "execution_count": 8,
   "id": "d47a7a71",
   "metadata": {},
   "outputs": [
    {
     "data": {
      "application/vnd.jupyter.widget-view+json": {
       "model_id": "88203ff83efe4d7abf4c7b54b99094ec",
       "version_major": 2,
       "version_minor": 0
      },
      "text/plain": [
       "  0%|          | 0/5 [00:00<?, ?it/s]"
      ]
     },
     "metadata": {},
     "output_type": "display_data"
    },
    {
     "name": "stdout",
     "output_type": "stream",
     "text": [
      "Running experiment: base\n"
     ]
    },
    {
     "data": {
      "application/vnd.jupyter.widget-view+json": {
       "model_id": "0ec4bc484d9847b58a2c5487da5bd5e2",
       "version_major": 2,
       "version_minor": 0
      },
      "text/plain": [
       "  0%|          | 0/10 [00:00<?, ?it/s]"
      ]
     },
     "metadata": {},
     "output_type": "display_data"
    },
    {
     "name": "stdout",
     "output_type": "stream",
     "text": [
      "Running experiment: avg_3x3\n"
     ]
    },
    {
     "data": {
      "application/vnd.jupyter.widget-view+json": {
       "model_id": "f4154c6166fa4d438b5c75fe40888243",
       "version_major": 2,
       "version_minor": 0
      },
      "text/plain": [
       "  0%|          | 0/10 [00:00<?, ?it/s]"
      ]
     },
     "metadata": {},
     "output_type": "display_data"
    },
    {
     "name": "stdout",
     "output_type": "stream",
     "text": [
      "Running experiment: avg_3x3 + avg_5x5\n"
     ]
    },
    {
     "data": {
      "application/vnd.jupyter.widget-view+json": {
       "model_id": "e65591561f354e179ccc8029f295c1a6",
       "version_major": 2,
       "version_minor": 0
      },
      "text/plain": [
       "  0%|          | 0/10 [00:00<?, ?it/s]"
      ]
     },
     "metadata": {},
     "output_type": "display_data"
    },
    {
     "name": "stdout",
     "output_type": "stream",
     "text": [
      "Running experiment: avg_3x3 + avg_5x5 + avg_7x7\n"
     ]
    },
    {
     "data": {
      "application/vnd.jupyter.widget-view+json": {
       "model_id": "4266eae5e66646958e537677b545c095",
       "version_major": 2,
       "version_minor": 0
      },
      "text/plain": [
       "  0%|          | 0/10 [00:00<?, ?it/s]"
      ]
     },
     "metadata": {},
     "output_type": "display_data"
    },
    {
     "name": "stdout",
     "output_type": "stream",
     "text": [
      "Running experiment: avg_3x3 + avg_5x5 + avg_7x7 + avg_9x9\n"
     ]
    },
    {
     "data": {
      "application/vnd.jupyter.widget-view+json": {
       "model_id": "eab2bd62625d40dfbef7c785fae6cb46",
       "version_major": 2,
       "version_minor": 0
      },
      "text/plain": [
       "  0%|          | 0/10 [00:00<?, ?it/s]"
      ]
     },
     "metadata": {},
     "output_type": "display_data"
    },
    {
     "name": "stdout",
     "output_type": "stream",
     "text": [
      "                              experiment  n_features  mean_rmse  mean_mae  rmse_fold_1  rmse_fold_2  rmse_fold_3  rmse_fold_4  rmse_fold_5  rmse_fold_6  rmse_fold_7  rmse_fold_8  rmse_fold_9  rmse_fold_10\n",
      "3            avg_3x3 + avg_5x5 + avg_7x7          25   4.259234  2.890477     1.635680     4.811951     5.014915     8.429635    13.021328     1.999661     0.907189     0.989143     1.820528      3.962305\n",
      "4  avg_3x3 + avg_5x5 + avg_7x7 + avg_9x9          26   4.262029  2.887693     1.639777     4.830130     5.039243     8.398254    13.068495     2.004410     0.902601     0.987010     1.814540      3.935828\n",
      "1                                avg_3x3          23   4.285366  2.899083     1.623918     4.930042     5.058410     8.477091    13.073864     2.013985     0.904917     0.987274     1.825857      3.958304\n",
      "2                      avg_3x3 + avg_5x5          24   4.291265  2.905493     1.631890     4.951220     5.038312     8.452093    13.171988     1.999304     0.906848     0.986724     1.822444      3.951829\n",
      "0                                   base          22   4.313308  2.916679     1.632187     4.948447     5.087876     8.511748    13.256515     2.006051     0.907929     0.989286     1.818663      3.974378\n"
     ]
    }
   ],
   "source": [
    "base = ['delta_pm25_t', 'delta_pm25_t-1', 'delta_pm25_t-2', 'delta_pm25_t-3', 'pm25_t', 'u_wind_t', 'v_wind_t',\n",
    "       'dew_temp_t', 'temp_t', 'surf_pressure_t', 'precip_t',\n",
    "       'frp_t', 'elevation_t', 'r_humidity_t']\n",
    "\n",
    "base += ['delta_pm25_avg_3x3', 'delta_pm25_avg_5x5', 'delta_pm25_avg_7x7', 'delta_pm25_avg_9x9']\n",
    "\n",
    "base += ['pm25_avg_3x3', 'pm25_avg_5x5', 'pm25_avg_7x7', 'pm25_avg_9x9']\n",
    "\n",
    "params = {\n",
    "    'max_depth': 4,            \n",
    "    'learning_rate': 0.1,     \n",
    "    'n_estimators': 150,     \n",
    "    'subsample': 0.8,          \n",
    "    'colsample_bytree': 0.8,   \n",
    "    'objective': 'reg:pseudohubererror'   \n",
    "}\n",
    "\n",
    "feature_experiments = [('base', base)] + [\n",
    "    (\n",
    "        \" + \".join(f\"avg_{j}x{j}\" for j in range(3, t+1, 2)),\n",
    "        base + [f\"frp_avg_{size}x{size}\" for size in range(3, t+1, 2)]\n",
    "    )\n",
    "    for t in range(3, 9+1, 2)\n",
    "]\n",
    "\n",
    "model=xgb.XGBRegressor(**params, random_state=191)\n",
    "\n",
    "results = T.run_experiments(\n",
    "    df=train_df, \n",
    "    model=model, \n",
    "    feature_experiments=feature_experiments, \n",
    "    train_days=365*2,\n",
    "    gap_days=21,\n",
    "    val_days=49\n",
    ")\n",
    "\n",
    "print(results.sort_values('mean_rmse'))"
   ]
  },
  {
   "cell_type": "code",
   "execution_count": 9,
   "id": "8b9162eb",
   "metadata": {},
   "outputs": [
    {
     "name": "stdout",
     "output_type": "stream",
     "text": [
      "                           experiment  mean_rmse\n",
      "                                 base      4.313\n",
      "                    avg_3x3 + avg_5x5      4.291\n",
      "                              avg_3x3      4.285\n",
      "avg_3x3 + avg_5x5 + avg_7x7 + avg_9x9      4.262\n",
      "          avg_3x3 + avg_5x5 + avg_7x7      4.259\n"
     ]
    },
    {
     "data": {
      "image/png": "[encoded data removed]",
      "text/plain": [
       "<Figure size 1000x600 with 1 Axes>"
      ]
     },
     "metadata": {},
     "output_type": "display_data"
    }
   ],
   "source": [
    "df = results\n",
    "# Sort by mean_rmse ascending\n",
    "df_sorted = df.sort_values(\"mean_rmse\", ascending=False)\n",
    "\n",
    "# Display the sorted DataFrame (experiment and mean_rmse)\n",
    "display_df = df_sorted[[\"experiment\", \"mean_rmse\"]].copy()\n",
    "display_df[\"mean_rmse\"] = display_df[\"mean_rmse\"].round(3)\n",
    "\n",
    "# Print the table to console\n",
    "print(display_df.to_string(index=False))\n",
    "\n",
    "# Create a bar chart of mean RMSE values, sorted\n",
    "plt.figure(figsize=(10, 6))\n",
    "bars = plt.bar(display_df[\"experiment\"], display_df[\"mean_rmse\"], color='#27aeef')\n",
    "plt.ylim(display_df[\"mean_rmse\"].min() - 0.01, display_df[\"mean_rmse\"].max() + 0.01)\n",
    "plt.xticks(rotation=10, ha=\"right\")\n",
    "plt.xlabel(\"Experiment\", fontsize=12)\n",
    "plt.ylabel(\"Mean RMSE\", fontsize=12)\n",
    "\n",
    "# Annotate each bar with its exact mean value\n",
    "for bar, mean in zip(bars, display_df[\"mean_rmse\"]):\n",
    "    y = bar.get_height()\n",
    "    plt.text(bar.get_x() + bar.get_width() / 2, y + 0.002, f\"{mean:.3f}\", \n",
    "             ha='center', va='bottom', fontsize=10)\n",
    "\n",
    "plt.title(\"Mean RMSE vs. Spatial Averages (FRP)\", fontsize=14)\n",
    "\n",
    "plt.tight_layout()\n",
    "plt.show()\n"
   ]
  },
  {
   "cell_type": "code",
   "execution_count": 10,
   "id": "0186d144",
   "metadata": {},
   "outputs": [
    {
     "data": {
      "application/vnd.jupyter.widget-view+json": {
       "model_id": "51ab4309fb6f43b9a68da047263a65f7",
       "version_major": 2,
       "version_minor": 0
      },
      "text/plain": [
       "  0%|          | 0/5 [00:00<?, ?it/s]"
      ]
     },
     "metadata": {},
     "output_type": "display_data"
    },
    {
     "name": "stdout",
     "output_type": "stream",
     "text": [
      "Running experiment: base\n"
     ]
    },
    {
     "data": {
      "application/vnd.jupyter.widget-view+json": {
       "model_id": "b0bfe73b0a634ee68cd13bc240cf7206",
       "version_major": 2,
       "version_minor": 0
      },
      "text/plain": [
       "  0%|          | 0/10 [00:00<?, ?it/s]"
      ]
     },
     "metadata": {},
     "output_type": "display_data"
    },
    {
     "name": "stdout",
     "output_type": "stream",
     "text": [
      "Running experiment: max3x3\n"
     ]
    },
    {
     "data": {
      "application/vnd.jupyter.widget-view+json": {
       "model_id": "a3cd633378924857bf8b157e3f4c2296",
       "version_major": 2,
       "version_minor": 0
      },
      "text/plain": [
       "  0%|          | 0/10 [00:00<?, ?it/s]"
      ]
     },
     "metadata": {},
     "output_type": "display_data"
    },
    {
     "name": "stdout",
     "output_type": "stream",
     "text": [
      "Running experiment: max3x3 + max5x5\n"
     ]
    },
    {
     "data": {
      "application/vnd.jupyter.widget-view+json": {
       "model_id": "80da9ca469da47b387895fe00e731402",
       "version_major": 2,
       "version_minor": 0
      },
      "text/plain": [
       "  0%|          | 0/10 [00:00<?, ?it/s]"
      ]
     },
     "metadata": {},
     "output_type": "display_data"
    },
    {
     "name": "stdout",
     "output_type": "stream",
     "text": [
      "Running experiment: max3x3 + max5x5 + max7x7\n"
     ]
    },
    {
     "data": {
      "application/vnd.jupyter.widget-view+json": {
       "model_id": "d529e9c1dedf4e0b86283dd5b9506e2a",
       "version_major": 2,
       "version_minor": 0
      },
      "text/plain": [
       "  0%|          | 0/10 [00:00<?, ?it/s]"
      ]
     },
     "metadata": {},
     "output_type": "display_data"
    },
    {
     "name": "stdout",
     "output_type": "stream",
     "text": [
      "Running experiment: max3x3 + max5x5 + max7x7 + max9x9\n"
     ]
    },
    {
     "data": {
      "application/vnd.jupyter.widget-view+json": {
       "model_id": "279c7da740a4405ea82a579b073ee111",
       "version_major": 2,
       "version_minor": 0
      },
      "text/plain": [
       "  0%|          | 0/10 [00:00<?, ?it/s]"
      ]
     },
     "metadata": {},
     "output_type": "display_data"
    },
    {
     "name": "stdout",
     "output_type": "stream",
     "text": [
      "                          experiment  n_features  mean_rmse  mean_mae  rmse_fold_1  rmse_fold_2  rmse_fold_3  rmse_fold_4  rmse_fold_5  rmse_fold_6  rmse_fold_7  rmse_fold_8  rmse_fold_9  rmse_fold_10\n",
      "4  max3x3 + max5x5 + max7x7 + max9x9          26   4.258318  2.886747     1.619558     4.894071     5.022154     8.418129    12.966797     2.007437     0.904506     0.983318     1.821194      3.946011\n",
      "2                    max3x3 + max5x5          24   4.261239  2.890739     1.632358     4.803957     5.035296     8.441336    13.017299     1.998611     0.907871     0.987392     1.818513      3.969760\n",
      "3           max3x3 + max5x5 + max7x7          25   4.272053  2.895055     1.623868     4.872813     5.052354     8.437663    13.066892     2.000197     0.907319     0.985565     1.824509      3.949346\n",
      "1                             max3x3          23   4.276665  2.898092     1.640860     4.859802     5.076661     8.448623    13.050534     2.021817     0.909932     0.988047     1.822856      3.947522\n",
      "0                               base          22   4.313308  2.916679     1.632187     4.948447     5.087876     8.511748    13.256515     2.006051     0.907929     0.989286     1.818663      3.974378\n"
     ]
    }
   ],
   "source": [
    "base = ['delta_pm25_t', 'delta_pm25_t-1', 'delta_pm25_t-2', 'delta_pm25_t-3', 'pm25_t', 'u_wind_t', 'v_wind_t',\n",
    "       'dew_temp_t', 'temp_t', 'surf_pressure_t', 'precip_t',\n",
    "       'frp_t', 'elevation_t', 'r_humidity_t']\n",
    "\n",
    "base += ['delta_pm25_avg_3x3', 'delta_pm25_avg_5x5', 'delta_pm25_avg_7x7', 'delta_pm25_avg_9x9']\n",
    "\n",
    "base += ['pm25_avg_3x3', 'pm25_avg_5x5', 'pm25_avg_7x7', 'pm25_avg_9x9']\n",
    "\n",
    "params = {\n",
    "    'max_depth': 4,            \n",
    "    'learning_rate': 0.1,     \n",
    "    'n_estimators': 150,     \n",
    "    'subsample': 0.8,          \n",
    "    'colsample_bytree': 0.8,   \n",
    "    'objective': 'reg:pseudohubererror'   \n",
    "}\n",
    "\n",
    "feature_experiments = [('base', base)] + [\n",
    "    (\n",
    "        \" + \".join(f\"max{j}x{j}\" for j in range(3, t+1, 2)),\n",
    "        base + [f\"frp_max_{size}x{size}\" for size in range(3, t+1, 2)]\n",
    "    )\n",
    "    for t in range(3, 9+1, 2)\n",
    "]\n",
    "\n",
    "model=xgb.XGBRegressor(**params, random_state=191)\n",
    "\n",
    "results = T.run_experiments(\n",
    "    df=train_df, \n",
    "    model=model, \n",
    "    feature_experiments=feature_experiments, \n",
    "    train_days=365*2,\n",
    "    gap_days=21,\n",
    "    val_days=49\n",
    ")\n",
    "\n",
    "print(results.sort_values('mean_rmse'))"
   ]
  },
  {
   "cell_type": "code",
   "execution_count": 11,
   "id": "3c1c6e44",
   "metadata": {},
   "outputs": [
    {
     "name": "stdout",
     "output_type": "stream",
     "text": [
      "                       experiment  mean_rmse\n",
      "                             base      4.313\n",
      "                           max3x3      4.277\n",
      "         max3x3 + max5x5 + max7x7      4.272\n",
      "                  max3x3 + max5x5      4.261\n",
      "max3x3 + max5x5 + max7x7 + max9x9      4.258\n"
     ]
    },
    {
     "data": {
      "image/png": "[encoded data removed]",
      "text/plain": [
       "<Figure size 1000x600 with 1 Axes>"
      ]
     },
     "metadata": {},
     "output_type": "display_data"
    }
   ],
   "source": [
    "df = results\n",
    "# Sort by mean_rmse ascending\n",
    "df_sorted = df.sort_values(\"mean_rmse\", ascending=False)\n",
    "\n",
    "# Display the sorted DataFrame (experiment and mean_rmse)\n",
    "display_df = df_sorted[[\"experiment\", \"mean_rmse\"]].copy()\n",
    "display_df[\"mean_rmse\"] = display_df[\"mean_rmse\"].round(3)\n",
    "\n",
    "# Print the table to console\n",
    "print(display_df.to_string(index=False))\n",
    "\n",
    "# Create a bar chart of mean RMSE values, sorted\n",
    "plt.figure(figsize=(10, 6))\n",
    "bars = plt.bar(display_df[\"experiment\"], display_df[\"mean_rmse\"], color='#27aeef')\n",
    "plt.ylim(display_df[\"mean_rmse\"].min() - 0.01, display_df[\"mean_rmse\"].max() + 0.01)\n",
    "plt.xticks(rotation=10, ha=\"right\")\n",
    "plt.xlabel(\"Experiment\", fontsize=12)\n",
    "plt.ylabel(\"Mean RMSE\", fontsize=12)\n",
    "\n",
    "# Annotate each bar with its exact mean value\n",
    "for bar, mean in zip(bars, display_df[\"mean_rmse\"]):\n",
    "    y = bar.get_height()\n",
    "    plt.text(bar.get_x() + bar.get_width() / 2, y + 0.002, f\"{mean:.3f}\", \n",
    "             ha='center', va='bottom', fontsize=10)\n",
    "\n",
    "plt.title(\"Mean RMSE vs. Spatial Max-Pooling (FRP)\", fontsize=14)\n",
    "\n",
    "plt.tight_layout()\n",
    "plt.show()\n"
   ]
  },
  {
   "cell_type": "code",
   "execution_count": 12,
   "id": "4337b1b0",
   "metadata": {},
   "outputs": [
    {
     "data": {
      "application/vnd.jupyter.widget-view+json": {
       "model_id": "67c3657742a844fabb08c0831ed22ade",
       "version_major": 2,
       "version_minor": 0
      },
      "text/plain": [
       "  0%|          | 0/5 [00:00<?, ?it/s]"
      ]
     },
     "metadata": {},
     "output_type": "display_data"
    },
    {
     "name": "stdout",
     "output_type": "stream",
     "text": [
      "Running experiment: base\n"
     ]
    },
    {
     "data": {
      "application/vnd.jupyter.widget-view+json": {
       "model_id": "20283dc0a403400a8472626490f715a7",
       "version_major": 2,
       "version_minor": 0
      },
      "text/plain": [
       "  0%|          | 0/10 [00:00<?, ?it/s]"
      ]
     },
     "metadata": {},
     "output_type": "display_data"
    },
    {
     "name": "stdout",
     "output_type": "stream",
     "text": [
      "Running experiment: sum3x3\n"
     ]
    },
    {
     "data": {
      "application/vnd.jupyter.widget-view+json": {
       "model_id": "96a63915952c4521916af3626e0fbcca",
       "version_major": 2,
       "version_minor": 0
      },
      "text/plain": [
       "  0%|          | 0/10 [00:00<?, ?it/s]"
      ]
     },
     "metadata": {},
     "output_type": "display_data"
    },
    {
     "name": "stdout",
     "output_type": "stream",
     "text": [
      "Running experiment: sum3x3 + sum5x5\n"
     ]
    },
    {
     "data": {
      "application/vnd.jupyter.widget-view+json": {
       "model_id": "563aea1ec80d4788a9f42caaabff5318",
       "version_major": 2,
       "version_minor": 0
      },
      "text/plain": [
       "  0%|          | 0/10 [00:00<?, ?it/s]"
      ]
     },
     "metadata": {},
     "output_type": "display_data"
    },
    {
     "name": "stdout",
     "output_type": "stream",
     "text": [
      "Running experiment: sum3x3 + sum5x5 + sum7x7\n"
     ]
    },
    {
     "data": {
      "application/vnd.jupyter.widget-view+json": {
       "model_id": "260e3fb8858d40b8bba55f19c4f77c80",
       "version_major": 2,
       "version_minor": 0
      },
      "text/plain": [
       "  0%|          | 0/10 [00:00<?, ?it/s]"
      ]
     },
     "metadata": {},
     "output_type": "display_data"
    },
    {
     "name": "stdout",
     "output_type": "stream",
     "text": [
      "Running experiment: sum3x3 + sum5x5 + sum7x7 + sum9x9\n"
     ]
    },
    {
     "data": {
      "application/vnd.jupyter.widget-view+json": {
       "model_id": "d874b4bda74a48d79fbedcf1be8dd799",
       "version_major": 2,
       "version_minor": 0
      },
      "text/plain": [
       "  0%|          | 0/10 [00:00<?, ?it/s]"
      ]
     },
     "metadata": {},
     "output_type": "display_data"
    },
    {
     "name": "stdout",
     "output_type": "stream",
     "text": [
      "                          experiment  n_features  mean_rmse  mean_mae  rmse_fold_1  rmse_fold_2  rmse_fold_3  rmse_fold_4  rmse_fold_5  rmse_fold_6  rmse_fold_7  rmse_fold_8  rmse_fold_9  rmse_fold_10\n",
      "4  sum3x3 + sum5x5 + sum7x7 + sum9x9          26   4.270850  2.893101     1.630089     4.862307     5.017567     8.398998    13.143106     1.994717     0.902780     0.983733     1.818362      3.956846\n",
      "2                    sum3x3 + sum5x5          24   4.273718  2.897256     1.627314     4.862631     5.036919     8.455885    13.071354     1.999140     0.905688     0.987080     1.822250      3.968919\n",
      "3           sum3x3 + sum5x5 + sum7x7          25   4.279270  2.900195     1.628970     4.817482     5.046863     8.423739    13.208253     1.992089     0.906385     0.988548     1.819179      3.961191\n",
      "1                             sum3x3          23   4.310227  2.911272     1.627161     4.969839     5.079873     8.459857    13.284160     2.006002     0.907021     0.986174     1.827129      3.955056\n",
      "0                               base          22   4.313308  2.916679     1.632187     4.948447     5.087876     8.511748    13.256515     2.006051     0.907929     0.989286     1.818663      3.974378\n"
     ]
    }
   ],
   "source": [
    "base = ['delta_pm25_t', 'delta_pm25_t-1', 'delta_pm25_t-2', 'delta_pm25_t-3', 'pm25_t', 'u_wind_t', 'v_wind_t',\n",
    "       'dew_temp_t', 'temp_t', 'surf_pressure_t', 'precip_t',\n",
    "       'frp_t', 'elevation_t', 'r_humidity_t']\n",
    "\n",
    "base += ['delta_pm25_avg_3x3', 'delta_pm25_avg_5x5', 'delta_pm25_avg_7x7', 'delta_pm25_avg_9x9']\n",
    "\n",
    "base += ['pm25_avg_3x3', 'pm25_avg_5x5', 'pm25_avg_7x7', 'pm25_avg_9x9']\n",
    "\n",
    "params = {\n",
    "    'max_depth': 4,            \n",
    "    'learning_rate': 0.1,     \n",
    "    'n_estimators': 150,     \n",
    "    'subsample': 0.8,          \n",
    "    'colsample_bytree': 0.8,   \n",
    "    'objective': 'reg:pseudohubererror'   \n",
    "}\n",
    "\n",
    "feature_experiments = [('base', base)] + [\n",
    "    (\n",
    "        \" + \".join(f\"sum{j}x{j}\" for j in range(3, t+1, 2)),\n",
    "        base + [f\"frp_sum_{size}x{size}\" for size in range(3, t+1, 2)]\n",
    "    )\n",
    "    for t in range(3, 9+1, 2)\n",
    "]\n",
    "\n",
    "model=xgb.XGBRegressor(**params, random_state=191)\n",
    "\n",
    "results = T.run_experiments(\n",
    "    df=train_df, \n",
    "    model=model, \n",
    "    feature_experiments=feature_experiments, \n",
    "    train_days=365*2,\n",
    "    gap_days=21,\n",
    "    val_days=49\n",
    ")\n",
    "\n",
    "print(results.sort_values('mean_rmse'))"
   ]
  },
  {
   "cell_type": "code",
   "execution_count": 13,
   "id": "0b534fb7",
   "metadata": {},
   "outputs": [
    {
     "data": {
      "application/vnd.jupyter.widget-view+json": {
       "model_id": "5e0d8e8d94cd4c9ba677c09988a9c968",
       "version_major": 2,
       "version_minor": 0
      },
      "text/plain": [
       "  0%|          | 0/5 [00:00<?, ?it/s]"
      ]
     },
     "metadata": {},
     "output_type": "display_data"
    },
    {
     "name": "stdout",
     "output_type": "stream",
     "text": [
      "Running experiment: base\n"
     ]
    },
    {
     "data": {
      "application/vnd.jupyter.widget-view+json": {
       "model_id": "74bee35c12864fab9cc4d3b81692c643",
       "version_major": 2,
       "version_minor": 0
      },
      "text/plain": [
       "  0%|          | 0/10 [00:00<?, ?it/s]"
      ]
     },
     "metadata": {},
     "output_type": "display_data"
    },
    {
     "name": "stdout",
     "output_type": "stream",
     "text": [
      "Running experiment: buffer_sum_3x3\n"
     ]
    },
    {
     "data": {
      "application/vnd.jupyter.widget-view+json": {
       "model_id": "0930e22ebafb4299a32504684676be17",
       "version_major": 2,
       "version_minor": 0
      },
      "text/plain": [
       "  0%|          | 0/10 [00:00<?, ?it/s]"
      ]
     },
     "metadata": {},
     "output_type": "display_data"
    },
    {
     "name": "stdout",
     "output_type": "stream",
     "text": [
      "Running experiment: buffer_sum_3x3 + buffer_sum_5x5\n"
     ]
    },
    {
     "data": {
      "application/vnd.jupyter.widget-view+json": {
       "model_id": "62eabdbe24f3458fa40f41752f473396",
       "version_major": 2,
       "version_minor": 0
      },
      "text/plain": [
       "  0%|          | 0/10 [00:00<?, ?it/s]"
      ]
     },
     "metadata": {},
     "output_type": "display_data"
    },
    {
     "name": "stdout",
     "output_type": "stream",
     "text": [
      "Running experiment: buffer_sum_3x3 + buffer_sum_5x5 + buffer_sum_7x7\n"
     ]
    },
    {
     "data": {
      "application/vnd.jupyter.widget-view+json": {
       "model_id": "b2b61c37aead4a328266efd24e14b7d9",
       "version_major": 2,
       "version_minor": 0
      },
      "text/plain": [
       "  0%|          | 0/10 [00:00<?, ?it/s]"
      ]
     },
     "metadata": {},
     "output_type": "display_data"
    },
    {
     "name": "stdout",
     "output_type": "stream",
     "text": [
      "Running experiment: buffer_sum_3x3 + buffer_sum_5x5 + buffer_sum_7x7 + buffer_sum_9x9\n"
     ]
    },
    {
     "data": {
      "application/vnd.jupyter.widget-view+json": {
       "model_id": "d03a4a9d9b144650b24003c6dfc77b56",
       "version_major": 2,
       "version_minor": 0
      },
      "text/plain": [
       "  0%|          | 0/10 [00:00<?, ?it/s]"
      ]
     },
     "metadata": {},
     "output_type": "display_data"
    },
    {
     "name": "stdout",
     "output_type": "stream",
     "text": [
      "                                          experiment  n_features  mean_rmse  mean_mae  rmse_fold_1  rmse_fold_2  rmse_fold_3  rmse_fold_4  rmse_fold_5  rmse_fold_6  rmse_fold_7  rmse_fold_8  rmse_fold_9  rmse_fold_10\n",
      "3   buffer_sum_3x3 + buffer_sum_5x5 + buffer_sum_7x7          25   4.258817  2.887679     1.633315     4.794489     5.035571     8.430594    13.039039     2.000343     0.903410     0.986378     1.823798      3.941233\n",
      "4  buffer_sum_3x3 + buffer_sum_5x5 + buffer_sum_7...          26   4.275285  2.892911     1.640941     4.868231     5.030118     8.424077    13.153977     1.993225     0.905726     0.986803     1.817711      3.932040\n",
      "2                    buffer_sum_3x3 + buffer_sum_5x5          24   4.276300  2.896947     1.636727     4.830444     5.052329     8.436886    13.129902     2.009956     0.908729     0.986476     1.819960      3.951592\n",
      "1                                     buffer_sum_3x3          23   4.310227  2.911272     1.627161     4.969839     5.079873     8.459857    13.284160     2.006002     0.907021     0.986174     1.827129      3.955056\n",
      "0                                               base          22   4.313308  2.916679     1.632187     4.948447     5.087876     8.511748    13.256515     2.006051     0.907929     0.989286     1.818663      3.974378\n"
     ]
    }
   ],
   "source": [
    "base = ['delta_pm25_t', 'delta_pm25_t-1', 'delta_pm25_t-2', 'delta_pm25_t-3', 'pm25_t', 'u_wind_t', 'v_wind_t',\n",
    "       'dew_temp_t', 'temp_t', 'surf_pressure_t', 'precip_t',\n",
    "       'frp_t', 'elevation_t', 'r_humidity_t']\n",
    "\n",
    "base += ['delta_pm25_avg_3x3', 'delta_pm25_avg_5x5', 'delta_pm25_avg_7x7', 'delta_pm25_avg_9x9']\n",
    "\n",
    "base += ['pm25_avg_3x3', 'pm25_avg_5x5', 'pm25_avg_7x7', 'pm25_avg_9x9']\n",
    "\n",
    "params = {\n",
    "    'max_depth': 4,            \n",
    "    'learning_rate': 0.1,     \n",
    "    'n_estimators': 150,     \n",
    "    'subsample': 0.8,          \n",
    "    'colsample_bytree': 0.8,   \n",
    "    'objective': 'reg:pseudohubererror'   \n",
    "}\n",
    "feature_experiments = [('base', base)] + [\n",
    "    (\n",
    "        \" + \".join(f\"buffer_sum_{j}x{j}\" for j in range(3, t+1, 2)),\n",
    "        base + [f\"frp_buffer_sum_{size}x{size}\" for size in range(3, t+1, 2)]\n",
    "    )\n",
    "    for t in range(3, 9+1, 2)\n",
    "]\n",
    "\n",
    "model=xgb.XGBRegressor(**params, random_state=191)\n",
    "\n",
    "results = T.run_experiments(\n",
    "    df=train_df, \n",
    "    model=model, \n",
    "    feature_experiments=feature_experiments, \n",
    "    train_days=365*2,\n",
    "    gap_days=21,\n",
    "    val_days=49\n",
    ")\n",
    "\n",
    "print(results.sort_values('mean_rmse'))"
   ]
  },
  {
   "cell_type": "code",
   "execution_count": 7,
   "id": "9e17ba4a",
   "metadata": {},
   "outputs": [
    {
     "data": {
      "text/html": [
       "<div>\n",
       "<style scoped>\n",
       "    .dataframe tbody tr th:only-of-type {\n",
       "        vertical-align: middle;\n",
       "    }\n",
       "\n",
       "    .dataframe tbody tr th {\n",
       "        vertical-align: top;\n",
       "    }\n",
       "\n",
       "    .dataframe thead th {\n",
       "        text-align: right;\n",
       "    }\n",
       "</style>\n",
       "<table border=\"1\" class=\"dataframe\">\n",
       "  <thead>\n",
       "    <tr style=\"text-align: right;\">\n",
       "      <th></th>\n",
       "      <th>time</th>\n",
       "      <th>i</th>\n",
       "      <th>j</th>\n",
       "      <th>pm25_t</th>\n",
       "      <th>u_wind_t</th>\n",
       "      <th>v_wind_t</th>\n",
       "      <th>dew_temp_t</th>\n",
       "      <th>temp_t</th>\n",
       "      <th>precip_t</th>\n",
       "      <th>frp_t</th>\n",
       "      <th>elevation_t</th>\n",
       "      <th>delta_pm25_t+1</th>\n",
       "      <th>delta_pm25_t</th>\n",
       "      <th>delta_pm25_ma2</th>\n",
       "      <th>delta_pm25_ma3</th>\n",
       "      <th>delta_pm25_ma4</th>\n",
       "      <th>delta_pm25_ma5</th>\n",
       "      <th>delta_pm25_ma6</th>\n",
       "      <th>delta_pm25_ma7</th>\n",
       "      <th>delta_pm25_ma8</th>\n",
       "      <th>delta_pm25_ma9</th>\n",
       "      <th>delta_pm25_ma10</th>\n",
       "      <th>delta_pm25_ma11</th>\n",
       "      <th>frp_avg_3x3</th>\n",
       "      <th>frp_avg_5x5</th>\n",
       "      <th>frp_avg_7x7</th>\n",
       "      <th>frp_avg_9x9</th>\n",
       "      <th>frp_max_3x3</th>\n",
       "      <th>frp_max_5x5</th>\n",
       "      <th>frp_max_7x7</th>\n",
       "      <th>frp_max_9x9</th>\n",
       "    </tr>\n",
       "  </thead>\n",
       "  <tbody>\n",
       "    <tr>\n",
       "      <th>0</th>\n",
       "      <td>2018-07-05</td>\n",
       "      <td>0</td>\n",
       "      <td>0</td>\n",
       "      <td>8.317946</td>\n",
       "      <td>1.432791</td>\n",
       "      <td>0.080936</td>\n",
       "      <td>291.415344</td>\n",
       "      <td>295.229156</td>\n",
       "      <td>3.422684e-03</td>\n",
       "      <td>0.0</td>\n",
       "      <td>1360.0</td>\n",
       "      <td>0.601407</td>\n",
       "      <td>0.302968</td>\n",
       "      <td>0.302968</td>\n",
       "      <td>0.302968</td>\n",
       "      <td>0.302968</td>\n",
       "      <td>0.302968</td>\n",
       "      <td>0.302968</td>\n",
       "      <td>0.302968</td>\n",
       "      <td>0.302968</td>\n",
       "      <td>0.302968</td>\n",
       "      <td>0.302968</td>\n",
       "      <td>0.302968</td>\n",
       "      <td>0.0</td>\n",
       "      <td>0.0</td>\n",
       "      <td>0.0</td>\n",
       "      <td>0.0</td>\n",
       "      <td>0.0</td>\n",
       "      <td>0.0</td>\n",
       "      <td>0.0</td>\n",
       "      <td>0.0</td>\n",
       "    </tr>\n",
       "    <tr>\n",
       "      <th>1</th>\n",
       "      <td>2018-07-05</td>\n",
       "      <td>0</td>\n",
       "      <td>1</td>\n",
       "      <td>8.569970</td>\n",
       "      <td>1.296195</td>\n",
       "      <td>0.262333</td>\n",
       "      <td>292.346069</td>\n",
       "      <td>296.649719</td>\n",
       "      <td>2.399749e-03</td>\n",
       "      <td>0.0</td>\n",
       "      <td>1189.0</td>\n",
       "      <td>-1.001619</td>\n",
       "      <td>0.522349</td>\n",
       "      <td>0.522349</td>\n",
       "      <td>0.522349</td>\n",
       "      <td>0.522349</td>\n",
       "      <td>0.522349</td>\n",
       "      <td>0.522349</td>\n",
       "      <td>0.522349</td>\n",
       "      <td>0.522349</td>\n",
       "      <td>0.522349</td>\n",
       "      <td>0.522349</td>\n",
       "      <td>0.522349</td>\n",
       "      <td>0.0</td>\n",
       "      <td>0.0</td>\n",
       "      <td>0.0</td>\n",
       "      <td>0.0</td>\n",
       "      <td>0.0</td>\n",
       "      <td>0.0</td>\n",
       "      <td>0.0</td>\n",
       "      <td>0.0</td>\n",
       "    </tr>\n",
       "    <tr>\n",
       "      <th>2</th>\n",
       "      <td>2018-07-05</td>\n",
       "      <td>0</td>\n",
       "      <td>2</td>\n",
       "      <td>9.182443</td>\n",
       "      <td>1.141206</td>\n",
       "      <td>0.467207</td>\n",
       "      <td>293.259827</td>\n",
       "      <td>297.897217</td>\n",
       "      <td>1.262760e-03</td>\n",
       "      <td>0.0</td>\n",
       "      <td>975.0</td>\n",
       "      <td>-1.125940</td>\n",
       "      <td>0.973524</td>\n",
       "      <td>0.973524</td>\n",
       "      <td>0.973524</td>\n",
       "      <td>0.973524</td>\n",
       "      <td>0.973524</td>\n",
       "      <td>0.973524</td>\n",
       "      <td>0.973524</td>\n",
       "      <td>0.973524</td>\n",
       "      <td>0.973524</td>\n",
       "      <td>0.973524</td>\n",
       "      <td>0.973524</td>\n",
       "      <td>0.0</td>\n",
       "      <td>0.0</td>\n",
       "      <td>0.0</td>\n",
       "      <td>0.0</td>\n",
       "      <td>0.0</td>\n",
       "      <td>0.0</td>\n",
       "      <td>0.0</td>\n",
       "      <td>0.0</td>\n",
       "    </tr>\n",
       "    <tr>\n",
       "      <th>3</th>\n",
       "      <td>2018-07-05</td>\n",
       "      <td>0</td>\n",
       "      <td>3</td>\n",
       "      <td>8.216068</td>\n",
       "      <td>0.974295</td>\n",
       "      <td>0.648889</td>\n",
       "      <td>292.745239</td>\n",
       "      <td>297.833649</td>\n",
       "      <td>4.316330e-04</td>\n",
       "      <td>0.0</td>\n",
       "      <td>1005.0</td>\n",
       "      <td>-0.095932</td>\n",
       "      <td>-0.419762</td>\n",
       "      <td>-0.419762</td>\n",
       "      <td>-0.419762</td>\n",
       "      <td>-0.419762</td>\n",
       "      <td>-0.419762</td>\n",
       "      <td>-0.419762</td>\n",
       "      <td>-0.419762</td>\n",
       "      <td>-0.419762</td>\n",
       "      <td>-0.419762</td>\n",
       "      <td>-0.419762</td>\n",
       "      <td>-0.419762</td>\n",
       "      <td>0.0</td>\n",
       "      <td>0.0</td>\n",
       "      <td>0.0</td>\n",
       "      <td>0.0</td>\n",
       "      <td>0.0</td>\n",
       "      <td>0.0</td>\n",
       "      <td>0.0</td>\n",
       "      <td>0.0</td>\n",
       "    </tr>\n",
       "    <tr>\n",
       "      <th>4</th>\n",
       "      <td>2018-07-05</td>\n",
       "      <td>0</td>\n",
       "      <td>4</td>\n",
       "      <td>8.404712</td>\n",
       "      <td>0.763805</td>\n",
       "      <td>0.747847</td>\n",
       "      <td>292.605591</td>\n",
       "      <td>297.400787</td>\n",
       "      <td>7.097780e-04</td>\n",
       "      <td>0.0</td>\n",
       "      <td>1059.0</td>\n",
       "      <td>-0.186723</td>\n",
       "      <td>0.275500</td>\n",
       "      <td>0.275500</td>\n",
       "      <td>0.275500</td>\n",
       "      <td>0.275500</td>\n",
       "      <td>0.275500</td>\n",
       "      <td>0.275500</td>\n",
       "      <td>0.275500</td>\n",
       "      <td>0.275500</td>\n",
       "      <td>0.275500</td>\n",
       "      <td>0.275500</td>\n",
       "      <td>0.275500</td>\n",
       "      <td>0.0</td>\n",
       "      <td>0.0</td>\n",
       "      <td>0.0</td>\n",
       "      <td>0.0</td>\n",
       "      <td>0.0</td>\n",
       "      <td>0.0</td>\n",
       "      <td>0.0</td>\n",
       "      <td>0.0</td>\n",
       "    </tr>\n",
       "    <tr>\n",
       "      <th>...</th>\n",
       "      <td>...</td>\n",
       "      <td>...</td>\n",
       "      <td>...</td>\n",
       "      <td>...</td>\n",
       "      <td>...</td>\n",
       "      <td>...</td>\n",
       "      <td>...</td>\n",
       "      <td>...</td>\n",
       "      <td>...</td>\n",
       "      <td>...</td>\n",
       "      <td>...</td>\n",
       "      <td>...</td>\n",
       "      <td>...</td>\n",
       "      <td>...</td>\n",
       "      <td>...</td>\n",
       "      <td>...</td>\n",
       "      <td>...</td>\n",
       "      <td>...</td>\n",
       "      <td>...</td>\n",
       "      <td>...</td>\n",
       "      <td>...</td>\n",
       "      <td>...</td>\n",
       "      <td>...</td>\n",
       "      <td>...</td>\n",
       "      <td>...</td>\n",
       "      <td>...</td>\n",
       "      <td>...</td>\n",
       "      <td>...</td>\n",
       "      <td>...</td>\n",
       "      <td>...</td>\n",
       "      <td>...</td>\n",
       "    </tr>\n",
       "    <tr>\n",
       "      <th>2416123</th>\n",
       "      <td>2021-12-31</td>\n",
       "      <td>43</td>\n",
       "      <td>39</td>\n",
       "      <td>19.179289</td>\n",
       "      <td>-2.037924</td>\n",
       "      <td>-0.773922</td>\n",
       "      <td>285.754028</td>\n",
       "      <td>292.923798</td>\n",
       "      <td>8.523463e-07</td>\n",
       "      <td>0.0</td>\n",
       "      <td>870.0</td>\n",
       "      <td>3.251724</td>\n",
       "      <td>-0.818115</td>\n",
       "      <td>-0.532081</td>\n",
       "      <td>0.270766</td>\n",
       "      <td>-0.657936</td>\n",
       "      <td>-2.088362</td>\n",
       "      <td>-0.969343</td>\n",
       "      <td>-1.865484</td>\n",
       "      <td>-0.728660</td>\n",
       "      <td>-0.601386</td>\n",
       "      <td>-0.628976</td>\n",
       "      <td>-0.725798</td>\n",
       "      <td>0.0</td>\n",
       "      <td>0.0</td>\n",
       "      <td>0.0</td>\n",
       "      <td>0.0</td>\n",
       "      <td>0.0</td>\n",
       "      <td>0.0</td>\n",
       "      <td>0.0</td>\n",
       "      <td>0.0</td>\n",
       "    </tr>\n",
       "    <tr>\n",
       "      <th>2416124</th>\n",
       "      <td>2021-12-31</td>\n",
       "      <td>43</td>\n",
       "      <td>40</td>\n",
       "      <td>19.785183</td>\n",
       "      <td>-1.737936</td>\n",
       "      <td>-0.684505</td>\n",
       "      <td>286.360718</td>\n",
       "      <td>292.731842</td>\n",
       "      <td>8.523463e-07</td>\n",
       "      <td>0.0</td>\n",
       "      <td>673.0</td>\n",
       "      <td>3.448175</td>\n",
       "      <td>0.615328</td>\n",
       "      <td>-0.114494</td>\n",
       "      <td>0.635009</td>\n",
       "      <td>-0.663608</td>\n",
       "      <td>-1.448466</td>\n",
       "      <td>-1.106534</td>\n",
       "      <td>-1.867256</td>\n",
       "      <td>-0.625299</td>\n",
       "      <td>-0.622077</td>\n",
       "      <td>-0.557387</td>\n",
       "      <td>-0.601193</td>\n",
       "      <td>0.0</td>\n",
       "      <td>0.0</td>\n",
       "      <td>0.0</td>\n",
       "      <td>0.0</td>\n",
       "      <td>0.0</td>\n",
       "      <td>0.0</td>\n",
       "      <td>0.0</td>\n",
       "      <td>0.0</td>\n",
       "    </tr>\n",
       "    <tr>\n",
       "      <th>2416125</th>\n",
       "      <td>2021-12-31</td>\n",
       "      <td>43</td>\n",
       "      <td>41</td>\n",
       "      <td>19.760014</td>\n",
       "      <td>-1.432130</td>\n",
       "      <td>-0.599300</td>\n",
       "      <td>286.689514</td>\n",
       "      <td>292.943512</td>\n",
       "      <td>8.523463e-07</td>\n",
       "      <td>0.0</td>\n",
       "      <td>819.0</td>\n",
       "      <td>2.571398</td>\n",
       "      <td>0.732499</td>\n",
       "      <td>-0.584174</td>\n",
       "      <td>0.644682</td>\n",
       "      <td>-1.007270</td>\n",
       "      <td>-1.214007</td>\n",
       "      <td>-1.029082</td>\n",
       "      <td>-1.679903</td>\n",
       "      <td>-0.697507</td>\n",
       "      <td>-0.613327</td>\n",
       "      <td>-0.622516</td>\n",
       "      <td>-0.812522</td>\n",
       "      <td>0.0</td>\n",
       "      <td>0.0</td>\n",
       "      <td>0.0</td>\n",
       "      <td>0.0</td>\n",
       "      <td>0.0</td>\n",
       "      <td>0.0</td>\n",
       "      <td>0.0</td>\n",
       "      <td>0.0</td>\n",
       "    </tr>\n",
       "    <tr>\n",
       "      <th>2416126</th>\n",
       "      <td>2021-12-31</td>\n",
       "      <td>43</td>\n",
       "      <td>42</td>\n",
       "      <td>21.715679</td>\n",
       "      <td>-1.049460</td>\n",
       "      <td>-0.781592</td>\n",
       "      <td>287.109741</td>\n",
       "      <td>293.839081</td>\n",
       "      <td>8.523463e-07</td>\n",
       "      <td>0.0</td>\n",
       "      <td>332.0</td>\n",
       "      <td>-0.948131</td>\n",
       "      <td>2.498683</td>\n",
       "      <td>0.095448</td>\n",
       "      <td>1.136103</td>\n",
       "      <td>-0.165471</td>\n",
       "      <td>-0.950935</td>\n",
       "      <td>-1.393273</td>\n",
       "      <td>-1.674091</td>\n",
       "      <td>-0.990986</td>\n",
       "      <td>-1.107381</td>\n",
       "      <td>-0.809128</td>\n",
       "      <td>-0.952699</td>\n",
       "      <td>0.0</td>\n",
       "      <td>0.0</td>\n",
       "      <td>0.0</td>\n",
       "      <td>0.0</td>\n",
       "      <td>0.0</td>\n",
       "      <td>0.0</td>\n",
       "      <td>0.0</td>\n",
       "      <td>0.0</td>\n",
       "    </tr>\n",
       "    <tr>\n",
       "      <th>2416127</th>\n",
       "      <td>2021-12-31</td>\n",
       "      <td>43</td>\n",
       "      <td>43</td>\n",
       "      <td>22.111300</td>\n",
       "      <td>-0.649435</td>\n",
       "      <td>-1.023596</td>\n",
       "      <td>287.382050</td>\n",
       "      <td>294.447327</td>\n",
       "      <td>8.523463e-07</td>\n",
       "      <td>0.0</td>\n",
       "      <td>339.0</td>\n",
       "      <td>-1.341961</td>\n",
       "      <td>2.025450</td>\n",
       "      <td>-0.334743</td>\n",
       "      <td>0.868808</td>\n",
       "      <td>0.382699</td>\n",
       "      <td>-0.902712</td>\n",
       "      <td>-1.472449</td>\n",
       "      <td>-1.121000</td>\n",
       "      <td>-1.009712</td>\n",
       "      <td>-1.166948</td>\n",
       "      <td>-0.917359</td>\n",
       "      <td>-0.968391</td>\n",
       "      <td>0.0</td>\n",
       "      <td>0.0</td>\n",
       "      <td>0.0</td>\n",
       "      <td>0.0</td>\n",
       "      <td>0.0</td>\n",
       "      <td>0.0</td>\n",
       "      <td>0.0</td>\n",
       "      <td>0.0</td>\n",
       "    </tr>\n",
       "  </tbody>\n",
       "</table>\n",
       "<p>2416128 rows × 31 columns</p>\n",
       "</div>"
      ],
      "text/plain": [
       "              time   i   j     pm25_t  u_wind_t  v_wind_t  dew_temp_t      temp_t      precip_t  frp_t  elevation_t  delta_pm25_t+1  delta_pm25_t  delta_pm25_ma2  delta_pm25_ma3  delta_pm25_ma4  delta_pm25_ma5  delta_pm25_ma6  delta_pm25_ma7  delta_pm25_ma8  delta_pm25_ma9  delta_pm25_ma10  delta_pm25_ma11  frp_avg_3x3  frp_avg_5x5  frp_avg_7x7  frp_avg_9x9  frp_max_3x3  frp_max_5x5  frp_max_7x7  frp_max_9x9\n",
       "0       2018-07-05   0   0   8.317946  1.432791  0.080936  291.415344  295.229156  3.422684e-03    0.0       1360.0        0.601407      0.302968        0.302968        0.302968        0.302968        0.302968        0.302968        0.302968        0.302968        0.302968         0.302968         0.302968          0.0          0.0          0.0          0.0          0.0          0.0          0.0          0.0\n",
       "1       2018-07-05   0   1   8.569970  1.296195  0.262333  292.346069  296.649719  2.399749e-03    0.0       1189.0       -1.001619      0.522349        0.522349        0.522349        0.522349        0.522349        0.522349        0.522349        0.522349        0.522349         0.522349         0.522349          0.0          0.0          0.0          0.0          0.0          0.0          0.0          0.0\n",
       "2       2018-07-05   0   2   9.182443  1.141206  0.467207  293.259827  297.897217  1.262760e-03    0.0        975.0       -1.125940      0.973524        0.973524        0.973524        0.973524        0.973524        0.973524        0.973524        0.973524        0.973524         0.973524         0.973524          0.0          0.0          0.0          0.0          0.0          0.0          0.0          0.0\n",
       "3       2018-07-05   0   3   8.216068  0.974295  0.648889  292.745239  297.833649  4.316330e-04    0.0       1005.0       -0.095932     -0.419762       -0.419762       -0.419762       -0.419762       -0.419762       -0.419762       -0.419762       -0.419762       -0.419762        -0.419762        -0.419762          0.0          0.0          0.0          0.0          0.0          0.0          0.0          0.0\n",
       "4       2018-07-05   0   4   8.404712  0.763805  0.747847  292.605591  297.400787  7.097780e-04    0.0       1059.0       -0.186723      0.275500        0.275500        0.275500        0.275500        0.275500        0.275500        0.275500        0.275500        0.275500         0.275500         0.275500          0.0          0.0          0.0          0.0          0.0          0.0          0.0          0.0\n",
       "...            ...  ..  ..        ...       ...       ...         ...         ...           ...    ...          ...             ...           ...             ...             ...             ...             ...             ...             ...             ...             ...              ...              ...          ...          ...          ...          ...          ...          ...          ...          ...\n",
       "2416123 2021-12-31  43  39  19.179289 -2.037924 -0.773922  285.754028  292.923798  8.523463e-07    0.0        870.0        3.251724     -0.818115       -0.532081        0.270766       -0.657936       -2.088362       -0.969343       -1.865484       -0.728660       -0.601386        -0.628976        -0.725798          0.0          0.0          0.0          0.0          0.0          0.0          0.0          0.0\n",
       "2416124 2021-12-31  43  40  19.785183 -1.737936 -0.684505  286.360718  292.731842  8.523463e-07    0.0        673.0        3.448175      0.615328       -0.114494        0.635009       -0.663608       -1.448466       -1.106534       -1.867256       -0.625299       -0.622077        -0.557387        -0.601193          0.0          0.0          0.0          0.0          0.0          0.0          0.0          0.0\n",
       "2416125 2021-12-31  43  41  19.760014 -1.432130 -0.599300  286.689514  292.943512  8.523463e-07    0.0        819.0        2.571398      0.732499       -0.584174        0.644682       -1.007270       -1.214007       -1.029082       -1.679903       -0.697507       -0.613327        -0.622516        -0.812522          0.0          0.0          0.0          0.0          0.0          0.0          0.0          0.0\n",
       "2416126 2021-12-31  43  42  21.715679 -1.049460 -0.781592  287.109741  293.839081  8.523463e-07    0.0        332.0       -0.948131      2.498683        0.095448        1.136103       -0.165471       -0.950935       -1.393273       -1.674091       -0.990986       -1.107381        -0.809128        -0.952699          0.0          0.0          0.0          0.0          0.0          0.0          0.0          0.0\n",
       "2416127 2021-12-31  43  43  22.111300 -0.649435 -1.023596  287.382050  294.447327  8.523463e-07    0.0        339.0       -1.341961      2.025450       -0.334743        0.868808        0.382699       -0.902712       -1.472449       -1.121000       -1.009712       -1.166948        -0.917359        -0.968391          0.0          0.0          0.0          0.0          0.0          0.0          0.0          0.0\n",
       "\n",
       "[2416128 rows x 31 columns]"
      ]
     },
     "execution_count": 7,
     "metadata": {},
     "output_type": "execute_result"
    }
   ],
   "source": [
    "train_df"
   ]
  },
  {
   "cell_type": "code",
   "execution_count": 15,
   "id": "670e388f",
   "metadata": {},
   "outputs": [
    {
     "data": {
      "application/vnd.jupyter.widget-view+json": {
       "model_id": "46a9fdb904114c30aa4a71f847927415",
       "version_major": 2,
       "version_minor": 0
      },
      "text/plain": [
       "  0%|          | 0/4 [00:00<?, ?it/s]"
      ]
     },
     "metadata": {},
     "output_type": "display_data"
    },
    {
     "name": "stdout",
     "output_type": "stream",
     "text": [
      "Running experiment: base\n"
     ]
    },
    {
     "data": {
      "application/vnd.jupyter.widget-view+json": {
       "model_id": "8f1150bb1a944c14ae674d20966e3160",
       "version_major": 2,
       "version_minor": 0
      },
      "text/plain": [
       "  0%|          | 0/10 [00:00<?, ?it/s]"
      ]
     },
     "metadata": {},
     "output_type": "display_data"
    },
    {
     "name": "stdout",
     "output_type": "stream",
     "text": [
      "Running experiment: base + max\n"
     ]
    },
    {
     "data": {
      "application/vnd.jupyter.widget-view+json": {
       "model_id": "0472c9052ee94e848dc8b9a1cdd4aee9",
       "version_major": 2,
       "version_minor": 0
      },
      "text/plain": [
       "  0%|          | 0/10 [00:00<?, ?it/s]"
      ]
     },
     "metadata": {},
     "output_type": "display_data"
    },
    {
     "name": "stdout",
     "output_type": "stream",
     "text": [
      "Running experiment: base + sum\n"
     ]
    },
    {
     "data": {
      "application/vnd.jupyter.widget-view+json": {
       "model_id": "6b965388fd5c404a8fd9b34aade2b22c",
       "version_major": 2,
       "version_minor": 0
      },
      "text/plain": [
       "  0%|          | 0/10 [00:00<?, ?it/s]"
      ]
     },
     "metadata": {},
     "output_type": "display_data"
    },
    {
     "name": "stdout",
     "output_type": "stream",
     "text": [
      "Running experiment: base + max + sum\n"
     ]
    },
    {
     "data": {
      "application/vnd.jupyter.widget-view+json": {
       "model_id": "4e3acea8ff7a46d2b29004444b5ad373",
       "version_major": 2,
       "version_minor": 0
      },
      "text/plain": [
       "  0%|          | 0/10 [00:00<?, ?it/s]"
      ]
     },
     "metadata": {},
     "output_type": "display_data"
    },
    {
     "name": "stdout",
     "output_type": "stream",
     "text": [
      "         experiment  n_features  mean_rmse  mean_mae  rmse_fold_1  rmse_fold_2  rmse_fold_3  rmse_fold_4  rmse_fold_5  rmse_fold_6  rmse_fold_7  rmse_fold_8  rmse_fold_9  rmse_fold_10\n",
      "3  base + max + sum          30   4.248382  2.882070     1.635246     4.808600     5.038874     8.413009    12.945456     1.995112     0.908033     0.986864     1.819594      3.933036\n",
      "1        base + max          26   4.258318  2.886747     1.619558     4.894071     5.022154     8.418129    12.966797     2.007437     0.904506     0.983318     1.821194      3.946011\n",
      "2        base + sum          26   4.275285  2.892911     1.640941     4.868231     5.030118     8.424077    13.153977     1.993225     0.905726     0.986803     1.817711      3.932040\n",
      "0              base          22   4.313308  2.916679     1.632187     4.948447     5.087876     8.511748    13.256515     2.006051     0.907929     0.989286     1.818663      3.974378\n"
     ]
    }
   ],
   "source": [
    "base = ['delta_pm25_t', 'delta_pm25_t-1', 'delta_pm25_t-2', 'delta_pm25_t-3', 'pm25_t', 'u_wind_t', 'v_wind_t',\n",
    "       'dew_temp_t', 'temp_t', 'surf_pressure_t', 'precip_t',\n",
    "       'frp_t', 'elevation_t', 'r_humidity_t']\n",
    "\n",
    "base += ['delta_pm25_avg_3x3', 'delta_pm25_avg_5x5', 'delta_pm25_avg_7x7', 'delta_pm25_avg_9x9']\n",
    "\n",
    "base += ['pm25_avg_3x3', 'pm25_avg_5x5', 'pm25_avg_7x7', 'pm25_avg_9x9']\n",
    "\n",
    "params = {\n",
    "    'max_depth': 4,            \n",
    "    'learning_rate': 0.1,     \n",
    "    'n_estimators': 150,     \n",
    "    'subsample': 0.8,          \n",
    "    'colsample_bytree': 0.8,   \n",
    "    'objective': 'reg:pseudohubererror'   \n",
    "}\n",
    "\n",
    "frp_max = ['frp_max_3x3', 'frp_max_5x5', 'frp_max_7x7', 'frp_max_9x9']\n",
    "\n",
    "frp_sum = ['frp_buffer_sum_3x3', 'frp_buffer_sum_5x5', 'frp_buffer_sum_7x7', 'frp_buffer_sum_9x9']\n",
    "\n",
    "\n",
    "feature_experiments = [('base', base)] + [\n",
    "    ('base + max', base + frp_max),\n",
    "    ('base + sum', base + frp_sum),\n",
    "    ('base + max + sum', base + frp_max + frp_sum)\n",
    "]\n",
    "\n",
    "model=xgb.XGBRegressor(**params, random_state=191)\n",
    "\n",
    "results = T.run_experiments(\n",
    "    df=train_df, \n",
    "    model=model, \n",
    "    feature_experiments=feature_experiments, \n",
    "    train_days=365*2,\n",
    "    gap_days=21,\n",
    "    val_days=49\n",
    ")\n",
    "\n",
    "print(results.sort_values('mean_rmse'))"
   ]
  },
  {
   "cell_type": "code",
   "execution_count": 16,
   "id": "2e680e8f",
   "metadata": {},
   "outputs": [],
   "source": [
    "for size in range(3, 9+1, 2):\n",
    "  ds[f'frp_max_{size}x{size}'] = (\n",
    "      ds['frp_t']\n",
    "        .rolling(i=size, j=size, center=True, min_periods=1)\n",
    "        .max()\n",
    "  )\n",
    "\n",
    "cumulative_sums = {}  # will hold the rolling sum for each odd size\n",
    "for size in range(3, 10, 2):  # 3, 5, 7, 9\n",
    "    rolling_name = f'frp_sum_{size}x{size}'\n",
    "    # rolling().sum() gives the sum over a size×size square (centered)\n",
    "    ds[rolling_name] = (\n",
    "        ds['frp_t']\n",
    "          .rolling(i=size, j=size, center=True, min_periods=1)\n",
    "          .sum()\n",
    "    )\n",
    "    cumulative_sums[size] = ds[rolling_name]\n",
    "\n",
    "# 2) Subtract to get the “ring” (concentric buffer) between each size and the next‐smaller size\n",
    "previous_size = None\n",
    "for size in sorted(cumulative_sums.keys()):  # will iterate 3, 5, 7, 9 in order\n",
    "    ring_name = f'frp_buffer_sum_{size}x{size}'\n",
    "    if previous_size is None:\n",
    "        # For size=3, there is no smaller ring to subtract, so the ring=full 3×3 sum\n",
    "        ds[ring_name] = cumulative_sums[size]\n",
    "    else:\n",
    "        smaller_sum = cumulative_sums[previous_size]\n",
    "        larger_sum  = cumulative_sums[size]\n",
    "        # ring = sum over size×size minus sum over previous_size×previous_size\n",
    "        ds[ring_name] = larger_sum - smaller_sum\n",
    "\n",
    "    previous_size = size\n",
    "\n",
    "ds.to_netcdf(\n",
    "    \"exp_4_ds.nc\",\n",
    "    format=\"NETCDF4\",       # HDF5-backed NetCDF\n",
    "    engine=\"netcdf4\",      # or \"netcdf4\" if you have that\n",
    "    encoding={\n",
    "        var: {\n",
    "            \"zlib\": True,\n",
    "            \"complevel\": 4,\n",
    "        }\n",
    "        for var in ds.data_vars\n",
    "    }\n",
    ")"
   ]
  },
  {
   "cell_type": "code",
   "execution_count": null,
   "id": "d40200f2",
   "metadata": {},
   "outputs": [],
   "source": []
  }
 ],
 "metadata": {
  "kernelspec": {
   "display_name": "CS191W",
   "language": "python",
   "name": "python3"
  },
  "language_info": {
   "codemirror_mode": {
    "name": "ipython",
    "version": 3
   },
   "file_extension": ".py",
   "mimetype": "text/x-python",
   "name": "python",
   "nbconvert_exporter": "python",
   "pygments_lexer": "ipython3",
   "version": "3.11.9"
  }
 },
 "nbformat": 4,
 "nbformat_minor": 5
}
