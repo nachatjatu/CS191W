{
 "cells": [
  {
   "cell_type": "markdown",
   "id": "82cc16b8",
   "metadata": {},
   "source": [
    "# Experiment 5: Seasonality Features\n",
    "\n",
    "Nachat Jatusripitak\n",
    "\n",
    "In this notebook, we experiment with adding features to indicate seasonality, including monthly and daily features"
   ]
  },
  {
   "cell_type": "code",
   "execution_count": null,
   "id": "6a234e6c",
   "metadata": {},
   "outputs": [],
   "source": [
    "# Import required packages\n",
    "import xgboost as xgb\n",
    "import pandas as pd\n",
    "import src.train_utils as T\n",
    "import xarray as xr\n",
    "import matplotlib.pyplot as plt\n",
    "\n",
    "plt.style.use('ggplot')  \n",
    "\n",
    "pd.set_option('display.max_columns', None)\n",
    "pd.set_option('display.expand_frame_repr', False)\n",
    "pd.set_option('display.width', None)"
   ]
  },
  {
   "cell_type": "code",
   "execution_count": null,
   "id": "974ae76d",
   "metadata": {},
   "outputs": [],
   "source": [
    "# Load dataset\n",
    "ds = xr.open_dataset('../datasets/exp_4_ds.nc')\n",
    "\n",
    "# Hold out 2022\n",
    "mask = ds.time.dt.year < 2022\n",
    "ds_excl_2022 = ds.sel(time=mask)\n",
    "\n",
    "train_df = ds_excl_2022.to_dataframe().reset_index()\n",
    "\n",
    "# Add day of week indicator (one-hot and integer)\n",
    "train_df['day_of_week'] = train_df['time'].dt.dayofweek\n",
    "dow_dummies = pd.get_dummies(train_df['day_of_week'], prefix='dow')\n",
    "train_df = pd.concat([train_df, dow_dummies], axis=1)\n",
    "\n",
    "# Add month indicator (one-hot and integer)\n",
    "train_df['month'] = train_df['time'].dt.month\n",
    "month_dummies = pd.get_dummies(train_df['month'], prefix='month')\n",
    "train_df = pd.concat([train_df, month_dummies], axis=1)\n",
    "\n",
    "# Add binary is_weekend flag\n",
    "train_df['is_weekend'] = train_df['time'].dt.dayofweek >= 5\n",
    "train_df['is_weekend'] = train_df['is_weekend'].astype(int)\n"
   ]
  },
  {
   "cell_type": "markdown",
   "id": "90ab3f3a",
   "metadata": {},
   "source": [
    "## Run 1: Try all features"
   ]
  },
  {
   "cell_type": "code",
   "execution_count": 4,
   "id": "246e93a4",
   "metadata": {},
   "outputs": [
    {
     "data": {
      "application/vnd.jupyter.widget-view+json": {
       "model_id": "3fe99f0646da4ae496bb6f0b839aff22",
       "version_major": 2,
       "version_minor": 0
      },
      "text/plain": [
       "  0%|          | 0/6 [00:00<?, ?it/s]"
      ]
     },
     "metadata": {},
     "output_type": "display_data"
    },
    {
     "name": "stdout",
     "output_type": "stream",
     "text": [
      "Running experiment: base\n"
     ]
    },
    {
     "data": {
      "application/vnd.jupyter.widget-view+json": {
       "model_id": "bb6757e4a15143d0bedb6fb9f87c7ba3",
       "version_major": 2,
       "version_minor": 0
      },
      "text/plain": [
       "  0%|          | 0/10 [00:00<?, ?it/s]"
      ]
     },
     "metadata": {},
     "output_type": "display_data"
    },
    {
     "name": "stdout",
     "output_type": "stream",
     "text": [
      "Running experiment: base + is_weekend\n"
     ]
    },
    {
     "data": {
      "application/vnd.jupyter.widget-view+json": {
       "model_id": "213e59da1fd84dac8cf4fa2d72489c1e",
       "version_major": 2,
       "version_minor": 0
      },
      "text/plain": [
       "  0%|          | 0/10 [00:00<?, ?it/s]"
      ]
     },
     "metadata": {},
     "output_type": "display_data"
    },
    {
     "name": "stdout",
     "output_type": "stream",
     "text": [
      "Running experiment: base + day_of_week\n"
     ]
    },
    {
     "data": {
      "application/vnd.jupyter.widget-view+json": {
       "model_id": "2f43a2d6b0f84ad0965ad8c9d6335223",
       "version_major": 2,
       "version_minor": 0
      },
      "text/plain": [
       "  0%|          | 0/10 [00:00<?, ?it/s]"
      ]
     },
     "metadata": {},
     "output_type": "display_data"
    },
    {
     "name": "stdout",
     "output_type": "stream",
     "text": [
      "Running experiment: base + dow_one_hot\n"
     ]
    },
    {
     "data": {
      "application/vnd.jupyter.widget-view+json": {
       "model_id": "fadc45a1066e450d8750651406c5d746",
       "version_major": 2,
       "version_minor": 0
      },
      "text/plain": [
       "  0%|          | 0/10 [00:00<?, ?it/s]"
      ]
     },
     "metadata": {},
     "output_type": "display_data"
    },
    {
     "name": "stdout",
     "output_type": "stream",
     "text": [
      "Running experiment: base + month\n"
     ]
    },
    {
     "data": {
      "application/vnd.jupyter.widget-view+json": {
       "model_id": "63aed698289e4243ae39a01f7ad2d815",
       "version_major": 2,
       "version_minor": 0
      },
      "text/plain": [
       "  0%|          | 0/10 [00:00<?, ?it/s]"
      ]
     },
     "metadata": {},
     "output_type": "display_data"
    },
    {
     "name": "stdout",
     "output_type": "stream",
     "text": [
      "Running experiment: base + month_one_hot\n"
     ]
    },
    {
     "data": {
      "application/vnd.jupyter.widget-view+json": {
       "model_id": "7ffc3cdcd29e42e9bbf89cbea8c7db66",
       "version_major": 2,
       "version_minor": 0
      },
      "text/plain": [
       "  0%|          | 0/10 [00:00<?, ?it/s]"
      ]
     },
     "metadata": {},
     "output_type": "display_data"
    },
    {
     "name": "stdout",
     "output_type": "stream",
     "text": [
      "             experiment  n_features  mean_rmse  mean_mae  rmse_fold_1  rmse_fold_2  rmse_fold_3  rmse_fold_4  rmse_fold_5  rmse_fold_6  rmse_fold_7  rmse_fold_8  rmse_fold_9  rmse_fold_10\n",
      "5  base + month_one_hot          42   4.221747  2.861813     1.637629     4.846499     4.975658     8.401618    12.723725     1.987511     0.907936     0.986088     1.807607      3.943198\n",
      "4          base + month          31   4.230838  2.867593     1.625597     4.883335     4.965840     8.372669    12.844357     1.980262     0.907508     0.979888     1.813635      3.935289\n",
      "1     base + is_weekend          31   4.248124  2.874278     1.624974     4.815865     5.023804     8.387665    12.950578     2.016352     0.905613     0.990801     1.817694      3.947898\n",
      "0                  base          30   4.248382  2.882070     1.635246     4.808600     5.038874     8.413009    12.945456     1.995112     0.908033     0.986864     1.819594      3.933036\n",
      "2    base + day_of_week          31   4.259099  2.882101     1.640772     4.850405     5.028285     8.353692    13.047402     2.011670     0.906319     0.990135     1.821965      3.940343\n",
      "3    base + dow_one_hot          37   4.296247  2.898298     1.619806     5.044364     4.999259     8.422706    13.203914     2.013331     0.908138     0.987672     1.815511      3.947767\n"
     ]
    }
   ],
   "source": [
    "base = ['delta_pm25_t', 'delta_pm25_t-1', 'delta_pm25_t-2', 'delta_pm25_t-3', 'pm25_t', 'u_wind_t', 'v_wind_t',\n",
    "       'dew_temp_t', 'temp_t', 'surf_pressure_t', 'precip_t',\n",
    "       'frp_t', 'elevation_t', 'r_humidity_t']\n",
    "\n",
    "base += ['delta_pm25_avg_3x3', 'delta_pm25_avg_5x5', 'delta_pm25_avg_7x7', 'delta_pm25_avg_9x9']\n",
    "\n",
    "base += ['pm25_avg_3x3', 'pm25_avg_5x5', 'pm25_avg_7x7', 'pm25_avg_9x9']\n",
    "\n",
    "base += ['frp_max_3x3', 'frp_max_5x5', 'frp_max_7x7', 'frp_max_9x9']\n",
    "\n",
    "base += ['frp_buffer_sum_3x3', 'frp_buffer_sum_5x5', 'frp_buffer_sum_7x7', 'frp_buffer_sum_9x9']\n",
    "\n",
    "\n",
    "params = {\n",
    "    'max_depth': 4,            \n",
    "    'learning_rate': 0.1,     \n",
    "    'n_estimators': 150,     \n",
    "    'subsample': 0.8,          \n",
    "    'colsample_bytree': 0.8,   \n",
    "    'objective': 'reg:pseudohubererror'   \n",
    "}\n",
    "\n",
    "feature_experiments = [\n",
    "    ('base', base),\n",
    "    ('base + is_weekend', base + ['is_weekend']),\n",
    "    ('base + day_of_week', base + ['day_of_week']),\n",
    "    ('base + dow_one_hot', base + ['dow_0', 'dow_1', 'dow_2', 'dow_3', 'dow_4', 'dow_5', 'dow_6']),\n",
    "    ('base + month', base + ['month']),\n",
    "    ('base + month_one_hot', base + ['month_1', 'month_2', 'month_3', 'month_4', 'month_5', 'month_6', 'month_7', 'month_8', 'month_9', 'month_10', 'month_11', 'month_12'])\n",
    "]\n",
    "\n",
    "model=xgb.XGBRegressor(**params, random_state=191)\n",
    "\n",
    "results = T.run_experiments(\n",
    "    df=train_df, \n",
    "    model=model, \n",
    "    feature_experiments=feature_experiments, \n",
    "    train_days=365*2,\n",
    "    gap_days=21,\n",
    "    val_days=49\n",
    ")\n",
    "\n",
    "print(results.sort_values('mean_rmse'))"
   ]
  },
  {
   "cell_type": "code",
   "execution_count": 1,
   "id": "4cccf8cc",
   "metadata": {},
   "outputs": [
    {
     "ename": "NameError",
     "evalue": "name 'results' is not defined",
     "output_type": "error",
     "traceback": [
      "\u001b[31m---------------------------------------------------------------------------\u001b[39m",
      "\u001b[31mNameError\u001b[39m                                 Traceback (most recent call last)",
      "\u001b[36mCell\u001b[39m\u001b[36m \u001b[39m\u001b[32mIn[1]\u001b[39m\u001b[32m, line 1\u001b[39m\n\u001b[32m----> \u001b[39m\u001b[32m1\u001b[39m df = results\n\u001b[32m      2\u001b[39m \u001b[38;5;66;03m# Sort by mean_rmse ascending\u001b[39;00m\n\u001b[32m      3\u001b[39m df_sorted = df.sort_values(\u001b[33m\"\u001b[39m\u001b[33mmean_rmse\u001b[39m\u001b[33m\"\u001b[39m, ascending=\u001b[38;5;28;01mFalse\u001b[39;00m)\n",
      "\u001b[31mNameError\u001b[39m: name 'results' is not defined"
     ]
    }
   ],
   "source": [
    "df = results\n",
    "# Sort by mean_rmse ascending\n",
    "df_sorted = df.sort_values(\"mean_rmse\", ascending=False)\n",
    "\n",
    "# Display the sorted DataFrame (experiment and mean_rmse)\n",
    "display_df = df_sorted[[\"experiment\", \"mean_rmse\"]].copy()\n",
    "display_df[\"mean_rmse\"] = display_df[\"mean_rmse\"].round(3)\n",
    "\n",
    "print(display_df.to_string(index=False))\n",
    "\n",
    "plt.figure(figsize=(10, 6))\n",
    "bars = plt.bar(display_df[\"experiment\"], display_df[\"mean_rmse\"], color='#27aeef')\n",
    "plt.ylim(display_df[\"mean_rmse\"].min() - 0.01, display_df[\"mean_rmse\"].max() + 0.01)\n",
    "plt.xticks(rotation=15, ha=\"right\")\n",
    "plt.xlabel(\"Experiment\", fontsize=12)\n",
    "plt.ylabel(\"Mean RMSE\", fontsize=12)\n",
    "\n",
    "for bar, mean in zip(bars, display_df[\"mean_rmse\"]):\n",
    "    y = bar.get_height()\n",
    "    plt.text(bar.get_x() + bar.get_width() / 2, y + 0.002, f\"{mean:.3f}\", \n",
    "             ha='center', va='bottom', fontsize=10)\n",
    "\n",
    "plt.title('Mean RMSE vs. Seasonality Indicator')\n",
    "plt.tight_layout()\n",
    "plt.show()"
   ]
  },
  {
   "cell_type": "markdown",
   "id": "6eb9a64e",
   "metadata": {},
   "source": [
    "## Run 2: Is it better to have month-specific indicators or just burn season indicators?"
   ]
  },
  {
   "cell_type": "code",
   "execution_count": 14,
   "id": "edbe0033",
   "metadata": {},
   "outputs": [
    {
     "data": {
      "application/vnd.jupyter.widget-view+json": {
       "model_id": "3555f8ddc9ac4a0c865b9c8eb5aa6641",
       "version_major": 2,
       "version_minor": 0
      },
      "text/plain": [
       "  0%|          | 0/2 [00:00<?, ?it/s]"
      ]
     },
     "metadata": {},
     "output_type": "display_data"
    },
    {
     "name": "stdout",
     "output_type": "stream",
     "text": [
      "Running experiment: base + burn season\n"
     ]
    },
    {
     "data": {
      "application/vnd.jupyter.widget-view+json": {
       "model_id": "d92f4173842f492a878ec671e5dedd47",
       "version_major": 2,
       "version_minor": 0
      },
      "text/plain": [
       "  0%|          | 0/10 [00:00<?, ?it/s]"
      ]
     },
     "metadata": {},
     "output_type": "display_data"
    },
    {
     "name": "stdout",
     "output_type": "stream",
     "text": [
      "Running experiment: base + month_one_hot\n"
     ]
    },
    {
     "data": {
      "application/vnd.jupyter.widget-view+json": {
       "model_id": "49462c7831304a478b519bd2043a2f12",
       "version_major": 2,
       "version_minor": 0
      },
      "text/plain": [
       "  0%|          | 0/10 [00:00<?, ?it/s]"
      ]
     },
     "metadata": {},
     "output_type": "display_data"
    },
    {
     "name": "stdout",
     "output_type": "stream",
     "text": [
      "             experiment  n_features  mean_rmse  mean_mae  rmse_fold_1  rmse_fold_2  rmse_fold_3  rmse_fold_4  rmse_fold_5  rmse_fold_6  rmse_fold_7  rmse_fold_8  rmse_fold_9  rmse_fold_10\n",
      "1  base + month_one_hot          42   4.221747  2.861813     1.637629     4.846499     4.975658     8.401618    12.723725     1.987511     0.907936     0.986088     1.807607      3.943198\n",
      "0    base + burn season          37   4.236164  2.872558     1.632492     4.822143     5.019202     8.404433    12.848427     1.976584     0.906787     0.981022     1.813469      3.957085\n"
     ]
    }
   ],
   "source": [
    "base = ['delta_pm25_t', 'delta_pm25_t-1', 'delta_pm25_t-2', 'delta_pm25_t-3', 'pm25_t', 'u_wind_t', 'v_wind_t',\n",
    "       'dew_temp_t', 'temp_t', 'surf_pressure_t', 'precip_t',\n",
    "       'frp_t', 'elevation_t', 'r_humidity_t']\n",
    "\n",
    "base += ['delta_pm25_avg_3x3', 'delta_pm25_avg_5x5', 'delta_pm25_avg_7x7', 'delta_pm25_avg_9x9']\n",
    "\n",
    "base += ['pm25_avg_3x3', 'pm25_avg_5x5', 'pm25_avg_7x7', 'pm25_avg_9x9']\n",
    "\n",
    "base += ['frp_max_3x3', 'frp_max_5x5', 'frp_max_7x7', 'frp_max_9x9']\n",
    "\n",
    "base += ['frp_buffer_sum_3x3', 'frp_buffer_sum_5x5', 'frp_buffer_sum_7x7', 'frp_buffer_sum_9x9']\n",
    "\n",
    "\n",
    "params = {\n",
    "    'max_depth': 4,            \n",
    "    'learning_rate': 0.1,     \n",
    "    'n_estimators': 150,     \n",
    "    'subsample': 0.8,          \n",
    "    'colsample_bytree': 0.8,   \n",
    "    'objective': 'reg:pseudohubererror'   \n",
    "}\n",
    "\n",
    "feature_experiments = [\n",
    "    ('base + burn season', base + ['month_1', 'month_2', 'month_3', 'month_4', 'month_5', 'month_11', 'month_12']),\n",
    "    ('base + month_one_hot', base + ['month_1', 'month_2', 'month_3', 'month_4', 'month_5', 'month_6', 'month_7', 'month_8', 'month_9', 'month_10', 'month_11', 'month_12'])\n",
    "]\n",
    "\n",
    "model=xgb.XGBRegressor(**params, random_state=191)\n",
    "\n",
    "results = T.run_experiments(\n",
    "    df=train_df, \n",
    "    model=model, \n",
    "    feature_experiments=feature_experiments, \n",
    "    train_days=365*2,\n",
    "    gap_days=21,\n",
    "    val_days=49\n",
    ")\n",
    "\n",
    "print(results.sort_values('mean_rmse'))"
   ]
  },
  {
   "cell_type": "code",
   "execution_count": null,
   "id": "1fb98866",
   "metadata": {},
   "outputs": [],
   "source": [
    "# Export dataset with best features\n",
    "months = ds['time'].dt.month\n",
    "\n",
    "for m in range(1, 13):\n",
    "    ds[f\"month_{m:02d}\"] = (months == m).astype(int)\n",
    "\n",
    "ds.to_netcdf(\n",
    "    \"exp_5_ds.nc\",\n",
    "    format=\"NETCDF4\",       \n",
    "    engine=\"netcdf4\",      \n",
    "    encoding={\n",
    "        var: {\n",
    "            \"zlib\": True,\n",
    "            \"complevel\": 4,\n",
    "        }\n",
    "        for var in ds.data_vars\n",
    "    }\n",
    ")"
   ]
  },
  {
   "cell_type": "code",
   "execution_count": null,
   "id": "a453b464",
   "metadata": {},
   "outputs": [],
   "source": []
  }
 ],
 "metadata": {
  "kernelspec": {
   "display_name": "CS191W",
   "language": "python",
   "name": "python3"
  },
  "language_info": {
   "codemirror_mode": {
    "name": "ipython",
    "version": 3
   },
   "file_extension": ".py",
   "mimetype": "text/x-python",
   "name": "python",
   "nbconvert_exporter": "python",
   "pygments_lexer": "ipython3",
   "version": "3.11.9"
  }
 },
 "nbformat": 4,
 "nbformat_minor": 5
}
