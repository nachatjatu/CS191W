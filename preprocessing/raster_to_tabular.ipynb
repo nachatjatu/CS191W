{
 "cells": [
  {
   "cell_type": "markdown",
   "id": "a7250243",
   "metadata": {},
   "source": [
    "# Convert images to .netCDF format\n",
    "Nachat Jatusripitak"
   ]
  },
  {
   "cell_type": "code",
   "execution_count": 1,
   "id": "9ee8dce7",
   "metadata": {},
   "outputs": [],
   "source": [
    "# Import required packages\n",
    "import glob\n",
    "import pandas as pd\n",
    "import xarray as xr\n",
    "import rioxarray  # pip install rioxarray\n",
    "import numpy as np\n"
   ]
  },
  {
   "cell_type": "code",
   "execution_count": 2,
   "id": "9ffd8cae",
   "metadata": {},
   "outputs": [
    {
     "ename": "KeyboardInterrupt",
     "evalue": "",
     "output_type": "error",
     "traceback": [
      "\u001b[31m---------------------------------------------------------------------------\u001b[39m",
      "\u001b[31mKeyError\u001b[39m                                  Traceback (most recent call last)",
      "\u001b[36mFile \u001b[39m\u001b[32m/opt/anaconda3/envs/CS191W/lib/python3.11/site-packages/xarray/backends/file_manager.py:211\u001b[39m, in \u001b[36mCachingFileManager._acquire_with_cache_info\u001b[39m\u001b[34m(self, needs_lock)\u001b[39m\n\u001b[32m    210\u001b[39m \u001b[38;5;28;01mtry\u001b[39;00m:\n\u001b[32m--> \u001b[39m\u001b[32m211\u001b[39m     file = \u001b[38;5;28mself\u001b[39m._cache[\u001b[38;5;28mself\u001b[39m._key]\n\u001b[32m    212\u001b[39m \u001b[38;5;28;01mexcept\u001b[39;00m \u001b[38;5;167;01mKeyError\u001b[39;00m:\n",
      "\u001b[36mFile \u001b[39m\u001b[32m/opt/anaconda3/envs/CS191W/lib/python3.11/site-packages/xarray/backends/lru_cache.py:56\u001b[39m, in \u001b[36mLRUCache.__getitem__\u001b[39m\u001b[34m(self, key)\u001b[39m\n\u001b[32m     55\u001b[39m \u001b[38;5;28;01mwith\u001b[39;00m \u001b[38;5;28mself\u001b[39m._lock:\n\u001b[32m---> \u001b[39m\u001b[32m56\u001b[39m     value = \u001b[38;5;28mself\u001b[39m._cache[key]\n\u001b[32m     57\u001b[39m     \u001b[38;5;28mself\u001b[39m._cache.move_to_end(key)\n",
      "\u001b[31mKeyError\u001b[39m: [<function open at 0x335e714e0>, ('../dataset_1/dataset_1_2021-07-08.tif',), 'r', (('sharing', False),), '78fd786a-c052-4753-99b4-1df416c45c50']",
      "\nDuring handling of the above exception, another exception occurred:\n",
      "\u001b[31mKeyboardInterrupt\u001b[39m                         Traceback (most recent call last)",
      "\u001b[36mCell\u001b[39m\u001b[36m \u001b[39m\u001b[32mIn[2]\u001b[39m\u001b[32m, line 18\u001b[39m\n\u001b[32m     15\u001b[39m         da_band = da_band.assign_coords(time=date)\n\u001b[32m     16\u001b[39m         band_series[name].append(da_band)\n\u001b[32m---> \u001b[39m\u001b[32m18\u001b[39m ds = xr.Dataset({\n\u001b[32m     19\u001b[39m     name: xr.concat(series, dim=\u001b[33m\"\u001b[39m\u001b[33mtime\u001b[39m\u001b[33m\"\u001b[39m)\n\u001b[32m     20\u001b[39m     \u001b[38;5;28;01mfor\u001b[39;00m name, series \u001b[38;5;129;01min\u001b[39;00m band_series.items()\n\u001b[32m     21\u001b[39m })\n",
      "\u001b[36mCell\u001b[39m\u001b[36m \u001b[39m\u001b[32mIn[2]\u001b[39m\u001b[32m, line 19\u001b[39m, in \u001b[36m<dictcomp>\u001b[39m\u001b[34m(.0)\u001b[39m\n\u001b[32m     15\u001b[39m         da_band = da_band.assign_coords(time=date)\n\u001b[32m     16\u001b[39m         band_series[name].append(da_band)\n\u001b[32m     18\u001b[39m ds = xr.Dataset({\n\u001b[32m---> \u001b[39m\u001b[32m19\u001b[39m     name: xr.concat(series, dim=\u001b[33m\"\u001b[39m\u001b[33mtime\u001b[39m\u001b[33m\"\u001b[39m)\n\u001b[32m     20\u001b[39m     \u001b[38;5;28;01mfor\u001b[39;00m name, series \u001b[38;5;129;01min\u001b[39;00m band_series.items()\n\u001b[32m     21\u001b[39m })\n",
      "\u001b[36mFile \u001b[39m\u001b[32m/opt/anaconda3/envs/CS191W/lib/python3.11/site-packages/xarray/core/concat.py:264\u001b[39m, in \u001b[36mconcat\u001b[39m\u001b[34m(objs, dim, data_vars, coords, compat, positions, fill_value, join, combine_attrs, create_index_for_new_dim)\u001b[39m\n\u001b[32m    259\u001b[39m     \u001b[38;5;28;01mraise\u001b[39;00m \u001b[38;5;167;01mValueError\u001b[39;00m(\n\u001b[32m    260\u001b[39m         \u001b[33mf\u001b[39m\u001b[33m\"\u001b[39m\u001b[33mcompat=\u001b[39m\u001b[38;5;132;01m{\u001b[39;00mcompat\u001b[38;5;132;01m!r}\u001b[39;00m\u001b[33m invalid: must be \u001b[39m\u001b[33m'\u001b[39m\u001b[33mbroadcast_equals\u001b[39m\u001b[33m'\u001b[39m\u001b[33m, \u001b[39m\u001b[33m'\u001b[39m\u001b[33mequals\u001b[39m\u001b[33m'\u001b[39m\u001b[33m, \u001b[39m\u001b[33m'\u001b[39m\u001b[33midentical\u001b[39m\u001b[33m'\u001b[39m\u001b[33m, \u001b[39m\u001b[33m'\u001b[39m\u001b[33mno_conflicts\u001b[39m\u001b[33m'\u001b[39m\u001b[33m or \u001b[39m\u001b[33m'\u001b[39m\u001b[33moverride\u001b[39m\u001b[33m'\u001b[39m\u001b[33m\"\u001b[39m\n\u001b[32m    261\u001b[39m     )\n\u001b[32m    263\u001b[39m \u001b[38;5;28;01mif\u001b[39;00m \u001b[38;5;28misinstance\u001b[39m(first_obj, DataArray):\n\u001b[32m--> \u001b[39m\u001b[32m264\u001b[39m     \u001b[38;5;28;01mreturn\u001b[39;00m _dataarray_concat(\n\u001b[32m    265\u001b[39m         objs,\n\u001b[32m    266\u001b[39m         dim=dim,\n\u001b[32m    267\u001b[39m         data_vars=data_vars,\n\u001b[32m    268\u001b[39m         coords=coords,\n\u001b[32m    269\u001b[39m         compat=compat,\n\u001b[32m    270\u001b[39m         positions=positions,\n\u001b[32m    271\u001b[39m         fill_value=fill_value,\n\u001b[32m    272\u001b[39m         join=join,\n\u001b[32m    273\u001b[39m         combine_attrs=combine_attrs,\n\u001b[32m    274\u001b[39m         create_index_for_new_dim=create_index_for_new_dim,\n\u001b[32m    275\u001b[39m     )\n\u001b[32m    276\u001b[39m \u001b[38;5;28;01melif\u001b[39;00m \u001b[38;5;28misinstance\u001b[39m(first_obj, Dataset):\n\u001b[32m    277\u001b[39m     \u001b[38;5;28;01mreturn\u001b[39;00m _dataset_concat(\n\u001b[32m    278\u001b[39m         objs,\n\u001b[32m    279\u001b[39m         dim=dim,\n\u001b[32m   (...)\u001b[39m\u001b[32m    287\u001b[39m         create_index_for_new_dim=create_index_for_new_dim,\n\u001b[32m    288\u001b[39m     )\n",
      "\u001b[36mFile \u001b[39m\u001b[32m/opt/anaconda3/envs/CS191W/lib/python3.11/site-packages/xarray/core/concat.py:755\u001b[39m, in \u001b[36m_dataarray_concat\u001b[39m\u001b[34m(arrays, dim, data_vars, coords, compat, positions, fill_value, join, combine_attrs, create_index_for_new_dim)\u001b[39m\n\u001b[32m    752\u001b[39m             arr = arr.rename(name)\n\u001b[32m    753\u001b[39m     datasets.append(arr._to_temp_dataset())\n\u001b[32m--> \u001b[39m\u001b[32m755\u001b[39m ds = _dataset_concat(\n\u001b[32m    756\u001b[39m     datasets,\n\u001b[32m    757\u001b[39m     dim,\n\u001b[32m    758\u001b[39m     data_vars,\n\u001b[32m    759\u001b[39m     coords,\n\u001b[32m    760\u001b[39m     compat,\n\u001b[32m    761\u001b[39m     positions,\n\u001b[32m    762\u001b[39m     fill_value=fill_value,\n\u001b[32m    763\u001b[39m     join=join,\n\u001b[32m    764\u001b[39m     combine_attrs=combine_attrs,\n\u001b[32m    765\u001b[39m     create_index_for_new_dim=create_index_for_new_dim,\n\u001b[32m    766\u001b[39m )\n\u001b[32m    768\u001b[39m merged_attrs = merge_attrs([da.attrs \u001b[38;5;28;01mfor\u001b[39;00m da \u001b[38;5;129;01min\u001b[39;00m arrays], combine_attrs)\n\u001b[32m    770\u001b[39m result = arrays[\u001b[32m0\u001b[39m]._from_temp_dataset(ds, name)\n",
      "\u001b[36mFile \u001b[39m\u001b[32m/opt/anaconda3/envs/CS191W/lib/python3.11/site-packages/xarray/core/concat.py:539\u001b[39m, in \u001b[36m_dataset_concat\u001b[39m\u001b[34m(datasets, dim, data_vars, coords, compat, positions, fill_value, join, combine_attrs, create_index_for_new_dim)\u001b[39m\n\u001b[32m    535\u001b[39m \u001b[38;5;66;03m# case where concat dimension is a coordinate or data_var but not a dimension\u001b[39;00m\n\u001b[32m    536\u001b[39m \u001b[38;5;28;01mif\u001b[39;00m (\n\u001b[32m    537\u001b[39m     dim_name \u001b[38;5;129;01min\u001b[39;00m coord_names \u001b[38;5;129;01mor\u001b[39;00m dim_name \u001b[38;5;129;01min\u001b[39;00m data_names\n\u001b[32m    538\u001b[39m ) \u001b[38;5;129;01mand\u001b[39;00m dim_name \u001b[38;5;129;01mnot\u001b[39;00m \u001b[38;5;129;01min\u001b[39;00m dim_names:\n\u001b[32m--> \u001b[39m\u001b[32m539\u001b[39m     datasets = [\n\u001b[32m    540\u001b[39m         ds.expand_dims(dim_name, create_index_for_new_dim=create_index_for_new_dim)\n\u001b[32m    541\u001b[39m         \u001b[38;5;28;01mfor\u001b[39;00m ds \u001b[38;5;129;01min\u001b[39;00m datasets\n\u001b[32m    542\u001b[39m     ]\n\u001b[32m    544\u001b[39m \u001b[38;5;66;03m# determine which variables to concatenate\u001b[39;00m\n\u001b[32m    545\u001b[39m concat_over, equals, concat_dim_lengths = _calc_concat_over(\n\u001b[32m    546\u001b[39m     datasets, dim_name, dim_names, data_vars, coords, compat\n\u001b[32m    547\u001b[39m )\n",
      "\u001b[36mFile \u001b[39m\u001b[32m/opt/anaconda3/envs/CS191W/lib/python3.11/site-packages/xarray/core/concat.py:540\u001b[39m, in \u001b[36m<listcomp>\u001b[39m\u001b[34m(.0)\u001b[39m\n\u001b[32m    535\u001b[39m \u001b[38;5;66;03m# case where concat dimension is a coordinate or data_var but not a dimension\u001b[39;00m\n\u001b[32m    536\u001b[39m \u001b[38;5;28;01mif\u001b[39;00m (\n\u001b[32m    537\u001b[39m     dim_name \u001b[38;5;129;01min\u001b[39;00m coord_names \u001b[38;5;129;01mor\u001b[39;00m dim_name \u001b[38;5;129;01min\u001b[39;00m data_names\n\u001b[32m    538\u001b[39m ) \u001b[38;5;129;01mand\u001b[39;00m dim_name \u001b[38;5;129;01mnot\u001b[39;00m \u001b[38;5;129;01min\u001b[39;00m dim_names:\n\u001b[32m    539\u001b[39m     datasets = [\n\u001b[32m--> \u001b[39m\u001b[32m540\u001b[39m         ds.expand_dims(dim_name, create_index_for_new_dim=create_index_for_new_dim)\n\u001b[32m    541\u001b[39m         \u001b[38;5;28;01mfor\u001b[39;00m ds \u001b[38;5;129;01min\u001b[39;00m datasets\n\u001b[32m    542\u001b[39m     ]\n\u001b[32m    544\u001b[39m \u001b[38;5;66;03m# determine which variables to concatenate\u001b[39;00m\n\u001b[32m    545\u001b[39m concat_over, equals, concat_dim_lengths = _calc_concat_over(\n\u001b[32m    546\u001b[39m     datasets, dim_name, dim_names, data_vars, coords, compat\n\u001b[32m    547\u001b[39m )\n",
      "\u001b[36mFile \u001b[39m\u001b[32m/opt/anaconda3/envs/CS191W/lib/python3.11/site-packages/xarray/core/dataset.py:4913\u001b[39m, in \u001b[36mDataset.expand_dims\u001b[39m\u001b[34m(self, dim, axis, create_index_for_new_dim, **dim_kwargs)\u001b[39m\n\u001b[32m   4911\u001b[39m         \u001b[38;5;28;01mfor\u001b[39;00m d, c \u001b[38;5;129;01min\u001b[39;00m zip_axis_dim:\n\u001b[32m   4912\u001b[39m             all_dims.insert(d, c)\n\u001b[32m-> \u001b[39m\u001b[32m4913\u001b[39m         variables[k] = v.set_dims(\u001b[38;5;28mdict\u001b[39m(all_dims))\n\u001b[32m   4914\u001b[39m \u001b[38;5;28;01melse\u001b[39;00m:\n\u001b[32m   4915\u001b[39m     \u001b[38;5;28;01mif\u001b[39;00m k \u001b[38;5;129;01mnot\u001b[39;00m \u001b[38;5;129;01min\u001b[39;00m variables:\n",
      "\u001b[36mFile \u001b[39m\u001b[32m/opt/anaconda3/envs/CS191W/lib/python3.11/site-packages/xarray/util/deprecation_helpers.py:143\u001b[39m, in \u001b[36mdeprecate_dims.<locals>.wrapper\u001b[39m\u001b[34m(*args, **kwargs)\u001b[39m\n\u001b[32m    135\u001b[39m     emit_user_level_warning(\n\u001b[32m    136\u001b[39m         \u001b[33mf\u001b[39m\u001b[33m\"\u001b[39m\u001b[33mThe `\u001b[39m\u001b[38;5;132;01m{\u001b[39;00mold_name\u001b[38;5;132;01m}\u001b[39;00m\u001b[33m` argument has been renamed to `dim`, and will be removed \u001b[39m\u001b[33m\"\u001b[39m\n\u001b[32m    137\u001b[39m         \u001b[33m\"\u001b[39m\u001b[33min the future. This renaming is taking place throughout xarray over the \u001b[39m\u001b[33m\"\u001b[39m\n\u001b[32m   (...)\u001b[39m\u001b[32m    140\u001b[39m         \u001b[38;5;167;01mPendingDeprecationWarning\u001b[39;00m,\n\u001b[32m    141\u001b[39m     )\n\u001b[32m    142\u001b[39m     kwargs[\u001b[33m\"\u001b[39m\u001b[33mdim\u001b[39m\u001b[33m\"\u001b[39m] = kwargs.pop(old_name)\n\u001b[32m--> \u001b[39m\u001b[32m143\u001b[39m \u001b[38;5;28;01mreturn\u001b[39;00m func(*args, **kwargs)\n",
      "\u001b[36mFile \u001b[39m\u001b[32m/opt/anaconda3/envs/CS191W/lib/python3.11/site-packages/xarray/core/variable.py:1425\u001b[39m, in \u001b[36mVariable.set_dims\u001b[39m\u001b[34m(self, dim, shape)\u001b[39m\n\u001b[32m   1423\u001b[39m     dims_map = \u001b[38;5;28mdict\u001b[39m(\u001b[38;5;28mzip\u001b[39m(dim, shape, strict=\u001b[38;5;28;01mTrue\u001b[39;00m))\n\u001b[32m   1424\u001b[39m     tmp_shape = \u001b[38;5;28mtuple\u001b[39m(dims_map[d] \u001b[38;5;28;01mfor\u001b[39;00m d \u001b[38;5;129;01min\u001b[39;00m expanded_dims)\n\u001b[32m-> \u001b[39m\u001b[32m1425\u001b[39m     expanded_data = duck_array_ops.broadcast_to(\u001b[38;5;28mself\u001b[39m.data, tmp_shape)\n\u001b[32m   1426\u001b[39m \u001b[38;5;28;01melse\u001b[39;00m:\n\u001b[32m   1427\u001b[39m     indexer = (\u001b[38;5;28;01mNone\u001b[39;00m,) * (\u001b[38;5;28mlen\u001b[39m(expanded_dims) - \u001b[38;5;28mself\u001b[39m.ndim) + (...,)\n",
      "\u001b[36mFile \u001b[39m\u001b[32m/opt/anaconda3/envs/CS191W/lib/python3.11/site-packages/xarray/core/variable.py:474\u001b[39m, in \u001b[36mVariable.data\u001b[39m\u001b[34m(self)\u001b[39m\n\u001b[32m    472\u001b[39m     \u001b[38;5;28;01mreturn\u001b[39;00m \u001b[38;5;28mself\u001b[39m._data\n\u001b[32m    473\u001b[39m \u001b[38;5;28;01melif\u001b[39;00m \u001b[38;5;28misinstance\u001b[39m(\u001b[38;5;28mself\u001b[39m._data, indexing.ExplicitlyIndexed):\n\u001b[32m--> \u001b[39m\u001b[32m474\u001b[39m     \u001b[38;5;28;01mreturn\u001b[39;00m \u001b[38;5;28mself\u001b[39m._data.get_duck_array()\n\u001b[32m    475\u001b[39m \u001b[38;5;28;01melse\u001b[39;00m:\n\u001b[32m    476\u001b[39m     \u001b[38;5;28;01mreturn\u001b[39;00m \u001b[38;5;28mself\u001b[39m.values\n",
      "\u001b[36mFile \u001b[39m\u001b[32m/opt/anaconda3/envs/CS191W/lib/python3.11/site-packages/xarray/core/indexing.py:840\u001b[39m, in \u001b[36mMemoryCachedArray.get_duck_array\u001b[39m\u001b[34m(self)\u001b[39m\n\u001b[32m    839\u001b[39m \u001b[38;5;28;01mdef\u001b[39;00m\u001b[38;5;250m \u001b[39m\u001b[34mget_duck_array\u001b[39m(\u001b[38;5;28mself\u001b[39m):\n\u001b[32m--> \u001b[39m\u001b[32m840\u001b[39m     \u001b[38;5;28mself\u001b[39m._ensure_cached()\n\u001b[32m    841\u001b[39m     \u001b[38;5;28;01mreturn\u001b[39;00m \u001b[38;5;28mself\u001b[39m.array.get_duck_array()\n",
      "\u001b[36mFile \u001b[39m\u001b[32m/opt/anaconda3/envs/CS191W/lib/python3.11/site-packages/xarray/core/indexing.py:837\u001b[39m, in \u001b[36mMemoryCachedArray._ensure_cached\u001b[39m\u001b[34m(self)\u001b[39m\n\u001b[32m    836\u001b[39m \u001b[38;5;28;01mdef\u001b[39;00m\u001b[38;5;250m \u001b[39m\u001b[34m_ensure_cached\u001b[39m(\u001b[38;5;28mself\u001b[39m):\n\u001b[32m--> \u001b[39m\u001b[32m837\u001b[39m     \u001b[38;5;28mself\u001b[39m.array = as_indexable(\u001b[38;5;28mself\u001b[39m.array.get_duck_array())\n",
      "\u001b[36mFile \u001b[39m\u001b[32m/opt/anaconda3/envs/CS191W/lib/python3.11/site-packages/xarray/core/indexing.py:794\u001b[39m, in \u001b[36mCopyOnWriteArray.get_duck_array\u001b[39m\u001b[34m(self)\u001b[39m\n\u001b[32m    793\u001b[39m \u001b[38;5;28;01mdef\u001b[39;00m\u001b[38;5;250m \u001b[39m\u001b[34mget_duck_array\u001b[39m(\u001b[38;5;28mself\u001b[39m):\n\u001b[32m--> \u001b[39m\u001b[32m794\u001b[39m     \u001b[38;5;28;01mreturn\u001b[39;00m \u001b[38;5;28mself\u001b[39m.array.get_duck_array()\n",
      "\u001b[36mFile \u001b[39m\u001b[32m/opt/anaconda3/envs/CS191W/lib/python3.11/site-packages/xarray/core/indexing.py:657\u001b[39m, in \u001b[36mLazilyIndexedArray.get_duck_array\u001b[39m\u001b[34m(self)\u001b[39m\n\u001b[32m    653\u001b[39m     array = apply_indexer(\u001b[38;5;28mself\u001b[39m.array, \u001b[38;5;28mself\u001b[39m.key)\n\u001b[32m    654\u001b[39m \u001b[38;5;28;01melse\u001b[39;00m:\n\u001b[32m    655\u001b[39m     \u001b[38;5;66;03m# If the array is not an ExplicitlyIndexedNDArrayMixin,\u001b[39;00m\n\u001b[32m    656\u001b[39m     \u001b[38;5;66;03m# it may wrap a BackendArray so use its __getitem__\u001b[39;00m\n\u001b[32m--> \u001b[39m\u001b[32m657\u001b[39m     array = \u001b[38;5;28mself\u001b[39m.array[\u001b[38;5;28mself\u001b[39m.key]\n\u001b[32m    659\u001b[39m \u001b[38;5;66;03m# self.array[self.key] is now a numpy array when\u001b[39;00m\n\u001b[32m    660\u001b[39m \u001b[38;5;66;03m# self.array is a BackendArray subclass\u001b[39;00m\n\u001b[32m    661\u001b[39m \u001b[38;5;66;03m# and self.key is BasicIndexer((slice(None, None, None),))\u001b[39;00m\n\u001b[32m    662\u001b[39m \u001b[38;5;66;03m# so we need the explicit check for ExplicitlyIndexed\u001b[39;00m\n\u001b[32m    663\u001b[39m \u001b[38;5;28;01mif\u001b[39;00m \u001b[38;5;28misinstance\u001b[39m(array, ExplicitlyIndexed):\n",
      "\u001b[36mFile \u001b[39m\u001b[32m/opt/anaconda3/envs/CS191W/lib/python3.11/site-packages/rioxarray/_io.py:456\u001b[39m, in \u001b[36mRasterioArrayWrapper.__getitem__\u001b[39m\u001b[34m(self, key)\u001b[39m\n\u001b[32m    455\u001b[39m \u001b[38;5;28;01mdef\u001b[39;00m\u001b[38;5;250m \u001b[39m\u001b[34m__getitem__\u001b[39m(\u001b[38;5;28mself\u001b[39m, key):\n\u001b[32m--> \u001b[39m\u001b[32m456\u001b[39m     \u001b[38;5;28;01mreturn\u001b[39;00m indexing.explicit_indexing_adapter(\n\u001b[32m    457\u001b[39m         key, \u001b[38;5;28mself\u001b[39m.shape, indexing.IndexingSupport.OUTER, \u001b[38;5;28mself\u001b[39m._getitem\n\u001b[32m    458\u001b[39m     )\n",
      "\u001b[36mFile \u001b[39m\u001b[32m/opt/anaconda3/envs/CS191W/lib/python3.11/site-packages/xarray/core/indexing.py:1018\u001b[39m, in \u001b[36mexplicit_indexing_adapter\u001b[39m\u001b[34m(key, shape, indexing_support, raw_indexing_method)\u001b[39m\n\u001b[32m    996\u001b[39m \u001b[38;5;250m\u001b[39m\u001b[33;03m\"\"\"Support explicit indexing by delegating to a raw indexing method.\u001b[39;00m\n\u001b[32m    997\u001b[39m \n\u001b[32m    998\u001b[39m \u001b[33;03mOuter and/or vectorized indexers are supported by indexing a second time\u001b[39;00m\n\u001b[32m   (...)\u001b[39m\u001b[32m   1015\u001b[39m \u001b[33;03mIndexing result, in the form of a duck numpy-array.\u001b[39;00m\n\u001b[32m   1016\u001b[39m \u001b[33;03m\"\"\"\u001b[39;00m\n\u001b[32m   1017\u001b[39m raw_key, numpy_indices = decompose_indexer(key, shape, indexing_support)\n\u001b[32m-> \u001b[39m\u001b[32m1018\u001b[39m result = raw_indexing_method(raw_key.tuple)\n\u001b[32m   1019\u001b[39m \u001b[38;5;28;01mif\u001b[39;00m numpy_indices.tuple:\n\u001b[32m   1020\u001b[39m     \u001b[38;5;66;03m# index the loaded np.ndarray\u001b[39;00m\n\u001b[32m   1021\u001b[39m     indexable = NumpyIndexingAdapter(result)\n",
      "\u001b[36mFile \u001b[39m\u001b[32m/opt/anaconda3/envs/CS191W/lib/python3.11/site-packages/rioxarray/_io.py:431\u001b[39m, in \u001b[36mRasterioArrayWrapper._getitem\u001b[39m\u001b[34m(self, key)\u001b[39m\n\u001b[32m    428\u001b[39m \u001b[38;5;28;01melse\u001b[39;00m:\n\u001b[32m    429\u001b[39m     \u001b[38;5;28;01mwith\u001b[39;00m \u001b[38;5;28mself\u001b[39m.lock:\n\u001b[32m    430\u001b[39m         riods = _ensure_warped_vrt(\n\u001b[32m--> \u001b[39m\u001b[32m431\u001b[39m             \u001b[38;5;28mself\u001b[39m.manager.acquire(needs_lock=\u001b[38;5;28;01mFalse\u001b[39;00m), \u001b[38;5;28mself\u001b[39m.vrt_params\n\u001b[32m    432\u001b[39m         )\n\u001b[32m    433\u001b[39m         out = riods.read(band_key, window=window, masked=\u001b[38;5;28mself\u001b[39m.masked)\n\u001b[32m    434\u001b[39m         \u001b[38;5;28;01mif\u001b[39;00m \u001b[38;5;28mself\u001b[39m._unsigned_dtype \u001b[38;5;129;01mis\u001b[39;00m \u001b[38;5;129;01mnot\u001b[39;00m \u001b[38;5;28;01mNone\u001b[39;00m:\n",
      "\u001b[36mFile \u001b[39m\u001b[32m/opt/anaconda3/envs/CS191W/lib/python3.11/site-packages/xarray/backends/file_manager.py:193\u001b[39m, in \u001b[36mCachingFileManager.acquire\u001b[39m\u001b[34m(self, needs_lock)\u001b[39m\n\u001b[32m    178\u001b[39m \u001b[38;5;28;01mdef\u001b[39;00m\u001b[38;5;250m \u001b[39m\u001b[34macquire\u001b[39m(\u001b[38;5;28mself\u001b[39m, needs_lock=\u001b[38;5;28;01mTrue\u001b[39;00m):\n\u001b[32m    179\u001b[39m \u001b[38;5;250m    \u001b[39m\u001b[33;03m\"\"\"Acquire a file object from the manager.\u001b[39;00m\n\u001b[32m    180\u001b[39m \n\u001b[32m    181\u001b[39m \u001b[33;03m    A new file is only opened if it has expired from the\u001b[39;00m\n\u001b[32m   (...)\u001b[39m\u001b[32m    191\u001b[39m \u001b[33;03m        An open file object, as returned by ``opener(*args, **kwargs)``.\u001b[39;00m\n\u001b[32m    192\u001b[39m \u001b[33;03m    \"\"\"\u001b[39;00m\n\u001b[32m--> \u001b[39m\u001b[32m193\u001b[39m     file, _ = \u001b[38;5;28mself\u001b[39m._acquire_with_cache_info(needs_lock)\n\u001b[32m    194\u001b[39m     \u001b[38;5;28;01mreturn\u001b[39;00m file\n",
      "\u001b[36mFile \u001b[39m\u001b[32m/opt/anaconda3/envs/CS191W/lib/python3.11/site-packages/xarray/backends/file_manager.py:217\u001b[39m, in \u001b[36mCachingFileManager._acquire_with_cache_info\u001b[39m\u001b[34m(self, needs_lock)\u001b[39m\n\u001b[32m    215\u001b[39m     kwargs = kwargs.copy()\n\u001b[32m    216\u001b[39m     kwargs[\u001b[33m\"\u001b[39m\u001b[33mmode\u001b[39m\u001b[33m\"\u001b[39m] = \u001b[38;5;28mself\u001b[39m._mode\n\u001b[32m--> \u001b[39m\u001b[32m217\u001b[39m file = \u001b[38;5;28mself\u001b[39m._opener(*\u001b[38;5;28mself\u001b[39m._args, **kwargs)\n\u001b[32m    218\u001b[39m \u001b[38;5;28;01mif\u001b[39;00m \u001b[38;5;28mself\u001b[39m._mode == \u001b[33m\"\u001b[39m\u001b[33mw\u001b[39m\u001b[33m\"\u001b[39m:\n\u001b[32m    219\u001b[39m     \u001b[38;5;66;03m# ensure file doesn't get overridden when opened again\u001b[39;00m\n\u001b[32m    220\u001b[39m     \u001b[38;5;28mself\u001b[39m._mode = \u001b[33m\"\u001b[39m\u001b[33ma\u001b[39m\u001b[33m\"\u001b[39m\n",
      "\u001b[36mFile \u001b[39m\u001b[32m/opt/anaconda3/envs/CS191W/lib/python3.11/site-packages/rasterio/env.py:463\u001b[39m, in \u001b[36mensure_env_with_credentials.<locals>.wrapper\u001b[39m\u001b[34m(*args, **kwds)\u001b[39m\n\u001b[32m    460\u001b[39m     session = DummySession()\n\u001b[32m    462\u001b[39m \u001b[38;5;28;01mwith\u001b[39;00m env_ctor(session=session):\n\u001b[32m--> \u001b[39m\u001b[32m463\u001b[39m     \u001b[38;5;28;01mreturn\u001b[39;00m f(*args, **kwds)\n",
      "\u001b[36mFile \u001b[39m\u001b[32m/opt/anaconda3/envs/CS191W/lib/python3.11/site-packages/rasterio/__init__.py:356\u001b[39m, in \u001b[36mopen\u001b[39m\u001b[34m(fp, mode, driver, width, height, count, crs, transform, dtype, nodata, sharing, opener, **kwargs)\u001b[39m\n\u001b[32m    353\u001b[39m     path = _parse_path(raw_dataset_path)\n\u001b[32m    355\u001b[39m \u001b[38;5;28;01mif\u001b[39;00m mode == \u001b[33m\"\u001b[39m\u001b[33mr\u001b[39m\u001b[33m\"\u001b[39m:\n\u001b[32m--> \u001b[39m\u001b[32m356\u001b[39m     dataset = DatasetReader(path, driver=driver, sharing=sharing, **kwargs)\n\u001b[32m    357\u001b[39m \u001b[38;5;28;01melif\u001b[39;00m mode == \u001b[33m\"\u001b[39m\u001b[33mr+\u001b[39m\u001b[33m\"\u001b[39m:\n\u001b[32m    358\u001b[39m     dataset = get_writer_for_path(path, driver=driver)(\n\u001b[32m    359\u001b[39m         path, mode, driver=driver, sharing=sharing, **kwargs\n\u001b[32m    360\u001b[39m     )\n",
      "\u001b[36mFile \u001b[39m\u001b[32mrasterio/_base.pyx:331\u001b[39m, in \u001b[36mrasterio._base.DatasetBase.__init__\u001b[39m\u001b[34m()\u001b[39m\n",
      "\u001b[36mFile \u001b[39m\u001b[32mrasterio/_base.pyx:353\u001b[39m, in \u001b[36mrasterio._base.DatasetBase._set_attrs_from_dataset_handle\u001b[39m\u001b[34m()\u001b[39m\n",
      "\u001b[36mFile \u001b[39m\u001b[32mrasterio/_base.pyx:970\u001b[39m, in \u001b[36mrasterio._base.DatasetBase.meta.__get__\u001b[39m\u001b[34m()\u001b[39m\n",
      "\u001b[36mFile \u001b[39m\u001b[32mrasterio/_base.pyx:603\u001b[39m, in \u001b[36mrasterio._base.DatasetBase.nodata.__get__\u001b[39m\u001b[34m()\u001b[39m\n",
      "\u001b[36mFile \u001b[39m\u001b[32mrasterio/_base.pyx:584\u001b[39m, in \u001b[36mrasterio._base.DatasetBase.nodatavals.__get__\u001b[39m\u001b[34m()\u001b[39m\n",
      "\u001b[36mFile \u001b[39m\u001b[32mrasterio/_base.pyx:566\u001b[39m, in \u001b[36mrasterio._base.DatasetBase.get_nodatavals\u001b[39m\u001b[34m()\u001b[39m\n",
      "\u001b[36mFile \u001b[39m\u001b[32m/opt/anaconda3/envs/CS191W/lib/python3.11/logging/__init__.py:1467\u001b[39m, in \u001b[36mLogger.debug\u001b[39m\u001b[34m(self, msg, *args, **kwargs)\u001b[39m\n\u001b[32m   1464\u001b[39m     \u001b[38;5;28mself\u001b[39m.level = _checkLevel(level)\n\u001b[32m   1465\u001b[39m     \u001b[38;5;28mself\u001b[39m.manager._clear_cache()\n\u001b[32m-> \u001b[39m\u001b[32m1467\u001b[39m \u001b[38;5;28;01mdef\u001b[39;00m\u001b[38;5;250m \u001b[39m\u001b[34mdebug\u001b[39m(\u001b[38;5;28mself\u001b[39m, msg, *args, **kwargs):\n\u001b[32m   1468\u001b[39m \u001b[38;5;250m    \u001b[39m\u001b[33;03m\"\"\"\u001b[39;00m\n\u001b[32m   1469\u001b[39m \u001b[33;03m    Log 'msg % args' with severity 'DEBUG'.\u001b[39;00m\n\u001b[32m   1470\u001b[39m \n\u001b[32m   (...)\u001b[39m\u001b[32m   1474\u001b[39m \u001b[33;03m    logger.debug(\"Houston, we have a %s\", \"thorny problem\", exc_info=True)\u001b[39;00m\n\u001b[32m   1475\u001b[39m \u001b[33;03m    \"\"\"\u001b[39;00m\n\u001b[32m   1476\u001b[39m     \u001b[38;5;28;01mif\u001b[39;00m \u001b[38;5;28mself\u001b[39m.isEnabledFor(DEBUG):\n",
      "\u001b[31mKeyboardInterrupt\u001b[39m: "
     ]
    }
   ],
   "source": [
    "band_names = ['pm25_t', 'u_wind_t', 'v_wind_t', 'dew_temp_t', 'temp_t', \n",
    "              'surf_pressure_t', 'precip_t', 'frp_t', 'elevation_t', 'delta_pm25_t+1']\n",
    "\n",
    "files = sorted(glob.glob(\"../dataset_1/*.tif\"))\n",
    "band_series = {name: [] for name in band_names}\n",
    "\n",
    "for fn in files:\n",
    "    date = pd.to_datetime(fn.split(\"_\")[-1].split(\".tif\")[0])\n",
    "    da_multi = rioxarray.open_rasterio(fn)  # dims: (band, y, x)\n",
    "\n",
    "    for idx, name in enumerate(band_names):\n",
    "        # pick the idx-th band, then drop the band dim entirely:\n",
    "        da_band = da_multi.isel(band=idx, drop=True)\n",
    "        da_band = da_band.rename(name)           # name the variable\n",
    "        da_band = da_band.assign_coords(time=date)\n",
    "        band_series[name].append(da_band)\n",
    "\n",
    "ds = xr.Dataset({\n",
    "    name: xr.concat(series, dim=\"time\")\n",
    "    for name, series in band_series.items()\n",
    "})"
   ]
  },
  {
   "cell_type": "code",
   "execution_count": null,
   "id": "9fccc758",
   "metadata": {},
   "outputs": [],
   "source": [
    "# replace coordinates with row/col indices\n",
    "ds = ds.rename({'y':'i','x':'j'})\n",
    "ds = ds.assign_coords(\n",
    "    i=np.arange(ds.sizes['i']),\n",
    "    j=np.arange(ds.sizes['j']),\n",
    ")\n",
    "\n",
    "# clean up data variables, generate lagged delta_pm25\n",
    "ds = ds.drop_vars('spatial_ref')\n",
    "ds['delta_pm25_t'] = ds['delta_pm25_t+1'].shift(time=1)\n",
    "ds = ds.dropna(dim=\"time\", how=\"any\")"
   ]
  },
  {
   "cell_type": "code",
   "execution_count": null,
   "id": "1a0be0a6",
   "metadata": {},
   "outputs": [],
   "source": [
    "# Export to cdf\n",
    "ds.to_netcdf(\n",
    "    \"base.nc\",\n",
    "    format=\"NETCDF4\",       \n",
    "    engine=\"netcdf4\",      \n",
    "    encoding={\n",
    "        var: {\n",
    "            \"zlib\": True,\n",
    "            \"complevel\": 4,\n",
    "        }\n",
    "        for var in ds.data_vars\n",
    "    }\n",
    ")"
   ]
  }
 ],
 "metadata": {
  "kernelspec": {
   "display_name": "CS191W",
   "language": "python",
   "name": "python3"
  },
  "language_info": {
   "codemirror_mode": {
    "name": "ipython",
    "version": 3
   },
   "file_extension": ".py",
   "mimetype": "text/x-python",
   "name": "python",
   "nbconvert_exporter": "python",
   "pygments_lexer": "ipython3",
   "version": "3.11.9"
  }
 },
 "nbformat": 4,
 "nbformat_minor": 5
}
