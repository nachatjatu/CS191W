{
 "cells": [
  {
   "cell_type": "markdown",
   "metadata": {},
   "source": [
    "# Data preprocessing and export from GEE\n",
    "Nachat Jatusripitak"
   ]
  },
  {
   "cell_type": "code",
   "execution_count": 2,
   "metadata": {},
   "outputs": [],
   "source": [
    "\"\"\"\n",
    "--------------------------------------------------------------------------------\n",
    "Set up GEE API\n",
    "--------------------------------------------------------------------------------\n",
    "\"\"\"\n",
    "import ee\n",
    "import geemap\n",
    "import geetools\n",
    "import time\n",
    "from pprint import pprint\n",
    "\n",
    "ee.Authenticate(auth_mode='notebook')\n",
    "ee.Initialize(project='ee-thailand-pm')\n",
    "\n",
    "import src.GEE_utils as GEE_utils"
   ]
  },
  {
   "cell_type": "code",
   "execution_count": null,
   "metadata": {},
   "outputs": [
    {
     "data": {
      "text/html": [
       "\n",
       "            <style>\n",
       "                .geemap-dark {\n",
       "                    --jp-widgets-color: white;\n",
       "                    --jp-widgets-label-color: white;\n",
       "                    --jp-ui-font-color1: white;\n",
       "                    --jp-layout-color2: #454545;\n",
       "                    background-color: #383838;\n",
       "                }\n",
       "\n",
       "                .geemap-dark .jupyter-button {\n",
       "                    --jp-layout-color3: #383838;\n",
       "                }\n",
       "\n",
       "                .geemap-colab {\n",
       "                    background-color: var(--colab-primary-surface-color, white);\n",
       "                }\n",
       "\n",
       "                .geemap-colab .jupyter-button {\n",
       "                    --jp-layout-color3: var(--colab-primary-surface-color, white);\n",
       "                }\n",
       "            </style>\n",
       "            "
      ],
      "text/plain": [
       "<IPython.core.display.HTML object>"
      ]
     },
     "metadata": {},
     "output_type": "display_data"
    },
    {
     "name": "stdout",
     "output_type": "stream",
     "text": [
      "11131.949079327358\n",
      "2020-03-25 2020-03-25 0\n",
      "['pm25_today', 'u_wind_10m', 'v_wind_10m', 'dew_temp_2m', 'temp_2m', 'surf_pressure', 'precip_sum', 'frp', 'elevation', 'pm25_change']\n"
     ]
    },
    {
     "data": {
      "application/vnd.jupyter.widget-view+json": {
       "model_id": "3c3ad8a7613e4b749a90161e6ac79da9",
       "version_major": 2,
       "version_minor": 0
      },
      "text/plain": [
       "Map(center=[18.99057101597028, 99.7596772096937], controls=(WidgetControl(options=['position', 'transparent_bg…"
      ]
     },
     "execution_count": 20,
     "metadata": {},
     "output_type": "execute_result"
    }
   ],
   "source": [
    "\"\"\"\n",
    "--------------------------------------------------------------------------------\n",
    "Preprocess data and export as images to Google Drive\n",
    "--------------------------------------------------------------------------------\n",
    "\"\"\"\n",
    "\n",
    "START_DATE = ee.Date('2020-03-25')\n",
    "END_DATE = ee.Date('2020-03-25')\n",
    "CHUNK_SIZE = 1\n",
    "\n",
    "# Initialize Map (for visualization)\n",
    "Map = geemap.Map()\n",
    "Map.addLayer(GRID, {}, 'grid')\n",
    "Map.centerObject(ROI, zoom = 6)\n",
    "\n",
    "# Import datasets as ImageCollections\n",
    "pm25_ic = ee.ImageCollection('projects/sat-io/open-datasets/GHAP/GHAP_D1K_PM25')\n",
    "weather_ic = ee.ImageCollection('ECMWF/ERA5_LAND/DAILY_AGGR')\n",
    "fire_ic = ee.ImageCollection('NASA/VIIRS/002/VNP14A1')\n",
    "lc_ic = ee.ImageCollection(\"projects/sat-io/open-datasets/landcover/ESRI_Global-LULC_10m_TS\")\n",
    "terrain_img = ee.Image('CGIAR/SRTM90_V4')\n",
    "\n",
    "# retrieve required projection information\n",
    "weather_scale = weather_ic.first().projection().nominalScale()\n",
    "fire_scale = fire_ic.first().projection().nominalScale()\n",
    "\n",
    "PROJ = ee.Projection('EPSG:32647')\n",
    "SIZE = 43                           # how many pixels per side\n",
    "SIZE *= weather_scale.getInfo()\n",
    "CM_X, CM_Y = 580000, 2100000\n",
    "\n",
    "# Define ROI (fixed square region w/ side length SIZE * SCALE)\n",
    "ROI = ee.Geometry.Rectangle(\n",
    "    coords=[\n",
    "        CM_X - SIZE / 2,\n",
    "        CM_Y - SIZE / 2,\n",
    "        CM_X + SIZE / 2,\n",
    "        CM_Y + SIZE / 2\n",
    "    ],\n",
    "    proj=PROJ,\n",
    "    evenOdd=False\n",
    ")\n",
    "\n",
    "GRID = ROI.coveringGrid(PROJ, weather_scale)\n",
    "\n",
    "# Initialize Map (for visualization)\n",
    "Map = geemap.Map()\n",
    "Map.addLayer(GRID, {}, 'grid')\n",
    "Map.centerObject(ROI, zoom = 6)\n",
    "\n",
    "# Store datasets as dictionary for quick reference by helper functions\n",
    "ics = {\n",
    "    'pm25': pm25_ic.filterBounds(ROI),\n",
    "    'weather': weather_ic.filterBounds(ROI),\n",
    "    'fire': fire_ic.filterBounds(ROI),\n",
    "    'lc': lc_ic.filterBounds(ROI)\n",
    "}\n",
    "\n",
    "# Create date range and export pictures\n",
    "num_images = 0\n",
    "current_start = START_DATE\n",
    "while True:\n",
    "    current_end = current_start.advance(CHUNK_SIZE, 'week')\n",
    "    if current_end.millis().getInfo() > END_DATE.millis().getInfo():\n",
    "        current_end = END_DATE\n",
    "\n",
    "    if current_start.millis().getInfo() > END_DATE.millis().getInfo():\n",
    "        break\n",
    "\n",
    "    print(\n",
    "        current_start.format('YYYY-MM-dd').getInfo(),\n",
    "        current_end.format('YYYY-MM-dd').getInfo(),\n",
    "        num_images\n",
    "    )\n",
    "\n",
    "    # Generate images\n",
    "\n",
    "    dates = GEE_utils.create_date_list(current_start, current_end)\n",
    "\n",
    "    image = GEE_utils.create_date_image(ics, terrain_img, weather_scale, fire_scale, START_DATE)\n",
    "\n",
    "    image_list = dates.map(\n",
    "        lambda date: GEE_utils.create_date_image(ics, terrain_img, weather_scale, fire_scale, date)\n",
    "    ).filter(ee.Filter.eq('num_bands', 10))\n",
    "\n",
    "    images = ee.ImageCollection.fromImages(image_list)\n",
    "\n",
    "    # Export image batch\n",
    "\n",
    "    tasks = ee.batch.Export.geetools.imagecollection.toDrive(\n",
    "        imagecollection = images,\n",
    "        index_property = 'date',\n",
    "        description = 'dataset_1',\n",
    "        scale = weather_scale,\n",
    "        crs = PROJ.crs(),\n",
    "        region = ROI,\n",
    "        folder = 'dataset_1',\n",
    "    )\n",
    "\n",
    "    for task in tasks:\n",
    "        time.sleep(0.01)\n",
    "        task.start()\n",
    "\n",
    "    num_images += images.size().getInfo()\n",
    "\n",
    "    current_start = current_end.advance(1, 'day')\n",
    "Map"
   ]
  }
 ],
 "metadata": {
  "kernelspec": {
   "display_name": "CS191W",
   "language": "python",
   "name": "python3"
  },
  "language_info": {
   "codemirror_mode": {
    "name": "ipython",
    "version": 3
   },
   "file_extension": ".py",
   "mimetype": "text/x-python",
   "name": "python",
   "nbconvert_exporter": "python",
   "pygments_lexer": "ipython3",
   "version": "3.11.9"
  }
 },
 "nbformat": 4,
 "nbformat_minor": 2
}
